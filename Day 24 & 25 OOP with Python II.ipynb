{
 "cells": [
  {
   "cell_type": "markdown",
   "id": "644a811f",
   "metadata": {},
   "source": [
    "## OOP with Python II\n",
    "\n",
    "July 4-6 and 11, 2022\n",
    "\n",
    "Udemy Course by Deepali Srivastava"
   ]
  },
  {
   "cell_type": "markdown",
   "id": "ff114bba",
   "metadata": {},
   "source": [
    "### Magic Methods\n",
    "\n",
    "Dunder methods used for operator overloading"
   ]
  },
  {
   "cell_type": "code",
   "execution_count": 148,
   "id": "56509290",
   "metadata": {},
   "outputs": [],
   "source": [
    "class Fraction:\n",
    "    \n",
    "    def __init__(self, nr, dr=1):\n",
    "        if nr < 0 and dr < 0: \n",
    "            nr = abs(nr)\n",
    "            dr = abs(dr)\n",
    "        if dr < 0:\n",
    "            dr = abs(dr)\n",
    "            \n",
    "        self.nr = nr\n",
    "        self.dr = dr\n",
    "        \n",
    "    def show(self):\n",
    "        print(\"{0}/{1}\".format(self.nr, self.dr))\n",
    "        \n",
    "    def __str__(self):\n",
    "        return \"{0}/{1}\".format(self.nr, self.dr)\n",
    "        \n",
    "    def __add__(self, f):\n",
    "        #(n1d2 + n2d1) / (d1*d2)\n",
    "        if type(f) == Fraction:\n",
    "            return Fraction((self.nr*f.dr + f.nr*self.dr), (self.dr*f.dr))\n",
    "        elif type(f) == int:\n",
    "            return Fraction((self.nr + f*self.dr), self.dr)\n",
    "        else:\n",
    "            raise TypeError(\"This method adds a Fraction object to an integer or another Fraction object.\")\n",
    "\n",
    "    def __radd__(self, f):\n",
    "        return self.__add__(f)\n",
    "    \n",
    "    def __sub__(self, f):\n",
    "        #(n1d2 - n2d1) / (d1*d2)\n",
    "        if type(f) == Fraction:\n",
    "            return Fraction((self.nr*f.dr - f.nr*self.dr), (self.dr*f.dr))\n",
    "        elif type(f) == int:\n",
    "            return Fraction((self.nr - f*self.dr), self.dr)\n",
    "        else:\n",
    "            raise TypeError(\"This method subtracts a Fraction object and an integer or another Fraction object.\")\n",
    "            \n",
    "    def __mul__(self, f):\n",
    "        if type(f) == Fraction:\n",
    "            return Fraction((self.nr*f.nr), (self.dr*f.dr))\n",
    "        elif type(f) == int:\n",
    "            return Fraction((self.nr*f), self.dr)\n",
    "        else:\n",
    "            raise TypeError(\"This method multiplies a Fraction object by an integer or another Fraction object.\")\n",
    "    \n",
    "    def __rmul__(self, f):\n",
    "        return self.__mul__(f)\n",
    "    \n",
    "    def __eq__(self, f):\n",
    "        return (self.nr * f.dr) == (self.dr * f.nr)\n",
    "    \n",
    "    def __lt__(self, f):\n",
    "        return (self.nr * f.dr) < (self.dr * f.nr)\n",
    "    \n",
    "    def __gt__(self, f):\n",
    "        return (self.nr * f.dr) > (self.dr * f.nr)"
   ]
  },
  {
   "cell_type": "code",
   "execution_count": 149,
   "id": "2961a296",
   "metadata": {},
   "outputs": [
    {
     "name": "stdout",
     "output_type": "stream",
     "text": [
      "2/3\n"
     ]
    }
   ],
   "source": [
    "f1 = Fraction(2,3) \n",
    "f1.show() "
   ]
  },
  {
   "cell_type": "code",
   "execution_count": 150,
   "id": "06e628c4",
   "metadata": {},
   "outputs": [
    {
     "name": "stdout",
     "output_type": "stream",
     "text": [
      "3/4\n"
     ]
    }
   ],
   "source": [
    "f2 = Fraction(3,4) \n",
    "f2.show() "
   ]
  },
  {
   "cell_type": "code",
   "execution_count": 151,
   "id": "efcef3aa",
   "metadata": {},
   "outputs": [
    {
     "name": "stdout",
     "output_type": "stream",
     "text": [
      "17/12\n"
     ]
    }
   ],
   "source": [
    "f3 = f1 + f2\n",
    "f3.show()"
   ]
  },
  {
   "cell_type": "code",
   "execution_count": 152,
   "id": "578a4909",
   "metadata": {},
   "outputs": [
    {
     "name": "stdout",
     "output_type": "stream",
     "text": [
      "34/36\n"
     ]
    }
   ],
   "source": [
    "f4 = f3 * f1\n",
    "f4.show()"
   ]
  },
  {
   "cell_type": "code",
   "execution_count": 153,
   "id": "8c49a1d9",
   "metadata": {},
   "outputs": [
    {
     "name": "stdout",
     "output_type": "stream",
     "text": [
      "28/144\n"
     ]
    }
   ],
   "source": [
    "f5 = f4 - f2\n",
    "f5.show()"
   ]
  },
  {
   "cell_type": "code",
   "execution_count": 154,
   "id": "c7c560b3",
   "metadata": {},
   "outputs": [
    {
     "name": "stdout",
     "output_type": "stream",
     "text": [
      "-1/12\n"
     ]
    }
   ],
   "source": [
    "f6 = f1 - f2\n",
    "f6.show()"
   ]
  },
  {
   "cell_type": "code",
   "execution_count": 155,
   "id": "8d29346e",
   "metadata": {},
   "outputs": [
    {
     "data": {
      "text/plain": [
       "True"
      ]
     },
     "execution_count": 155,
     "metadata": {},
     "output_type": "execute_result"
    }
   ],
   "source": [
    "f7 = Fraction(2,3)\n",
    "f8 = Fraction(2,3)\n",
    "f7 == f8"
   ]
  },
  {
   "cell_type": "code",
   "execution_count": 156,
   "id": "5780d794",
   "metadata": {},
   "outputs": [
    {
     "data": {
      "text/plain": [
       "True"
      ]
     },
     "execution_count": 156,
     "metadata": {},
     "output_type": "execute_result"
    }
   ],
   "source": [
    "f9 = Fraction(3,4)\n",
    "f9 > f8"
   ]
  },
  {
   "cell_type": "code",
   "execution_count": 157,
   "id": "033e0116",
   "metadata": {},
   "outputs": [
    {
     "data": {
      "text/plain": [
       "False"
      ]
     },
     "execution_count": 157,
     "metadata": {},
     "output_type": "execute_result"
    }
   ],
   "source": [
    "f9 < f8"
   ]
  },
  {
   "cell_type": "code",
   "execution_count": 158,
   "id": "0fb9291e",
   "metadata": {},
   "outputs": [
    {
     "data": {
      "text/plain": [
       "True"
      ]
     },
     "execution_count": 158,
     "metadata": {},
     "output_type": "execute_result"
    }
   ],
   "source": [
    "f4 > f5"
   ]
  },
  {
   "cell_type": "markdown",
   "id": "4ea69c84",
   "metadata": {},
   "source": [
    "Ability to \"print\" and achieve the same output as the 'show' method created by using dunder __str__ method:"
   ]
  },
  {
   "cell_type": "code",
   "execution_count": 159,
   "id": "710647e8",
   "metadata": {},
   "outputs": [
    {
     "name": "stdout",
     "output_type": "stream",
     "text": [
      "34/36\n"
     ]
    }
   ],
   "source": [
    "print(f4)"
   ]
  },
  {
   "cell_type": "code",
   "execution_count": 160,
   "id": "834aa348",
   "metadata": {},
   "outputs": [
    {
     "name": "stdout",
     "output_type": "stream",
     "text": [
      "11/3\n"
     ]
    }
   ],
   "source": [
    "f10 = f1 + 3\n",
    "print(f10)"
   ]
  },
  {
   "cell_type": "markdown",
   "id": "83536ea0",
   "metadata": {},
   "source": [
    "The addition of __radd__ and __rmul__ allow addition and multiplication to be commutative."
   ]
  },
  {
   "cell_type": "code",
   "execution_count": 161,
   "id": "7d6f9460",
   "metadata": {},
   "outputs": [
    {
     "name": "stdout",
     "output_type": "stream",
     "text": [
      "11/3\n"
     ]
    }
   ],
   "source": [
    "f11 = 3 + f1\n",
    "print(f11)"
   ]
  },
  {
   "cell_type": "code",
   "execution_count": 162,
   "id": "92a3b555",
   "metadata": {},
   "outputs": [
    {
     "name": "stdout",
     "output_type": "stream",
     "text": [
      "6/3\n"
     ]
    }
   ],
   "source": [
    "f12 = 3 * f1\n",
    "print(f12)"
   ]
  },
  {
   "cell_type": "markdown",
   "id": "86ba82b6",
   "metadata": {},
   "source": [
    "### Practice Exercise 1\n",
    "\n",
    "In the Time class below, implement magic dunder methods __eq__, __lt__ and __gt__.\n"
   ]
  },
  {
   "cell_type": "code",
   "execution_count": 163,
   "id": "d135f960",
   "metadata": {},
   "outputs": [],
   "source": [
    "class Time:\n",
    "    def __init__(self,h,m,s):\n",
    "        self._h = h \n",
    "        self._m = m\n",
    "        self._s = s\n",
    " \n",
    "    #Read-only field accessors\n",
    "    @property\n",
    "    def hours(self):\n",
    "        return self._h\n",
    " \n",
    "    @property\n",
    "    def minutes(self):\n",
    "        return self._m\n",
    " \n",
    "    @property\n",
    "    def seconds(self):\n",
    "        return self._s\n",
    "    \n",
    "    def _cmp(time1,time2):\n",
    "        if time1._h < time2._h:\n",
    "            return 1\n",
    "        if time1._h > time2._h:\n",
    "            return -1\n",
    "        if time1._m < time2._m:\n",
    "            return 1\n",
    "        if time1._m > time2._m:\n",
    "            return -1\n",
    "        if time1._s < time2._s:\n",
    "            return 1\n",
    "        if time1._s > time2._s:\n",
    "            return -1\n",
    "        return 0\n",
    "    \n",
    "    def __eq__(self, other):\n",
    "        if self._cmp(other) == 0:\n",
    "            return True\n",
    "        else:\n",
    "            return False\n",
    "        \n",
    "    def __gt__(self, other):\n",
    "        if self._cmp(other) == -1:\n",
    "            return True\n",
    "        else:\n",
    "            return False\n",
    "        \n",
    "    def __lt__(self, other):\n",
    "        if self._cmp(other) == 1:\n",
    "            return True\n",
    "        else:\n",
    "            return False\n",
    "        \n",
    "\n"
   ]
  },
  {
   "cell_type": "code",
   "execution_count": 164,
   "id": "bfbe055e",
   "metadata": {},
   "outputs": [
    {
     "name": "stdout",
     "output_type": "stream",
     "text": [
      "False\n",
      "True\n",
      "False\n",
      "True\n"
     ]
    }
   ],
   "source": [
    "t1 = Time(13, 10, 5)\n",
    "t2 = Time(5, 15, 30)\n",
    "t3 = Time(5, 15, 30)\n",
    "\n",
    "print(t1 < t2)\n",
    "print(t1 > t2)\n",
    "print(t1 == t2)\n",
    "print(t2 == t3)"
   ]
  },
  {
   "cell_type": "markdown",
   "id": "9a3432af",
   "metadata": {},
   "source": [
    "### Practice Exercise 2\n",
    "\n",
    "Implement __add__ and __radd__ methods for the following class Length."
   ]
  },
  {
   "cell_type": "code",
   "execution_count": 165,
   "id": "60510ce4",
   "metadata": {},
   "outputs": [],
   "source": [
    "class Length:\n",
    "    def __init__(self, feet, inches):\n",
    "        self.feet = feet  \n",
    "        self.inches = inches\n",
    " \n",
    "    def __str__(self):\n",
    "        return f'{self.feet} {self.inches}'\n",
    " \n",
    "    # adds two Length objects and returns a Length object\n",
    "    def add_length(self,L):\n",
    "        f = self.feet + L.feet\n",
    "        i = self.inches + L.inches\n",
    "        if i >= 12:\n",
    "            i = i - 12\n",
    "        f += 1\n",
    "        return Length(f, i)\n",
    " \n",
    "    # adds inches (int) to a Length object and returns a new Length object\n",
    "    def add_inches(self,inches):\n",
    "        f = self.feet + inches // 12\n",
    "        i = self.inches + inches % 12\n",
    "        if i >= 12:\n",
    "            i = i - 12\n",
    "        f += 1\n",
    "        return Length(f, i)\n",
    "  \n",
    "    \n",
    "    def __add__(self,other):\n",
    "        if isinstance(other, Length):\n",
    "            return self.add_length(other)\n",
    "        if isinstance(other,int):\n",
    "            return self.add_inches(other)\n",
    "        else:\n",
    "            return NotImplemented\n",
    " \n",
    "    def __radd__(self,other):\n",
    "        return self.__add__(other)\n",
    "  "
   ]
  },
  {
   "cell_type": "code",
   "execution_count": 166,
   "id": "4d1e1da5",
   "metadata": {},
   "outputs": [
    {
     "name": "stdout",
     "output_type": "stream",
     "text": [
      "6 3\n",
      "3 0\n",
      "4 6\n",
      "4 6\n"
     ]
    }
   ],
   "source": [
    "length1 = Length(2,10)\n",
    "length2 = Length(3,5)\n",
    "    \n",
    "print(length1 + length2)\n",
    "print(length1 + 2)\n",
    "print(length1 + 20)\n",
    "print(20 + length1)"
   ]
  },
  {
   "cell_type": "markdown",
   "id": "63c9e076",
   "metadata": {},
   "source": [
    "I had to lookup the answer to this one, unfortunately. :("
   ]
  },
  {
   "cell_type": "markdown",
   "id": "43395e0c",
   "metadata": {},
   "source": [
    "### Inheritance\n",
    "\n",
    "A class can have all the methods and attributes of another class, then extend or modify the functionality of the original class."
   ]
  },
  {
   "cell_type": "code",
   "execution_count": 167,
   "id": "2adee072",
   "metadata": {},
   "outputs": [],
   "source": [
    "class Person:\n",
    "    species = \"Homo Sapiens\"\n",
    "    \n",
    "    def __init__(self, name, age, address, phone):\n",
    "        self.name = name\n",
    "        self.age = age\n",
    "        self.address = address\n",
    "        self.phone = phone\n",
    "        \n",
    "    def greet(self):\n",
    "        print(\"I am\", self.name, \"and I am\", self.age, \"years old.\")\n",
    "        \n",
    "    def is_adult(self):\n",
    "        if self.age >= 18:\n",
    "            return True\n",
    "        else:\n",
    "            return False\n",
    "        \n",
    "    def contact_details(self):\n",
    "        print(self.address, self.phone)\n",
    "    \n",
    "    # Use a class method to create a new instance of the Person object from a string\n",
    "    @classmethod\n",
    "    def from_str(cls, s):\n",
    "        name, age, address, phone = s.split(\",\")\n",
    "        return cls(name, int(age), address, phone)\n",
    "    \n",
    "    # Use a class method to create a new instance of the Person object from a dict\n",
    "    @classmethod\n",
    "    def from_dict(cls, d):\n",
    "        name, age, address, phone = d.values()\n",
    "        return cls(name, int(age), address, phone)\n",
    "    \n"
   ]
  },
  {
   "cell_type": "code",
   "execution_count": 168,
   "id": "a08f1aa1",
   "metadata": {},
   "outputs": [
    {
     "data": {
      "text/plain": [
       "'Homo Sapiens'"
      ]
     },
     "execution_count": 168,
     "metadata": {},
     "output_type": "execute_result"
    }
   ],
   "source": [
    "Person.species"
   ]
  },
  {
   "cell_type": "code",
   "execution_count": 169,
   "id": "1da7f564",
   "metadata": {},
   "outputs": [
    {
     "name": "stdout",
     "output_type": "stream",
     "text": [
      "I am Dave and I am 88 years old.\n"
     ]
    }
   ],
   "source": [
    "p1 = Person(\"Dave\",88,'23 Warren Dr. Amherst, NH', None)\n",
    "p1.greet()"
   ]
  },
  {
   "cell_type": "code",
   "execution_count": 170,
   "id": "63067fd4",
   "metadata": {},
   "outputs": [
    {
     "name": "stdout",
     "output_type": "stream",
     "text": [
      "I am Mindy and I am 23 years old.\n"
     ]
    }
   ],
   "source": [
    "p2 = Person(\"Mindy\", 23, '456 Ugly Condo Association Rd. Nashua, NH', '603-554-7676')\n",
    "p2.species = \"Airhead\"\n",
    "p2.greet()"
   ]
  },
  {
   "cell_type": "code",
   "execution_count": 171,
   "id": "86f706bb",
   "metadata": {},
   "outputs": [
    {
     "data": {
      "text/plain": [
       "'Airhead'"
      ]
     },
     "execution_count": 171,
     "metadata": {},
     "output_type": "execute_result"
    }
   ],
   "source": [
    "p2.species"
   ]
  },
  {
   "cell_type": "code",
   "execution_count": 172,
   "id": "058956c0",
   "metadata": {},
   "outputs": [
    {
     "data": {
      "text/plain": [
       "'Homo Sapiens'"
      ]
     },
     "execution_count": 172,
     "metadata": {},
     "output_type": "execute_result"
    }
   ],
   "source": [
    "p1.species"
   ]
  },
  {
   "cell_type": "code",
   "execution_count": 173,
   "id": "935eea4f",
   "metadata": {},
   "outputs": [
    {
     "name": "stdout",
     "output_type": "stream",
     "text": [
      "I am George and I am 41 years old.\n"
     ]
    }
   ],
   "source": [
    "init_str = \"George,41,None,None\"\n",
    "p3 = Person.from_str(init_str)\n",
    "p3.greet()"
   ]
  },
  {
   "cell_type": "code",
   "execution_count": 174,
   "id": "b594e1e6",
   "metadata": {},
   "outputs": [
    {
     "name": "stdout",
     "output_type": "stream",
     "text": [
      "I am Jane and I am 19 years old.\n"
     ]
    }
   ],
   "source": [
    "init_dict = {'name': 'Jane', 'age': 19, 'address': '48 Taylor Dr. Merrimack, NH', 'phone': '603-882-1872'}\n",
    "p4 = Person.from_dict(init_dict)\n",
    "p4.greet()"
   ]
  },
  {
   "cell_type": "markdown",
   "id": "84b1674f",
   "metadata": {},
   "source": [
    "Create a derived class, Employee, from Person."
   ]
  },
  {
   "cell_type": "code",
   "execution_count": 175,
   "id": "c395282c",
   "metadata": {},
   "outputs": [],
   "source": [
    "class Employee(Person):\n",
    "    \n",
    "        def __init__(self, name, age, address, phone, salary, office_address, office_phone):\n",
    "            \n",
    "            # Call the Superclass init\n",
    "            super().__init__(name, age, address, phone)\n",
    "            \n",
    "            self.salary = salary\n",
    "            self.office_address = office_address\n",
    "            self.office_phone = office_phone\n",
    "       \n",
    "        def calculate_tax(self):\n",
    "            if self.salary < 5000:\n",
    "                return 0\n",
    "            else:\n",
    "                return self.salary * 0.05\n",
    "            \n",
    "        # Overridden method to show both home and work address and phone  \n",
    "        def contact_details(self):\n",
    "            # First, call the base-class method, for home details\n",
    "            super().contact_details()\n",
    "            print(self.office_address, self.office_phone)\n",
    "            \n",
    "            \n",
    "    "
   ]
  },
  {
   "cell_type": "code",
   "execution_count": 176,
   "id": "bf15de05",
   "metadata": {},
   "outputs": [],
   "source": [
    "emp = Employee('Newton Raines', 37, '23 S. W. 52nd Street Miami, FL', 3055521317, \n",
    "               52500, '5518 Flagler Street Miami, FL', 3053007800)\n",
    "\n"
   ]
  },
  {
   "cell_type": "code",
   "execution_count": 177,
   "id": "8ee3538e",
   "metadata": {},
   "outputs": [
    {
     "name": "stdout",
     "output_type": "stream",
     "text": [
      "I am Newton Raines and I am 37 years old.\n"
     ]
    }
   ],
   "source": [
    "emp.greet()"
   ]
  },
  {
   "cell_type": "code",
   "execution_count": 178,
   "id": "cd546b66",
   "metadata": {},
   "outputs": [
    {
     "data": {
      "text/plain": [
       "2625.0"
      ]
     },
     "execution_count": 178,
     "metadata": {},
     "output_type": "execute_result"
    }
   ],
   "source": [
    "emp.calculate_tax()"
   ]
  },
  {
   "cell_type": "code",
   "execution_count": 179,
   "id": "eb811cad",
   "metadata": {},
   "outputs": [
    {
     "name": "stdout",
     "output_type": "stream",
     "text": [
      "23 S. W. 52nd Street Miami, FL 3055521317\n",
      "5518 Flagler Street Miami, FL 3053007800\n"
     ]
    }
   ],
   "source": [
    "emp.contact_details()"
   ]
  },
  {
   "cell_type": "code",
   "execution_count": 180,
   "id": "7c61eff3",
   "metadata": {},
   "outputs": [
    {
     "data": {
      "text/plain": [
       "True"
      ]
     },
     "execution_count": 180,
     "metadata": {},
     "output_type": "execute_result"
    }
   ],
   "source": [
    "isinstance(emp, Person)"
   ]
  },
  {
   "cell_type": "code",
   "execution_count": 181,
   "id": "82049df1",
   "metadata": {},
   "outputs": [
    {
     "data": {
      "text/plain": [
       "True"
      ]
     },
     "execution_count": 181,
     "metadata": {},
     "output_type": "execute_result"
    }
   ],
   "source": [
    "isinstance(emp, Employee)"
   ]
  },
  {
   "cell_type": "code",
   "execution_count": 182,
   "id": "ce22dbbf",
   "metadata": {},
   "outputs": [
    {
     "data": {
      "text/plain": [
       "True"
      ]
     },
     "execution_count": 182,
     "metadata": {},
     "output_type": "execute_result"
    }
   ],
   "source": [
    "issubclass(Employee, Person)"
   ]
  },
  {
   "cell_type": "markdown",
   "id": "82942a33",
   "metadata": {},
   "source": [
    "All classes in python derived from object"
   ]
  },
  {
   "cell_type": "code",
   "execution_count": 183,
   "id": "669e7513",
   "metadata": {
    "scrolled": true
   },
   "outputs": [
    {
     "data": {
      "text/plain": [
       "True"
      ]
     },
     "execution_count": 183,
     "metadata": {},
     "output_type": "execute_result"
    }
   ],
   "source": [
    "issubclass(Person, object)"
   ]
  },
  {
   "cell_type": "markdown",
   "id": "77b2ca2b",
   "metadata": {},
   "source": [
    "### Multiple Inheritance\n",
    "\n",
    "Complex, not commonly used"
   ]
  },
  {
   "cell_type": "code",
   "execution_count": 184,
   "id": "1014fdae",
   "metadata": {},
   "outputs": [],
   "source": [
    "class Teacher:\n",
    "    def greet(self):\n",
    "        print(\"I am a Teacher.\")\n",
    "        \n",
    "class Student:\n",
    "    def greet(self):\n",
    "        print(\"I am a Student.\")\n",
    "        \n",
    "class TeachingAssistant(Student, Teacher):\n",
    "    def greet(self):\n",
    "        print(\"I am a Teaching Assistant.\")"
   ]
  },
  {
   "cell_type": "code",
   "execution_count": 185,
   "id": "ed3056ed",
   "metadata": {},
   "outputs": [
    {
     "name": "stdout",
     "output_type": "stream",
     "text": [
      "I am a Teaching Assistant.\n"
     ]
    }
   ],
   "source": [
    "x = TeachingAssistant()\n",
    "x.greet()"
   ]
  },
  {
   "cell_type": "markdown",
   "id": "440b8e43",
   "metadata": {},
   "source": [
    "If we just relied on the superclass to supply the 'greet' method and did not define one for the subclass, python would search for it in the FIRST superclass listed from left to right (in this example, the Student class).  \n",
    "\n",
    "This is called MRO - Method Resolution Order.\n",
    "\n",
    "It is computed using C3 Linearization Algorithm:\n",
    "\n",
    "### Example demonstrated in Python 3\n",
    "\n",
    "From Wikipedia  https://en.wikipedia.org/wiki/C3_linearization#Example_demonstrated_in_Python_3\n",
    "\n",
    "First, a metaclass to enable a short representation of the objects by name instead of, for example, <class '__main__.A'>:\n",
    "\n",
    "class Type(type):\n",
    "\n",
    "    def __repr__(cls):\n",
    "        return cls.__name__\n",
    "\n",
    "class O(object, metaclass=Type): pass\n",
    "\n",
    "Then we construct the inheritance tree.\n",
    "\n",
    "class A(O): pass\n",
    "\n",
    "class B(O): pass\n",
    "\n",
    "class C(O): pass\n",
    "\n",
    "class D(O): pass\n",
    "\n",
    "class E(O): pass\n",
    "\n",
    "class K1(C, A, B): pass\n",
    "\n",
    "class K3(A, D): pass\n",
    "\n",
    "class K2(B, D, E): pass\n",
    "\n",
    "class Z(K1, K3, K2): pass\n",
    "\n",
    "And now:\n",
    "\n",
    "**Z.mro()**\n",
    "\n",
    "Returns:\n",
    "\n",
    "**Z, K1, C, K3, A, K2, B, D, E, O, <class 'object'>**\n"
   ]
  },
  {
   "cell_type": "code",
   "execution_count": 186,
   "id": "c3866fa8",
   "metadata": {},
   "outputs": [],
   "source": [
    "class A:\n",
    "    def greet(self):\n",
    "        print(\"I am an A.\")\n",
    "        \n",
    "class B(A):\n",
    "    def greet(self):\n",
    "        print(\"I am a B.\")\n",
    "\n",
    "class C(A):\n",
    "    def greet(self):\n",
    "        print(\"I am a C.\")\n",
    "        \n",
    "class X(B, C):\n",
    "    pass\n",
    "    "
   ]
  },
  {
   "cell_type": "code",
   "execution_count": 187,
   "id": "7c766465",
   "metadata": {},
   "outputs": [
    {
     "name": "stdout",
     "output_type": "stream",
     "text": [
      "I am a B.\n"
     ]
    }
   ],
   "source": [
    "y = X()\n",
    "y.greet()"
   ]
  },
  {
   "cell_type": "code",
   "execution_count": 188,
   "id": "7249b857",
   "metadata": {},
   "outputs": [
    {
     "data": {
      "text/plain": [
       "[__main__.X, __main__.B, __main__.C, __main__.A, object]"
      ]
     },
     "execution_count": 188,
     "metadata": {},
     "output_type": "execute_result"
    }
   ],
   "source": [
    "X.mro()"
   ]
  },
  {
   "cell_type": "markdown",
   "id": "b37e01d9",
   "metadata": {},
   "source": [
    "When calling help on a class object (e.g. X) the MRO is listed at the top:"
   ]
  },
  {
   "cell_type": "code",
   "execution_count": 189,
   "id": "0e21231b",
   "metadata": {},
   "outputs": [
    {
     "name": "stdout",
     "output_type": "stream",
     "text": [
      "Help on class X in module __main__:\n",
      "\n",
      "class X(B, C)\n",
      " |  Method resolution order:\n",
      " |      X\n",
      " |      B\n",
      " |      C\n",
      " |      A\n",
      " |      builtins.object\n",
      " |  \n",
      " |  Methods inherited from B:\n",
      " |  \n",
      " |  greet(self)\n",
      " |  \n",
      " |  ----------------------------------------------------------------------\n",
      " |  Data descriptors inherited from A:\n",
      " |  \n",
      " |  __dict__\n",
      " |      dictionary for instance variables (if defined)\n",
      " |  \n",
      " |  __weakref__\n",
      " |      list of weak references to the object (if defined)\n",
      "\n"
     ]
    }
   ],
   "source": [
    "help(X)"
   ]
  },
  {
   "cell_type": "markdown",
   "id": "bdc91fcd",
   "metadata": {},
   "source": [
    "When using super() to call parent methods, MRO is observed."
   ]
  },
  {
   "cell_type": "code",
   "execution_count": 190,
   "id": "13597c67",
   "metadata": {},
   "outputs": [],
   "source": [
    "class M:\n",
    "    def greet(self):\n",
    "        print(\"I am an M.\")\n",
    "        \n",
    "class N(M):\n",
    "    def greet(self):\n",
    "        super().greet()\n",
    "        print(\"I am an N.\")\n",
    "\n",
    "class O(M):\n",
    "    def greet(self):\n",
    "        super().greet()\n",
    "        print(\"I am an O.\")\n",
    "        \n",
    "class P(N, O):\n",
    "    def greet(self):\n",
    "        super().greet()\n",
    "        print(\"I am a P.\")\n",
    "    "
   ]
  },
  {
   "cell_type": "markdown",
   "id": "a96dd088",
   "metadata": {},
   "source": [
    "Using super().greet() in each level of inheritance causes the output to be in the order of the MRO (reverse)..."
   ]
  },
  {
   "cell_type": "code",
   "execution_count": 191,
   "id": "0b9f5537",
   "metadata": {
    "scrolled": true
   },
   "outputs": [
    {
     "name": "stdout",
     "output_type": "stream",
     "text": [
      "I am an M.\n",
      "I am an O.\n",
      "I am an N.\n",
      "I am a P.\n"
     ]
    }
   ],
   "source": [
    "p = P()\n",
    "p.greet()"
   ]
  },
  {
   "cell_type": "code",
   "execution_count": 192,
   "id": "bedfe638",
   "metadata": {},
   "outputs": [
    {
     "name": "stdout",
     "output_type": "stream",
     "text": [
      "Help on class P in module __main__:\n",
      "\n",
      "class P(N, O)\n",
      " |  Method resolution order:\n",
      " |      P\n",
      " |      N\n",
      " |      O\n",
      " |      M\n",
      " |      builtins.object\n",
      " |  \n",
      " |  Methods defined here:\n",
      " |  \n",
      " |  greet(self)\n",
      " |  \n",
      " |  ----------------------------------------------------------------------\n",
      " |  Data descriptors inherited from M:\n",
      " |  \n",
      " |  __dict__\n",
      " |      dictionary for instance variables (if defined)\n",
      " |  \n",
      " |  __weakref__\n",
      " |      list of weak references to the object (if defined)\n",
      "\n"
     ]
    }
   ],
   "source": [
    "help(P)"
   ]
  },
  {
   "cell_type": "markdown",
   "id": "81ee9558",
   "metadata": {},
   "source": [
    "Calls to super() DO NOT always call the parent - they may (as shown above) call the *next in line* in MRO.\n",
    "\n"
   ]
  },
  {
   "cell_type": "markdown",
   "id": "c77de68b",
   "metadata": {},
   "source": [
    "### Polymorphism\n",
    "\n",
    "The ability of code to take different forms, depending on the type with which it is called.\n",
    "\n",
    "Python's dynamic typing allows passing an object of UNKNOWN TYPE to a function, and having type resolution occur at runtime.\n",
    "\n"
   ]
  },
  {
   "cell_type": "code",
   "execution_count": 193,
   "id": "17c249c3",
   "metadata": {},
   "outputs": [],
   "source": [
    "class Car:\n",
    "    def start(self):\n",
    "        print(\"The car is running.\")\n",
    "        \n",
    "    def move(self):\n",
    "        print(\"The car is moving.\")\n",
    "        \n",
    "    def stop(self):\n",
    "        print(\"Brakes applied.\")\n",
    "        \n",
    "class Clock:\n",
    "    def move(self):\n",
    "        print(\"Tick tick tick tick...\")\n",
    "        \n",
    "    def stop(self):\n",
    "        print(\"Hands stopped sweeping.\")\n",
    "        \n",
    "class Person:\n",
    "    def move(self):\n",
    "        print(\"Person walking.\")\n",
    "        \n",
    "    def stop(self):\n",
    "        print(\"Taking a rest.\")\n",
    "        \n",
    "    def talk(self):\n",
    "        print(\"Hello!\")"
   ]
  },
  {
   "cell_type": "code",
   "execution_count": 194,
   "id": "5704c211",
   "metadata": {},
   "outputs": [],
   "source": [
    "c = Car()\n",
    "cl = Clock()\n",
    "p = Person()\n",
    "\n",
    "def do_something(x):\n",
    "    x.move()\n",
    "    x.stop()"
   ]
  },
  {
   "cell_type": "code",
   "execution_count": 195,
   "id": "a0b4be1f",
   "metadata": {},
   "outputs": [
    {
     "name": "stdout",
     "output_type": "stream",
     "text": [
      "The car is moving.\n",
      "Brakes applied.\n"
     ]
    }
   ],
   "source": [
    "do_something(c)"
   ]
  },
  {
   "cell_type": "code",
   "execution_count": 196,
   "id": "e569016f",
   "metadata": {},
   "outputs": [
    {
     "name": "stdout",
     "output_type": "stream",
     "text": [
      "Tick tick tick tick...\n",
      "Hands stopped sweeping.\n"
     ]
    }
   ],
   "source": [
    "do_something(cl)"
   ]
  },
  {
   "cell_type": "code",
   "execution_count": 197,
   "id": "ebf01472",
   "metadata": {},
   "outputs": [
    {
     "name": "stdout",
     "output_type": "stream",
     "text": [
      "Person walking.\n",
      "Taking a rest.\n"
     ]
    }
   ],
   "source": [
    "do_something(p)"
   ]
  },
  {
   "cell_type": "markdown",
   "id": "bb147907",
   "metadata": {},
   "source": [
    "As long as the x passed to 'do_something' is an instance of an object that has the move and stop methods as part of its class or superclass, the function will run without error."
   ]
  },
  {
   "cell_type": "code",
   "execution_count": 198,
   "id": "fbbb6ad5",
   "metadata": {},
   "outputs": [],
   "source": [
    "class Rectangle:\n",
    "    name = \"Rectangle\"\n",
    "    def __init__(self, length, width):\n",
    "        self.length = length\n",
    "        self.width = width\n",
    "        \n",
    "    def area(self):\n",
    "        return self.length * self.width\n",
    "    \n",
    "    def perimeter(self):\n",
    "        return 2 * (self.length + self.width)\n",
    "    \n",
    "class Triangle:\n",
    "    name = \"Triangle\"\n",
    "    def __init__(self, s1, s2, s3):\n",
    "        self.s1 = s1\n",
    "        self.s2 = s2\n",
    "        self.s3 = s3\n",
    "        \n",
    "    def area(self):\n",
    "        sp = (self.s1 + self.s2 + self.s3) / 2\n",
    "        return (sp * (sp-self.s1) * (sp-self.s2) * (sp-self.s3))\n",
    "    \n",
    "    def perimeter(self):\n",
    "        return self.s1 + self.s2 + self.s3\n",
    "    \n",
    "class Circle:\n",
    "    name = \"Circle\"\n",
    "    def __init__(self, radius):\n",
    "        self.radius = radius\n",
    "        \n",
    "    def area(self):\n",
    "        return 3.14159 * self.radius * self.radius\n",
    "    \n",
    "    def perimeter(self):\n",
    "        return 3.14159 * 2 * self.radius\n",
    "    \n"
   ]
  },
  {
   "cell_type": "code",
   "execution_count": 199,
   "id": "641237b9",
   "metadata": {},
   "outputs": [],
   "source": [
    "r1 = Rectangle(13, 25)\n",
    "r2 = Rectangle(14, 16)"
   ]
  },
  {
   "cell_type": "code",
   "execution_count": 200,
   "id": "bcc2ae40",
   "metadata": {},
   "outputs": [],
   "source": [
    "t1 = Triangle(14, 17, 12)\n",
    "t2 = Triangle(25, 33, 52)"
   ]
  },
  {
   "cell_type": "code",
   "execution_count": 201,
   "id": "7cbcd142",
   "metadata": {},
   "outputs": [],
   "source": [
    "c1 = Circle(14)\n",
    "c2 = Circle(25)"
   ]
  },
  {
   "cell_type": "code",
   "execution_count": 202,
   "id": "25acc9e5",
   "metadata": {},
   "outputs": [],
   "source": [
    "# Polymorphic function\n",
    "\n",
    "def find_area_perimeter(shape):\n",
    "    print(shape.name)\n",
    "    print(\"Area:\", shape.area())\n",
    "    print(\"Perimeter:\", shape.perimeter())"
   ]
  },
  {
   "cell_type": "code",
   "execution_count": 203,
   "id": "bcc092a7",
   "metadata": {},
   "outputs": [
    {
     "name": "stdout",
     "output_type": "stream",
     "text": [
      "Rectangle\n",
      "Area: 325\n",
      "Perimeter: 76\n"
     ]
    }
   ],
   "source": [
    "find_area_perimeter(r1)"
   ]
  },
  {
   "cell_type": "code",
   "execution_count": 204,
   "id": "fae14e5a",
   "metadata": {},
   "outputs": [
    {
     "name": "stdout",
     "output_type": "stream",
     "text": [
      "Triangle\n",
      "Area: 108900.0\n",
      "Perimeter: 110\n"
     ]
    }
   ],
   "source": [
    "find_area_perimeter(t2)"
   ]
  },
  {
   "cell_type": "code",
   "execution_count": 205,
   "id": "edbbbe43",
   "metadata": {},
   "outputs": [
    {
     "name": "stdout",
     "output_type": "stream",
     "text": [
      "Circle\n",
      "Area: 615.75164\n",
      "Perimeter: 87.96452\n"
     ]
    }
   ],
   "source": [
    "find_area_perimeter(c1)"
   ]
  },
  {
   "cell_type": "code",
   "execution_count": 206,
   "id": "c1f975ef",
   "metadata": {},
   "outputs": [
    {
     "name": "stdout",
     "output_type": "stream",
     "text": [
      "118921.68289 534.04402\n"
     ]
    }
   ],
   "source": [
    "# Iterate over all shape objects\n",
    "shapes = [r1, r2, t1, t2, c1, c2]\n",
    "\n",
    "total_area = 0\n",
    "total_perimeter = 0\n",
    "\n",
    "for s in shapes:\n",
    "    total_area += s.area()\n",
    "    total_perimeter += s.perimeter()\n",
    "    \n",
    "print(total_area, total_perimeter)"
   ]
  },
  {
   "cell_type": "markdown",
   "id": "8bdbea7c",
   "metadata": {},
   "source": [
    "NOTE: Polymorphism in python does NOT depend on inheritance, as we can see.  These classes do not need to descend from a common parent or grandparent class in order to be able to be called interchangably by a polymorphic function."
   ]
  },
  {
   "cell_type": "markdown",
   "id": "d3d35919",
   "metadata": {},
   "source": [
    "### Practice Exercises\n",
    "\n",
    "1. Create a class named Course that has instance variables title, instructor, price, lectures, users(list type), ratings, avg_rating. Implement the methods __str__, new_user_enrolled, received_a_rating and show_details. From the above class, inherit two classes VideoCourse and PdfCourse. The class VideoCourse has instance variable length_video and PdfCourse has instance variable pages.\n",
    "\n"
   ]
  },
  {
   "cell_type": "code",
   "execution_count": 211,
   "id": "8305dabd",
   "metadata": {},
   "outputs": [],
   "source": [
    "import numpy as np"
   ]
  },
  {
   "cell_type": "code",
   "execution_count": 216,
   "id": "87232d3c",
   "metadata": {},
   "outputs": [],
   "source": [
    "class Course:\n",
    "    def __init__(self, title, instructor, price, lectures, users, ratings):\n",
    "        self.title = title\n",
    "        self.instructor = instructor\n",
    "        self.price = price\n",
    "        self.lectures = lectures\n",
    "        self.users = users\n",
    "        self.ratings = ratings\n",
    "    \n",
    "    @property\n",
    "    def avg_rating(self):\n",
    "        return np.mean(self.ratings)\n",
    "    \n",
    "    def __str__(self):\n",
    "        return \"{0}, {1}: {2} currently enrolled, {3} average rating.\".format(self.title, self.instructor, len(self.users), self.avg_rating)\n",
    "    \n",
    "    def show_details(self):\n",
    "        return \"{0}, {1}: {2} currently enrolled, {3} average rating.\".format(self.title, self.instructor, len(self.users), self.avg_rating)\n",
    "       \n",
    "    def new_user_enrolled(self, user):\n",
    "        self.users.append(user)\n",
    "        \n",
    "    def received_a_rating(self, rating):\n",
    "        self.ratings.append(rating)\n",
    "        \n",
    "class VideoCourse(Course):\n",
    "    def __init__(self, title, instructor, price, lectures, users, ratings, length_video):\n",
    "        super().__init__(title, instructor, price, lectures, users, ratings)\n",
    "        self.length_video = length_video\n",
    "        \n",
    "class PdfCourse(Course):\n",
    "    def __init__(self, title, instructor, price, lectures, users, ratings, pages):\n",
    "        super().__init__(title, instructor, price, lectures, users, ratings)\n",
    "        self.pages = pages"
   ]
  },
  {
   "cell_type": "code",
   "execution_count": 217,
   "id": "01426fea",
   "metadata": {},
   "outputs": [
    {
     "name": "stdout",
     "output_type": "stream",
     "text": [
      "Object Oriented Programming with Python, Deepali Srivastava: 2 currently enrolled, 4.75 average rating.\n"
     ]
    }
   ],
   "source": [
    "v = VideoCourse(\"Object Oriented Programming with Python\", \"Deepali Srivastava\", 0, 5, ['Nate Smith', 'Aubrey Svali'], [4.5, 5], 98)\n",
    "print(v)"
   ]
  },
  {
   "cell_type": "code",
   "execution_count": 218,
   "id": "9b9c6057",
   "metadata": {},
   "outputs": [
    {
     "name": "stdout",
     "output_type": "stream",
     "text": [
      "Object Oriented Programming with Python, Deepali Srivastava: 3 currently enrolled, 4.75 average rating.\n"
     ]
    }
   ],
   "source": [
    "v.new_user_enrolled('Kylie Jenner')\n",
    "print(v)"
   ]
  },
  {
   "cell_type": "code",
   "execution_count": 219,
   "id": "e5eb2d1c",
   "metadata": {},
   "outputs": [
    {
     "name": "stdout",
     "output_type": "stream",
     "text": [
      "Object Oriented Programming with Python, Deepali Srivastava: 3 currently enrolled, 4.166666666666667 average rating.\n"
     ]
    }
   ],
   "source": [
    "v.received_a_rating(3)\n",
    "print(v)"
   ]
  },
  {
   "cell_type": "code",
   "execution_count": 221,
   "id": "32eaaf59",
   "metadata": {},
   "outputs": [
    {
     "name": "stdout",
     "output_type": "stream",
     "text": [
      "Machine Learning Fundamentals, Josh Starmer: 2 currently enrolled, 5.0 average rating.\n"
     ]
    }
   ],
   "source": [
    "pdf = PdfCourse(\"Machine Learning Fundamentals\", \"Josh Starmer\", 10, 20, ['Jean Silverman', 'Ali Jen Stevens'], [5, 5], 12)\n",
    "print(pdf)"
   ]
  },
  {
   "cell_type": "code",
   "execution_count": 222,
   "id": "6bcf801c",
   "metadata": {},
   "outputs": [
    {
     "name": "stdout",
     "output_type": "stream",
     "text": [
      "Machine Learning Fundamentals, Josh Starmer: 3 currently enrolled, 4.666666666666667 average rating.\n"
     ]
    }
   ],
   "source": [
    "pdf.new_user_enrolled('Aberforth Dumbledore')\n",
    "pdf.received_a_rating(4)\n",
    "print(pdf)"
   ]
  },
  {
   "cell_type": "markdown",
   "id": "78ab8bb7",
   "metadata": {},
   "source": [
    "2. What is the output of this -\n",
    "\n"
   ]
  },
  {
   "cell_type": "code",
   "execution_count": 223,
   "id": "0281f1f1",
   "metadata": {},
   "outputs": [
    {
     "name": "stdout",
     "output_type": "stream",
     "text": [
      "Can cook noodles\n",
      "\n",
      "Can cook pasta\n",
      "Can cook butter chicken\n"
     ]
    }
   ],
   "source": [
    "class Mother:\n",
    "        def cook(self):\n",
    "           print('Can cook pasta')\n",
    " \n",
    "class Father:\n",
    "        def cook(self):\n",
    "             print('Can cook noodles')\n",
    " \n",
    "class Daughter(Father, Mother):\n",
    "          pass\n",
    " \n",
    "class Son(Mother, Father):\n",
    "         def cook(self):\n",
    "             super().cook()\n",
    "             print('Can cook butter chicken') \n",
    " \n",
    "d = Daughter()  \n",
    "s = Son()\n",
    " \n",
    "d.cook()\n",
    "print()\n",
    "s.cook()\n"
   ]
  },
  {
   "cell_type": "markdown",
   "id": "9b6a3ce2",
   "metadata": {},
   "source": [
    "Explanation: \n",
    "\n",
    "When daughter instance calls 'cook', this is the first class's cook method - Father's cook.  So 'Can cook noodles' is printed.\n",
    "\n",
    "When son instance calls 'cook', the implementation says call super().cook(), then print 'Can cook butter chicken'. \n",
    "\n",
    "super().cook() will call Mother's cook method because this is first in the MRO.  Therefore, the final output is:\n",
    "\n",
    "- Can cook pasta <- from super().cook()\n",
    "\n",
    "- Can cook butter chicken"
   ]
  },
  {
   "cell_type": "markdown",
   "id": "0db5d620",
   "metadata": {},
   "source": [
    "3. What will be the output of this code -\n",
    "\n"
   ]
  },
  {
   "cell_type": "code",
   "execution_count": 224,
   "id": "a56e00a8",
   "metadata": {},
   "outputs": [
    {
     "name": "stdout",
     "output_type": "stream",
     "text": [
      "I am a Person\n",
      "I am a Student\n",
      "I am a Teaching Assistant\n"
     ]
    }
   ],
   "source": [
    "class Person:\n",
    "    def greet(self):\n",
    "        print('I am a Person')\n",
    " \n",
    "class Teacher(Person):\n",
    "    def greet(self):\n",
    "        Person.greet(self)    \n",
    "        print('I am a Teacher')\n",
    " \n",
    "class Student(Person):\n",
    "    def greet(self):\n",
    "        Person.greet(self)    \n",
    "        print('I am a Student')\n",
    " \n",
    "class TeachingAssistant(Student, Teacher):\n",
    "     def greet(self):\n",
    "         super().greet()\n",
    "         print('I am a Teaching Assistant')\n",
    "       \n",
    "x = TeachingAssistant()\n",
    "x.greet()\n"
   ]
  },
  {
   "cell_type": "markdown",
   "id": "1140da86",
   "metadata": {},
   "source": [
    "Explanation:\n",
    "\n",
    "Both Teacher and Student inherit from Person, and TeachingAssistant inherits first from Student, then from Teacher.\n",
    "\n",
    "When x.greet() method is called and x is an object of type TeachingAssistant, super().greet() refers to Student.  Student's greet() method calls Person.greet(), so 'I am a Person' is printed first, then 'I am a Student'.  Finally, the remainder of TeachingAssistant's greet() method prints 'I am a Teaching Assistant'. "
   ]
  },
  {
   "cell_type": "markdown",
   "id": "6c9ab327",
   "metadata": {},
   "source": [
    "4. In the following inheritance hierarchy we have written code to add 'S' to id of Student, 'T' to id of Teacher and both 'T' and 'S' to id of Teaching Assistant. What will be the output of this code. If the code does not work as intended, what changes do we need to make?\n",
    "\n"
   ]
  },
  {
   "cell_type": "code",
   "execution_count": 225,
   "id": "b7019758",
   "metadata": {},
   "outputs": [
    {
     "name": "stdout",
     "output_type": "stream",
     "text": [
      "2675T\n",
      "4567S\n",
      "3421T\n",
      "5749\n"
     ]
    }
   ],
   "source": [
    "class Person:\n",
    "    def __init__(self,id):\n",
    "        self.id = id\n",
    "        \n",
    "class Teacher(Person):\n",
    "    def __init__(self,id):\n",
    "        Person.__init__(self,id)\n",
    "        self.id += 'T'\n",
    "    \n",
    "class Student(Person):\n",
    "    def __init__(self,id):\n",
    "        Person.__init__(self,id)\n",
    "        self.id += 'S'\n",
    "   \n",
    "class TeachingAssistant(Student, Teacher):\n",
    "     def __init__(self,id):\n",
    "        Student.__init__(self,id)\n",
    "        Teacher.__init__(self,id)\n",
    "       \n",
    "x = TeachingAssistant('2675')\n",
    "print(x.id)\n",
    "y = Student('4567')\n",
    "print(y.id)\n",
    "z = Teacher('3421')\n",
    "print(z.id)\n",
    "p = Person('5749')\n",
    "print(p.id)"
   ]
  },
  {
   "cell_type": "markdown",
   "id": "7a56cdb2",
   "metadata": {},
   "source": [
    "The modification below accomplishes the object by using super() when calling the __init__ methods. This ensures that MRO will be followed as the super() methods are called."
   ]
  },
  {
   "cell_type": "code",
   "execution_count": 227,
   "id": "823a9cb2",
   "metadata": {},
   "outputs": [
    {
     "name": "stdout",
     "output_type": "stream",
     "text": [
      "2675TS\n",
      "4567S\n",
      "3421T\n",
      "5749\n"
     ]
    }
   ],
   "source": [
    "class Person:\n",
    "    def __init__(self,id):\n",
    "        self.id = id\n",
    "        \n",
    "class Teacher(Person):\n",
    "    def __init__(self,id):\n",
    "        super().__init__(id)\n",
    "        self.id += 'T'\n",
    "    \n",
    "class Student(Person):\n",
    "    def __init__(self,id):\n",
    "        super().__init__(id)\n",
    "        self.id += 'S'\n",
    "   \n",
    "class TeachingAssistant(Student, Teacher):\n",
    "     def __init__(self,id):\n",
    "        super().__init__(id)\n",
    "       \n",
    "x = TeachingAssistant('2675')\n",
    "print(x.id)\n",
    "y = Student('4567')\n",
    "print(y.id)\n",
    "z = Teacher('3421')\n",
    "print(z.id)\n",
    "p = Person('5749')\n",
    "print(p.id)"
   ]
  },
  {
   "cell_type": "code",
   "execution_count": null,
   "id": "5e67d84d",
   "metadata": {},
   "outputs": [],
   "source": []
  }
 ],
 "metadata": {
  "kernelspec": {
   "display_name": "Python 3 (ipykernel)",
   "language": "python",
   "name": "python3"
  },
  "language_info": {
   "codemirror_mode": {
    "name": "ipython",
    "version": 3
   },
   "file_extension": ".py",
   "mimetype": "text/x-python",
   "name": "python",
   "nbconvert_exporter": "python",
   "pygments_lexer": "ipython3",
   "version": "3.8.5"
  }
 },
 "nbformat": 4,
 "nbformat_minor": 5
}
