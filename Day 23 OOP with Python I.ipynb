{
 "cells": [
  {
   "cell_type": "markdown",
   "id": "644a811f",
   "metadata": {},
   "source": [
    "## OOP with Python\n",
    "\n",
    "July 2, 2022\n",
    "\n",
    "Udemy Course by Deepali Srivastava"
   ]
  },
  {
   "cell_type": "markdown",
   "id": "46f76505",
   "metadata": {},
   "source": [
    "Real-world objects or entities are modeled using OBJECTS that have both STATE and BEHAVIOR."
   ]
  },
  {
   "cell_type": "markdown",
   "id": "712017bb",
   "metadata": {},
   "source": [
    "Two main components:\n",
    "\n",
    "- Objects\n",
    "\n",
    "- Classes"
   ]
  },
  {
   "cell_type": "markdown",
   "id": "413abd73",
   "metadata": {},
   "source": [
    "We want to model real-world things that have SIMILAR BEHAVIOR, but may differ in their internal state."
   ]
  },
  {
   "cell_type": "markdown",
   "id": "ff114bba",
   "metadata": {},
   "source": [
    "Classes allow us to create user-defined types, and use type checking to help validate our code interactions.\n",
    "\n",
    "Each object created from a given class will have similar attributes and behaviors.\n",
    "\n",
    "Object-orientation also allows us to create super-classes that define attributes and behavior that will be passed down to inheritors who can extend these general things to more specific things without having to re-define everything that went before.  This is something we really care about in the development of Liquify - **polymorphism** - the ability to define a set of methods/behaviors, and extend them to handle a variety of different data storage paradigms."
   ]
  },
  {
   "cell_type": "code",
   "execution_count": 1,
   "id": "868df6f1",
   "metadata": {},
   "outputs": [
    {
     "data": {
      "text/plain": [
       "2129037079408"
      ]
     },
     "execution_count": 1,
     "metadata": {},
     "output_type": "execute_result"
    }
   ],
   "source": [
    "# Create an empty class, instantiate an object and return its id\n",
    "\n",
    "class Person:\n",
    "    pass\n",
    "\n",
    "p = Person()\n",
    "\n",
    "id(p)"
   ]
  },
  {
   "cell_type": "code",
   "execution_count": 2,
   "id": "2aa5f026",
   "metadata": {},
   "outputs": [
    {
     "data": {
      "text/plain": [
       "__main__.Person"
      ]
     },
     "execution_count": 2,
     "metadata": {},
     "output_type": "execute_result"
    }
   ],
   "source": [
    "type(p)"
   ]
  },
  {
   "cell_type": "code",
   "execution_count": 8,
   "id": "527a6f0b",
   "metadata": {},
   "outputs": [
    {
     "name": "stdout",
     "output_type": "stream",
     "text": [
      "Hello, my name is Josh Starmer. BAM!!\n",
      "How is it going?\n"
     ]
    }
   ],
   "source": [
    "# Re-define with some methods and attributes\n",
    "\n",
    "class Person():\n",
    "    \n",
    "    # **always** use self as the first parameter - python will pass this without prompting\n",
    "    def setDetails(self, name, age):\n",
    "        self.name = name\n",
    "        self.age = age\n",
    "    \n",
    "    def display(self):\n",
    "        print(\"Hello, my name is \" + self.name + \". BAM!!\")\n",
    "        \n",
    "    def greet(self):\n",
    "        # call methods in the class using self\n",
    "        self.display()\n",
    "        # refer to attributes using self\n",
    "        if self.age > 80:\n",
    "            print(\"How do you do?\")\n",
    "        else: \n",
    "            print(\"How is it going?\")\n",
    "        \n",
    "        \n",
    "p2 = Person()\n",
    "p2.setDetails(\"Josh Starmer\", 32)\n",
    "p2.greet()"
   ]
  },
  {
   "cell_type": "code",
   "execution_count": 9,
   "id": "0427226e",
   "metadata": {},
   "outputs": [
    {
     "name": "stdout",
     "output_type": "stream",
     "text": [
      "Josh Starmer has blonde hair.\n"
     ]
    }
   ],
   "source": [
    "# Because it is possible to dynamically assign instance variables in Python, \n",
    "# we have to be careful how we manipulate class variables\n",
    "\n",
    "# Example:\n",
    "p2.hair = \"blonde\"\n",
    "print(p2.name + \" has \" + p2.hair + \" hair.\")"
   ]
  },
  {
   "cell_type": "markdown",
   "id": "ac4e16c3",
   "metadata": {},
   "source": [
    "Nowhere inside the class is the variable 'hair' declared, but because of python's flexibility we can add it any old time.  Because of this we have to be careful to allocate most of what we need inside the class, and only add new things where performance requires that we do so."
   ]
  },
  {
   "cell_type": "markdown",
   "id": "fcd6ee6f",
   "metadata": {},
   "source": [
    "### Practice Exercise 1 - Bank Account\n",
    "\n",
    "Make a class that represents a bank account. \n",
    "\n",
    "Create four methods named set_details, display, withdraw and deposit.\n",
    "\n",
    "In the set_details method, create two instance variables: name and balance. \n",
    "\n",
    "The default value for balance should be zero. \n",
    "\n",
    "In the display method, display the values of these two instance variables.\n",
    "\n",
    "Both the methods withdraw and deposit have amount as parameter. \n",
    "\n",
    "Inside withdraw, subtract the amount from balance and inside deposit, add the amount to the balance.\n",
    "\n",
    "Create two instances of this class and call the methods on those instances."
   ]
  },
  {
   "cell_type": "code",
   "execution_count": 119,
   "id": "ba200f22",
   "metadata": {},
   "outputs": [],
   "source": [
    "class Account:\n",
    "    \n",
    "    # INITIALIZER\n",
    "    def __init__(self, name, age, balance=0):\n",
    "        self.nvalue = name\n",
    "        self.bvalue = balance\n",
    "        self.age = age\n",
    "        self.display()\n",
    "    \n",
    "    # DECORATORS\n",
    "    @property\n",
    "    def bvalue(self):\n",
    "        return self._balance\n",
    "    \n",
    "    @bvalue.setter\n",
    "    def bvalue(self, balance):\n",
    "        if type(balance) == int or type(balance) == float:\n",
    "            self._balance = round(float(balance), 2)\n",
    "        else:\n",
    "            raise ValueError(\"Cannot set balance; value not numeric.\")\n",
    "    \n",
    "    @property\n",
    "    def nvalue(self):\n",
    "        return self._name\n",
    "    \n",
    "    @nvalue.setter\n",
    "    def nvalue(self, name):\n",
    "        if type(name) == str:\n",
    "            self._name = name\n",
    "        else:\n",
    "            raise ValueError(\"Cannot set name; value not string.\")\n",
    "            \n",
    "    @property\n",
    "    def age(self):\n",
    "        raise AttributeError(\"Age is none of your business.\")\n",
    "    \n",
    "    @age.setter\n",
    "    def age(self, age):\n",
    "        if type(age) == int or type(age) == float:\n",
    "            if 15 < age < 111:\n",
    "                self._age = age\n",
    "            else:\n",
    "                raise ValueError(\"Cannot set age; value out of range. Must be between 15 and 110 years old.\")\n",
    "        else:\n",
    "            raise ValueError(\"Cannot set age; value not numeric.\")\n",
    "    \n",
    "    @age.deleter\n",
    "    def age(self):\n",
    "        print(\"Age deleted.\")\n",
    "\n",
    "    # PUBLIC methods\n",
    "    def display(self):\n",
    "        a, b = self.nvalue, self.bvalue\n",
    "        print(\"Account name: {0}\".format(a))\n",
    "        print(\"Current balance: ${0}\".format(b))\n",
    "\n",
    "                \n",
    "    def withdraw(self, amount):\n",
    "        amount = float(amount)\n",
    "        print(\"Withdrawing ${0} from {1}...\".format(self.bvalue, self.nvalue))\n",
    "        if amount < self.bvalue:\n",
    "            self.bvalue -= amount\n",
    "            print(\"Success. Balance now ${0}\".format(self.bvalue))\n",
    "        else:\n",
    "            print(\"Sorry, you don't have enough money, balance is ${0}\".format(self.bvalue))\n",
    "    \n",
    "    def deposit(self, amount):\n",
    "        amount = float(amount)\n",
    "        print(\"Depositing ${0} to {1}...\".format(self.bvalue, self.nvalue))\n",
    "        self.bvalue += amount\n",
    "        print(\"Success. Balance now ${0}\".format(self.bvalue))\n"
   ]
  },
  {
   "cell_type": "code",
   "execution_count": 120,
   "id": "6c84eca5",
   "metadata": {},
   "outputs": [
    {
     "name": "stdout",
     "output_type": "stream",
     "text": [
      "Account name: Georgie's Account\n",
      "Current balance: $123.45\n",
      "Account name: Mom's Account\n",
      "Current balance: $9876.11\n",
      "\n",
      "\n",
      "Withdrawing $123.45 from Georgie's Account...\n",
      "Sorry, you don't have enough money, balance is $123.45\n",
      "Withdrawing $9876.11 from Mom's Account...\n",
      "Success. Balance now $9825.23\n",
      "\n",
      "\n",
      "Depositing $123.45 to Georgie's Account...\n",
      "Success. Balance now $273.45\n",
      "Depositing $9825.23 to Mom's Account...\n",
      "Success. Balance now $11313.23\n",
      "\n",
      "\n",
      "Account name: Georgie's Account\n",
      "Current balance: $273.45\n",
      "Account name: Mom's Account\n",
      "Current balance: $11313.23\n"
     ]
    }
   ],
   "source": [
    "a1 = Account(\"Georgie's Account\", 16, 123.45)\n",
    "a2 = Account(\"Mom's Account\", 61, 9876.11)\n",
    "print(\"\\n\")\n",
    "\n",
    "a1.withdraw(200)\n",
    "a2.withdraw(50.88)\n",
    "print(\"\\n\")\n",
    "\n",
    "a1.deposit(150)\n",
    "a2.deposit(1488)\n",
    "print(\"\\n\")\n",
    "\n",
    "a1.display()\n",
    "a2.display()"
   ]
  },
  {
   "cell_type": "code",
   "execution_count": 121,
   "id": "532832c3",
   "metadata": {},
   "outputs": [],
   "source": [
    "a2.age = 62"
   ]
  },
  {
   "cell_type": "code",
   "execution_count": 122,
   "id": "28cc3862",
   "metadata": {},
   "outputs": [
    {
     "ename": "AttributeError",
     "evalue": "Age is none of your business.",
     "output_type": "error",
     "traceback": [
      "\u001b[1;31m---------------------------------------------------------------------------\u001b[0m",
      "\u001b[1;31mAttributeError\u001b[0m                            Traceback (most recent call last)",
      "\u001b[1;32m~\\AppData\\Local\\Temp/ipykernel_11480/1500104955.py\u001b[0m in \u001b[0;36m<module>\u001b[1;34m\u001b[0m\n\u001b[1;32m----> 1\u001b[1;33m \u001b[0ma2\u001b[0m\u001b[1;33m.\u001b[0m\u001b[0mage\u001b[0m\u001b[1;33m\u001b[0m\u001b[1;33m\u001b[0m\u001b[0m\n\u001b[0m",
      "\u001b[1;32m~\\AppData\\Local\\Temp/ipykernel_11480/1279163561.py\u001b[0m in \u001b[0;36mage\u001b[1;34m(self)\u001b[0m\n\u001b[0;32m     33\u001b[0m     \u001b[1;33m@\u001b[0m\u001b[0mproperty\u001b[0m\u001b[1;33m\u001b[0m\u001b[1;33m\u001b[0m\u001b[0m\n\u001b[0;32m     34\u001b[0m     \u001b[1;32mdef\u001b[0m \u001b[0mage\u001b[0m\u001b[1;33m(\u001b[0m\u001b[0mself\u001b[0m\u001b[1;33m)\u001b[0m\u001b[1;33m:\u001b[0m\u001b[1;33m\u001b[0m\u001b[1;33m\u001b[0m\u001b[0m\n\u001b[1;32m---> 35\u001b[1;33m         \u001b[1;32mraise\u001b[0m \u001b[0mAttributeError\u001b[0m\u001b[1;33m(\u001b[0m\u001b[1;34m\"Age is none of your business.\"\u001b[0m\u001b[1;33m)\u001b[0m\u001b[1;33m\u001b[0m\u001b[1;33m\u001b[0m\u001b[0m\n\u001b[0m\u001b[0;32m     36\u001b[0m \u001b[1;33m\u001b[0m\u001b[0m\n\u001b[0;32m     37\u001b[0m     \u001b[1;33m@\u001b[0m\u001b[0mage\u001b[0m\u001b[1;33m.\u001b[0m\u001b[0msetter\u001b[0m\u001b[1;33m\u001b[0m\u001b[1;33m\u001b[0m\u001b[0m\n",
      "\u001b[1;31mAttributeError\u001b[0m: Age is none of your business."
     ]
    }
   ],
   "source": [
    "a2.age"
   ]
  },
  {
   "cell_type": "code",
   "execution_count": 123,
   "id": "dc9da7e6",
   "metadata": {},
   "outputs": [
    {
     "name": "stdout",
     "output_type": "stream",
     "text": [
      "Account name: Balthazar\n",
      "Current balance: $88.09\n"
     ]
    },
    {
     "ename": "ValueError",
     "evalue": "Cannot set balance; value not numeric.",
     "output_type": "error",
     "traceback": [
      "\u001b[1;31m---------------------------------------------------------------------------\u001b[0m",
      "\u001b[1;31mValueError\u001b[0m                                Traceback (most recent call last)",
      "\u001b[1;32m~\\AppData\\Local\\Temp/ipykernel_11480/675472311.py\u001b[0m in \u001b[0;36m<module>\u001b[1;34m\u001b[0m\n\u001b[0;32m      1\u001b[0m \u001b[0ma3\u001b[0m \u001b[1;33m=\u001b[0m \u001b[0mAccount\u001b[0m\u001b[1;33m(\u001b[0m\u001b[1;34m\"Balthazar\"\u001b[0m\u001b[1;33m,\u001b[0m \u001b[1;36m101\u001b[0m\u001b[1;33m,\u001b[0m \u001b[1;36m88.09\u001b[0m\u001b[1;33m)\u001b[0m\u001b[1;33m\u001b[0m\u001b[1;33m\u001b[0m\u001b[0m\n\u001b[1;32m----> 2\u001b[1;33m \u001b[0ma3\u001b[0m\u001b[1;33m.\u001b[0m\u001b[0mbvalue\u001b[0m \u001b[1;33m=\u001b[0m \u001b[1;34m\"purple\"\u001b[0m\u001b[1;33m\u001b[0m\u001b[1;33m\u001b[0m\u001b[0m\n\u001b[0m",
      "\u001b[1;32m~\\AppData\\Local\\Temp/ipykernel_11480/1279163561.py\u001b[0m in \u001b[0;36mbvalue\u001b[1;34m(self, balance)\u001b[0m\n\u001b[0;32m     18\u001b[0m             \u001b[0mself\u001b[0m\u001b[1;33m.\u001b[0m\u001b[0m_balance\u001b[0m \u001b[1;33m=\u001b[0m \u001b[0mround\u001b[0m\u001b[1;33m(\u001b[0m\u001b[0mfloat\u001b[0m\u001b[1;33m(\u001b[0m\u001b[0mbalance\u001b[0m\u001b[1;33m)\u001b[0m\u001b[1;33m,\u001b[0m \u001b[1;36m2\u001b[0m\u001b[1;33m)\u001b[0m\u001b[1;33m\u001b[0m\u001b[1;33m\u001b[0m\u001b[0m\n\u001b[0;32m     19\u001b[0m         \u001b[1;32melse\u001b[0m\u001b[1;33m:\u001b[0m\u001b[1;33m\u001b[0m\u001b[1;33m\u001b[0m\u001b[0m\n\u001b[1;32m---> 20\u001b[1;33m             \u001b[1;32mraise\u001b[0m \u001b[0mValueError\u001b[0m\u001b[1;33m(\u001b[0m\u001b[1;34m\"Cannot set balance; value not numeric.\"\u001b[0m\u001b[1;33m)\u001b[0m\u001b[1;33m\u001b[0m\u001b[1;33m\u001b[0m\u001b[0m\n\u001b[0m\u001b[0;32m     21\u001b[0m \u001b[1;33m\u001b[0m\u001b[0m\n\u001b[0;32m     22\u001b[0m     \u001b[1;33m@\u001b[0m\u001b[0mproperty\u001b[0m\u001b[1;33m\u001b[0m\u001b[1;33m\u001b[0m\u001b[0m\n",
      "\u001b[1;31mValueError\u001b[0m: Cannot set balance; value not numeric."
     ]
    }
   ],
   "source": [
    "a3 = Account(\"Balthazar\", 101, 88.09)\n",
    "a3.bvalue = \"purple\""
   ]
  },
  {
   "cell_type": "code",
   "execution_count": 124,
   "id": "184917e5",
   "metadata": {},
   "outputs": [
    {
     "name": "stdout",
     "output_type": "stream",
     "text": [
      "Account name: Balthazar\n",
      "Current balance: $176.18\n"
     ]
    }
   ],
   "source": [
    "a3.bvalue += a3.bvalue\n",
    "a3.display()"
   ]
  },
  {
   "cell_type": "code",
   "execution_count": 125,
   "id": "98a8fcaa",
   "metadata": {},
   "outputs": [
    {
     "name": "stdout",
     "output_type": "stream",
     "text": [
      "Age deleted.\n"
     ]
    }
   ],
   "source": [
    "del a3.age"
   ]
  },
  {
   "cell_type": "code",
   "execution_count": 126,
   "id": "7ff2c6c8",
   "metadata": {},
   "outputs": [],
   "source": [
    "a3.age = 90"
   ]
  },
  {
   "cell_type": "code",
   "execution_count": 133,
   "id": "cc383dd0",
   "metadata": {},
   "outputs": [],
   "source": [
    "# A simple rectangle class, no type-checking\n",
    "class Rectangle:\n",
    "    \n",
    "    def __init__(self, width, height):\n",
    "        self.width = width\n",
    "        self.height = height\n",
    "    \n",
    "    # diagonal should be a property so it can be re-computed as values of width & height change\n",
    "    # it doesn't need a setter method, because we don't expect anyone to set the value\n",
    "    @property\n",
    "    def diagonal(self):\n",
    "        return (self.width*self.width + self.height*self.height)**0.5\n",
    "        \n",
    "    def area(self):\n",
    "        return self.width*self.height\n",
    "    \n",
    "    def perimeter(self):\n",
    "        return 2*(self.width+self.height)"
   ]
  },
  {
   "cell_type": "code",
   "execution_count": 134,
   "id": "bf9d5fb8",
   "metadata": {},
   "outputs": [
    {
     "data": {
      "text/plain": [
       "16"
      ]
     },
     "execution_count": 134,
     "metadata": {},
     "output_type": "execute_result"
    }
   ],
   "source": [
    "rect = Rectangle(8, 2)\n",
    "rect.area()"
   ]
  },
  {
   "cell_type": "code",
   "execution_count": 135,
   "id": "ff78390e",
   "metadata": {},
   "outputs": [
    {
     "data": {
      "text/plain": [
       "20"
      ]
     },
     "execution_count": 135,
     "metadata": {},
     "output_type": "execute_result"
    }
   ],
   "source": [
    "rect.perimeter()"
   ]
  },
  {
   "cell_type": "code",
   "execution_count": 136,
   "id": "40ddb4c6",
   "metadata": {},
   "outputs": [
    {
     "data": {
      "text/plain": [
       "8.246211251235321"
      ]
     },
     "execution_count": 136,
     "metadata": {},
     "output_type": "execute_result"
    }
   ],
   "source": [
    "rect.diagonal"
   ]
  },
  {
   "cell_type": "code",
   "execution_count": 137,
   "id": "41ea2fca",
   "metadata": {},
   "outputs": [
    {
     "data": {
      "text/plain": [
       "24"
      ]
     },
     "execution_count": 137,
     "metadata": {},
     "output_type": "execute_result"
    }
   ],
   "source": [
    "rect.height = 3\n",
    "rect.area()"
   ]
  },
  {
   "cell_type": "code",
   "execution_count": 138,
   "id": "045b72cc",
   "metadata": {},
   "outputs": [
    {
     "data": {
      "text/plain": [
       "8.54400374531753"
      ]
     },
     "execution_count": 138,
     "metadata": {},
     "output_type": "execute_result"
    }
   ],
   "source": [
    "rect.diagonal"
   ]
  },
  {
   "cell_type": "markdown",
   "id": "3922c52f",
   "metadata": {},
   "source": [
    "### Practice Exercise 2\n",
    "\n",
    "Create a class named Book with an __init__ method. Inside the __init__ method, create the instance variables isbn, title, author, publisher, pages, price, copies.\n",
    "\n",
    "Create these four instance objects from this class.\n",
    "\n",
    "book1 = Book('957-4-36-547417-1', 'Learn Physics','Stephen', 'CBC', 350, 200,10)\n",
    "book2 = Book('652-6-86-748413-3', 'Learn Chemistry','Jack', 'CBC', 400, 220,20)\n",
    "book3 = Book('957-7-39-347216-2', 'Learn Maths','John', 'XYZ', 500, 300,5)\n",
    "book4 = Book('957-7-39-347216-2', 'Learn Biology','Jack', 'XYZ', 400, 200,6)\n",
    "Write a method display that prints the isbn, title, price and number of copies of the book.\n",
    "\n",
    "Write a method named \"in_stock\" that returns True if number of copies is more than zero, otherwise it returns False.\n",
    "\n",
    "Create another method named sell that decreases the number of copies by 1 if the book is in stock, otherwise it prints the message that the book is out of stock.\n",
    "\n",
    "Create a list named books that contains the 4 Book instance objects that you have created in question 2. Iterate over this list using a for loop and call display() for each object in the list.\n",
    "\n",
    "Write a list comprehension to create another list that contains title of books written by Jack.\n",
    "\n",
    "Create a property named price such that the price of a book cannot be less than 50 or more than 1000.\n",
    "\n",
    "\n"
   ]
  },
  {
   "cell_type": "code",
   "execution_count": 140,
   "id": "7bf6149f",
   "metadata": {},
   "outputs": [],
   "source": [
    "class Book:\n",
    "    \n",
    "    def __init__(self, isbn, title, author, publisher, pages, price, copies):\n",
    "        self.isbn = isbn\n",
    "        self.title = title\n",
    "        self.author = author\n",
    "        self.publisher = publisher\n",
    "        self.pages = pages\n",
    "        self.price = price\n",
    "        self.copies = copies\n",
    "    \n",
    "    @property\n",
    "    def price(self):\n",
    "        return(self._price)\n",
    "    \n",
    "    @price.setter\n",
    "    def price(self, price):\n",
    "        if 50 < price < 1001:\n",
    "            self._price = price\n",
    "        else:\n",
    "            raise AttributeError(\"Price must be between $50 and $1000.\")\n",
    "            \n",
    "            \n",
    "    def display(self):\n",
    "        print(\"Book: {0}, ISBN: {1}, Price: ${2}, Copies: {3}\".format(self.title, self.isbn, self.price, self.copies))\n",
    "        \n",
    "    def in_stock(self):\n",
    "        if self.copies > 0:\n",
    "            return True\n",
    "        else:\n",
    "            return False\n",
    "        \n",
    "    def sell(self):\n",
    "        if self.copies > 0:\n",
    "            self.copies -= 1\n",
    "        else:\n",
    "            print(\"Sorry, {0} is currently out of stock.\".format(self.title))\n",
    "            \n",
    "    \n",
    "    "
   ]
  },
  {
   "cell_type": "code",
   "execution_count": 141,
   "id": "1f6e5e13",
   "metadata": {},
   "outputs": [],
   "source": [
    "book1 = Book('957-4-36-547417-1', 'Learn Physics','Stephen', 'CBC', 350, 200, 10) \n",
    "book2 = Book('652-6-86-748413-3', 'Learn Chemistry','Jack', 'CBC', 400, 220, 20) \n",
    "book3 = Book('957-7-39-347216-2', 'Learn Maths','John', 'XYZ', 500, 300, 5) \n",
    "book4 = Book('957-7-39-347216-2', 'Learn Biology','Jack', 'XYZ', 400, 200, 6) "
   ]
  },
  {
   "cell_type": "code",
   "execution_count": 144,
   "id": "d8020e16",
   "metadata": {},
   "outputs": [
    {
     "name": "stdout",
     "output_type": "stream",
     "text": [
      "Book: Learn Physics, ISBN: 957-4-36-547417-1, Price: $200, Copies: 10\n",
      "Book: Learn Chemistry, ISBN: 652-6-86-748413-3, Price: $220, Copies: 20\n",
      "Book: Learn Maths, ISBN: 957-7-39-347216-2, Price: $300, Copies: 5\n",
      "Book: Learn Biology, ISBN: 957-7-39-347216-2, Price: $200, Copies: 6\n"
     ]
    }
   ],
   "source": [
    "bookslist = [book1, book2, book3, book4]\n",
    "for book in bookslist:\n",
    "    book.display()"
   ]
  },
  {
   "cell_type": "code",
   "execution_count": 145,
   "id": "d16455ab",
   "metadata": {},
   "outputs": [
    {
     "data": {
      "text/plain": [
       "['Learn Chemistry', 'Learn Biology']"
      ]
     },
     "execution_count": 145,
     "metadata": {},
     "output_type": "execute_result"
    }
   ],
   "source": [
    "[book.title for book in bookslist if book.author == \"Jack\"]"
   ]
  },
  {
   "cell_type": "code",
   "execution_count": 147,
   "id": "7dbda958",
   "metadata": {},
   "outputs": [
    {
     "ename": "AttributeError",
     "evalue": "Price must be between $50 and $1000.",
     "output_type": "error",
     "traceback": [
      "\u001b[1;31m---------------------------------------------------------------------------\u001b[0m",
      "\u001b[1;31mAttributeError\u001b[0m                            Traceback (most recent call last)",
      "\u001b[1;32m~\\AppData\\Local\\Temp/ipykernel_11480/3719145732.py\u001b[0m in \u001b[0;36m<module>\u001b[1;34m\u001b[0m\n\u001b[1;32m----> 1\u001b[1;33m \u001b[0mbook5\u001b[0m \u001b[1;33m=\u001b[0m \u001b[0mBook\u001b[0m\u001b[1;33m(\u001b[0m\u001b[1;34m'957-7-39-348816-5'\u001b[0m\u001b[1;33m,\u001b[0m \u001b[1;34m'Strange Orangutans'\u001b[0m\u001b[1;33m,\u001b[0m\u001b[1;34m'Mabel Montgomery'\u001b[0m\u001b[1;33m,\u001b[0m \u001b[1;34m'Wild'\u001b[0m\u001b[1;33m,\u001b[0m \u001b[1;36m362\u001b[0m\u001b[1;33m,\u001b[0m \u001b[1;36m48\u001b[0m\u001b[1;33m,\u001b[0m \u001b[1;36m2\u001b[0m\u001b[1;33m)\u001b[0m\u001b[1;33m\u001b[0m\u001b[1;33m\u001b[0m\u001b[0m\n\u001b[0m",
      "\u001b[1;32m~\\AppData\\Local\\Temp/ipykernel_11480/4041206655.py\u001b[0m in \u001b[0;36m__init__\u001b[1;34m(self, isbn, title, author, publisher, pages, price, copies)\u001b[0m\n\u001b[0;32m      7\u001b[0m         \u001b[0mself\u001b[0m\u001b[1;33m.\u001b[0m\u001b[0mpublisher\u001b[0m \u001b[1;33m=\u001b[0m \u001b[0mpublisher\u001b[0m\u001b[1;33m\u001b[0m\u001b[1;33m\u001b[0m\u001b[0m\n\u001b[0;32m      8\u001b[0m         \u001b[0mself\u001b[0m\u001b[1;33m.\u001b[0m\u001b[0mpages\u001b[0m \u001b[1;33m=\u001b[0m \u001b[0mpages\u001b[0m\u001b[1;33m\u001b[0m\u001b[1;33m\u001b[0m\u001b[0m\n\u001b[1;32m----> 9\u001b[1;33m         \u001b[0mself\u001b[0m\u001b[1;33m.\u001b[0m\u001b[0mprice\u001b[0m \u001b[1;33m=\u001b[0m \u001b[0mprice\u001b[0m\u001b[1;33m\u001b[0m\u001b[1;33m\u001b[0m\u001b[0m\n\u001b[0m\u001b[0;32m     10\u001b[0m         \u001b[0mself\u001b[0m\u001b[1;33m.\u001b[0m\u001b[0mcopies\u001b[0m \u001b[1;33m=\u001b[0m \u001b[0mcopies\u001b[0m\u001b[1;33m\u001b[0m\u001b[1;33m\u001b[0m\u001b[0m\n\u001b[0;32m     11\u001b[0m \u001b[1;33m\u001b[0m\u001b[0m\n",
      "\u001b[1;32m~\\AppData\\Local\\Temp/ipykernel_11480/4041206655.py\u001b[0m in \u001b[0;36mprice\u001b[1;34m(self, price)\u001b[0m\n\u001b[0;32m     19\u001b[0m             \u001b[0mself\u001b[0m\u001b[1;33m.\u001b[0m\u001b[0m_price\u001b[0m \u001b[1;33m=\u001b[0m \u001b[0mprice\u001b[0m\u001b[1;33m\u001b[0m\u001b[1;33m\u001b[0m\u001b[0m\n\u001b[0;32m     20\u001b[0m         \u001b[1;32melse\u001b[0m\u001b[1;33m:\u001b[0m\u001b[1;33m\u001b[0m\u001b[1;33m\u001b[0m\u001b[0m\n\u001b[1;32m---> 21\u001b[1;33m             \u001b[1;32mraise\u001b[0m \u001b[0mAttributeError\u001b[0m\u001b[1;33m(\u001b[0m\u001b[1;34m\"Price must be between $50 and $1000.\"\u001b[0m\u001b[1;33m)\u001b[0m\u001b[1;33m\u001b[0m\u001b[1;33m\u001b[0m\u001b[0m\n\u001b[0m\u001b[0;32m     22\u001b[0m \u001b[1;33m\u001b[0m\u001b[0m\n\u001b[0;32m     23\u001b[0m \u001b[1;33m\u001b[0m\u001b[0m\n",
      "\u001b[1;31mAttributeError\u001b[0m: Price must be between $50 and $1000."
     ]
    }
   ],
   "source": [
    "book5 = Book('957-7-39-348816-5', 'Strange Orangutans','Mabel Montgomery', 'Wild', 362, 48, 2)"
   ]
  },
  {
   "cell_type": "markdown",
   "id": "35f85456",
   "metadata": {},
   "source": [
    "### Practice Exercise 3\n",
    "\n",
    "Make a class Fraction that contains two instance variables, nr and dr (nr stands for numerator and dr for denominator) \n",
    "\n",
    "Define an __init__ method that provides values for these instance variables. Make the denominator optional by providing a default argument of 1.\n",
    "\n",
    "In the __init__ method, make the denominator positive if it is negative. For example  -2/-3 should be changed to 2/3 and 2/-3 to -2/3.\n",
    "\n",
    "Write a method named show that prints numerator, then '/' and then the denominator.\n",
    "\n",
    "Define a method named multiply that multiples two Fraction instance objects. For multiplying two fractions, you have to multiply the numerator with numerator and denominator with the denominator.\n",
    "\n",
    "Inside the method, create a new instance object that is the product of the two fractions and return it. Write your method in such a way that it supports multiplication of a Fraction by an integer also.\n",
    "\n",
    "Similarly define a method named add to add two Fraction instance objects. Sum of two fractions n1/d1 and n2/d2 is (n1*d2 + n2*d1) / (d1*d2). This method should also support addition of a Fraction by an integer.\n",
    "\n",
    "Test your fraction class with this code.\n",
    "\n",
    "f1 = Fraction(2,3)\n",
    "f1.show()\n",
    "f2 = Fraction(3,4)\n",
    "f2.show()\n",
    "f3 = f1.multiply(f2)\n",
    "f3.show()\n",
    "f3 = f1.add(f2)\n",
    "f3.show()\n",
    "f3 = f1.add(5) \n",
    "f3.show()\n",
    "f3 = f1.multiply(5) \n",
    "f3.show()\n",
    "\n",
    "The output that you should get is given below.\n",
    "\n",
    "2/3\n",
    "\n",
    "3/4\n",
    "\n",
    "6/12\n",
    "\n",
    "17/12\n",
    "\n",
    "17/3\n",
    "\n",
    "10/3\n",
    "\n"
   ]
  },
  {
   "cell_type": "code",
   "execution_count": 150,
   "id": "56509290",
   "metadata": {},
   "outputs": [],
   "source": [
    "class Fraction:\n",
    "    \n",
    "    def __init__(self, nr, dr=1):\n",
    "        if nr < 0 and dr < 0: \n",
    "            nr = abs(nr)\n",
    "            dr = abs(dr)\n",
    "        if dr < 0:\n",
    "            dr = abs(dr)\n",
    "            \n",
    "        self.nr = nr\n",
    "        self.dr = dr\n",
    "        \n",
    "    def show(self):\n",
    "        print(\"{0}/{1}\".format(self.nr, self.dr))\n",
    "        \n",
    "    def multiply(self, f):\n",
    "        if type(f) == Fraction:\n",
    "            return Fraction((self.nr*f.nr), (self.dr*f.dr))\n",
    "        elif type(f) == int:\n",
    "            return Fraction((self.nr*f), self.dr)\n",
    "        else:\n",
    "            raise TypeError(\"This method multiplies a Fraction object by an integer or another Fraction object.\")\n",
    "    \n",
    "    def add(self, f):\n",
    "        #(n1d2 + n2d1) / (d1*d2)\n",
    "        if type(f) == Fraction:\n",
    "            return Fraction((self.nr*f.dr + f.nr*self.dr), (self.dr*f.dr))\n",
    "        elif type(f) == int:\n",
    "            return Fraction((self.nr + f*self.dr), self.dr)\n",
    "        else:\n",
    "            raise TypeError(\"This method adds a Fraction object to an integer or another Fraction object.\")"
   ]
  },
  {
   "cell_type": "code",
   "execution_count": 151,
   "id": "2961a296",
   "metadata": {},
   "outputs": [
    {
     "name": "stdout",
     "output_type": "stream",
     "text": [
      "2/3\n"
     ]
    }
   ],
   "source": [
    "f1 = Fraction(2,3) \n",
    "f1.show() "
   ]
  },
  {
   "cell_type": "code",
   "execution_count": 152,
   "id": "06e628c4",
   "metadata": {},
   "outputs": [
    {
     "name": "stdout",
     "output_type": "stream",
     "text": [
      "3/4\n"
     ]
    }
   ],
   "source": [
    "f2 = Fraction(3,4) \n",
    "f2.show() "
   ]
  },
  {
   "cell_type": "code",
   "execution_count": 153,
   "id": "efcef3aa",
   "metadata": {},
   "outputs": [
    {
     "name": "stdout",
     "output_type": "stream",
     "text": [
      "6/12\n"
     ]
    }
   ],
   "source": [
    "f3 = f1.multiply(f2) \n",
    "f3.show() "
   ]
  },
  {
   "cell_type": "code",
   "execution_count": 154,
   "id": "578a4909",
   "metadata": {},
   "outputs": [
    {
     "name": "stdout",
     "output_type": "stream",
     "text": [
      "17/12\n"
     ]
    }
   ],
   "source": [
    "f3 = f1.add(f2) \n",
    "f3.show() "
   ]
  },
  {
   "cell_type": "code",
   "execution_count": 155,
   "id": "69188d41",
   "metadata": {},
   "outputs": [
    {
     "name": "stdout",
     "output_type": "stream",
     "text": [
      "17/3\n"
     ]
    }
   ],
   "source": [
    "f3 = f1.add(5) \n",
    "f3.show() "
   ]
  },
  {
   "cell_type": "code",
   "execution_count": 156,
   "id": "fec226fc",
   "metadata": {},
   "outputs": [
    {
     "name": "stdout",
     "output_type": "stream",
     "text": [
      "10/3\n"
     ]
    }
   ],
   "source": [
    "f3 = f1.multiply(5) \n",
    "f3.show()"
   ]
  },
  {
   "cell_type": "markdown",
   "id": "86ba82b6",
   "metadata": {},
   "source": [
    "### Practice Exercise 4\n",
    "\n",
    "For the following class Product, create a read only property named \"selling_price\" that is calculated by deducting discount from the marked_price. The instance variable discount represents discount in percent.   \n",
    "\n",
    "class Product():\n",
    "    def __init__(self, id, marked_price, discount):\n",
    "        self.id = id\n",
    "        self.marked_price = marked_price\n",
    "        self.discount = discount\n",
    "    \n",
    "    def display(self):\n",
    "        print(self.id,  self.marked_price,  self.discount)\n",
    "    \n",
    "p1 = Product('X879', 400, 6)\n",
    "p2 = Product('A234', 100, 5)\n",
    "p3 = Product('B987', 990, 4)\n",
    "p4 = Product('H456', 800, 6)\n",
    "\n",
    "\n",
    "Suppose after some time, you want to give an additional 2% discount on a product, if its price is above 500. To incorporate this change, implement discount as a property in your Product class.\n"
   ]
  },
  {
   "cell_type": "code",
   "execution_count": 183,
   "id": "d135f960",
   "metadata": {},
   "outputs": [],
   "source": [
    "class Product:\n",
    "    def __init__(self, id, marked_price, discount):\n",
    "        self.id = id\n",
    "        self.marked_price = marked_price\n",
    "        self.discount = discount/100\n",
    "        \n",
    "    def display(self):\n",
    "        print(\"Product ID: {0}, Price:{1}, Discount:{2}\".format(self.id, self.marked_price, self.discount))\n",
    "        \n",
    "    @property\n",
    "    def selling_price(self):\n",
    "        temp = self.marked_price - (self.marked_price*self._discount)\n",
    "        if temp > 0:\n",
    "            return temp\n",
    "        else:\n",
    "            print(\"Cannot discount product below $0.\")\n",
    "            \n",
    "    @property\n",
    "    def discount(self):\n",
    "        return self._discount\n",
    "    \n",
    "    @discount.setter\n",
    "    def discount(self, discount):\n",
    "        if self.marked_price > 500:\n",
    "            self._discount = discount/100 + 0.02\n",
    "        else:\n",
    "            self._discount = discount/100"
   ]
  },
  {
   "cell_type": "code",
   "execution_count": 184,
   "id": "bfbe055e",
   "metadata": {},
   "outputs": [],
   "source": [
    "p1 = Product('X879', 400, 6) \n",
    "p2 = Product('A234', 100, 5) \n",
    "p3 = Product('B987', 990, 4) \n",
    "p4 = Product('H456', 800, 6)"
   ]
  },
  {
   "cell_type": "code",
   "execution_count": 185,
   "id": "d7ee6e37",
   "metadata": {},
   "outputs": [],
   "source": [
    "plist = [p1, p2, p3, p4]"
   ]
  },
  {
   "cell_type": "code",
   "execution_count": 186,
   "id": "69b5f5f6",
   "metadata": {},
   "outputs": [
    {
     "name": "stdout",
     "output_type": "stream",
     "text": [
      "Product ID: X879, Price:400, Discount:0.0006\n",
      "Product ID: A234, Price:100, Discount:0.0005\n",
      "Product ID: B987, Price:990, Discount:0.0204\n",
      "Product ID: H456, Price:800, Discount:0.0206\n"
     ]
    },
    {
     "data": {
      "text/plain": [
       "[None, None, None, None]"
      ]
     },
     "execution_count": 186,
     "metadata": {},
     "output_type": "execute_result"
    }
   ],
   "source": [
    "[prod.display() for prod in plist]"
   ]
  },
  {
   "cell_type": "code",
   "execution_count": 187,
   "id": "bf86ba12",
   "metadata": {},
   "outputs": [
    {
     "data": {
      "text/plain": [
       "[399.76, 99.95, 969.804, 783.52]"
      ]
     },
     "execution_count": 187,
     "metadata": {},
     "output_type": "execute_result"
    }
   ],
   "source": [
    "[prod.selling_price for prod in plist]"
   ]
  },
  {
   "cell_type": "code",
   "execution_count": 188,
   "id": "37fe6f5f",
   "metadata": {},
   "outputs": [
    {
     "data": {
      "text/plain": [
       "0.12000000000000001"
      ]
     },
     "execution_count": 188,
     "metadata": {},
     "output_type": "execute_result"
    }
   ],
   "source": [
    "p3.discount = 10\n",
    "p3.discount"
   ]
  },
  {
   "cell_type": "code",
   "execution_count": 189,
   "id": "4f7f4050",
   "metadata": {},
   "outputs": [
    {
     "data": {
      "text/plain": [
       "871.2"
      ]
     },
     "execution_count": 189,
     "metadata": {},
     "output_type": "execute_result"
    }
   ],
   "source": [
    "p3.selling_price"
   ]
  },
  {
   "cell_type": "markdown",
   "id": "9a3432af",
   "metadata": {},
   "source": [
    "### Practice Exercise 5\n",
    "\n",
    "Write a Circle class with an instance variable named radius and a method named area. Create two more attributes named diameter and circumference and make them behave as read only attributes. \n",
    "\n",
    "Perform data validation on radius, user should not be allowed to assign a negative value to it.\n",
    "\n",
    "For a circle\n",
    "\n",
    "diameter =  2 * radius\n",
    "\n",
    "circumference =  2 * 3.14 * radius\n",
    "\n",
    "area =  3.14 * radius * radius"
   ]
  },
  {
   "cell_type": "code",
   "execution_count": 190,
   "id": "60510ce4",
   "metadata": {},
   "outputs": [],
   "source": [
    "class Circle:\n",
    "    \n",
    "    def __init__(self, radius):\n",
    "        self.radius = radius\n",
    "    \n",
    "    @property\n",
    "    def radius(self):\n",
    "        return self._radius\n",
    "    \n",
    "    @radius.setter\n",
    "    def radius(self, rad):\n",
    "        if rad > 0:\n",
    "            self._radius = rad\n",
    "        else:\n",
    "            raise ValueError(\"Can't assign a negative value to radius.\")\n",
    "            \n",
    "    @property\n",
    "    def diameter(self):\n",
    "        return 2*self.radius\n",
    "    \n",
    "    @property\n",
    "    def circumference(self):\n",
    "        return 2*3.14159*self.radius\n",
    "    \n",
    "    def area(self):\n",
    "        return 3.14159*self.radius*self.radius"
   ]
  },
  {
   "cell_type": "code",
   "execution_count": 191,
   "id": "4d1e1da5",
   "metadata": {},
   "outputs": [
    {
     "data": {
      "text/plain": [
       "10"
      ]
     },
     "execution_count": 191,
     "metadata": {},
     "output_type": "execute_result"
    }
   ],
   "source": [
    "c1 = Circle(5)\n",
    "c1.diameter"
   ]
  },
  {
   "cell_type": "code",
   "execution_count": 192,
   "id": "c831b814",
   "metadata": {},
   "outputs": [
    {
     "data": {
      "text/plain": [
       "31.4159"
      ]
     },
     "execution_count": 192,
     "metadata": {},
     "output_type": "execute_result"
    }
   ],
   "source": [
    "c1.circumference"
   ]
  },
  {
   "cell_type": "code",
   "execution_count": 193,
   "id": "b2847827",
   "metadata": {},
   "outputs": [
    {
     "data": {
      "text/plain": [
       "78.53975"
      ]
     },
     "execution_count": 193,
     "metadata": {},
     "output_type": "execute_result"
    }
   ],
   "source": [
    "c1.area()"
   ]
  },
  {
   "cell_type": "code",
   "execution_count": 194,
   "id": "930515eb",
   "metadata": {},
   "outputs": [
    {
     "ename": "ValueError",
     "evalue": "Can't assign a negative value to radius.",
     "output_type": "error",
     "traceback": [
      "\u001b[1;31m---------------------------------------------------------------------------\u001b[0m",
      "\u001b[1;31mValueError\u001b[0m                                Traceback (most recent call last)",
      "\u001b[1;32m~\\AppData\\Local\\Temp/ipykernel_11480/2662271555.py\u001b[0m in \u001b[0;36m<module>\u001b[1;34m\u001b[0m\n\u001b[1;32m----> 1\u001b[1;33m \u001b[0mc1\u001b[0m\u001b[1;33m.\u001b[0m\u001b[0mradius\u001b[0m \u001b[1;33m=\u001b[0m \u001b[1;33m-\u001b[0m\u001b[1;36m1\u001b[0m\u001b[1;33m\u001b[0m\u001b[1;33m\u001b[0m\u001b[0m\n\u001b[0m",
      "\u001b[1;32m~\\AppData\\Local\\Temp/ipykernel_11480/2991931780.py\u001b[0m in \u001b[0;36mradius\u001b[1;34m(self, rad)\u001b[0m\n\u001b[0;32m     13\u001b[0m             \u001b[0mself\u001b[0m\u001b[1;33m.\u001b[0m\u001b[0m_radius\u001b[0m \u001b[1;33m=\u001b[0m \u001b[0mrad\u001b[0m\u001b[1;33m\u001b[0m\u001b[1;33m\u001b[0m\u001b[0m\n\u001b[0;32m     14\u001b[0m         \u001b[1;32melse\u001b[0m\u001b[1;33m:\u001b[0m\u001b[1;33m\u001b[0m\u001b[1;33m\u001b[0m\u001b[0m\n\u001b[1;32m---> 15\u001b[1;33m             \u001b[1;32mraise\u001b[0m \u001b[0mValueError\u001b[0m\u001b[1;33m(\u001b[0m\u001b[1;34m\"Can't assign a negative value to radius.\"\u001b[0m\u001b[1;33m)\u001b[0m\u001b[1;33m\u001b[0m\u001b[1;33m\u001b[0m\u001b[0m\n\u001b[0m\u001b[0;32m     16\u001b[0m \u001b[1;33m\u001b[0m\u001b[0m\n\u001b[0;32m     17\u001b[0m     \u001b[1;33m@\u001b[0m\u001b[0mproperty\u001b[0m\u001b[1;33m\u001b[0m\u001b[1;33m\u001b[0m\u001b[0m\n",
      "\u001b[1;31mValueError\u001b[0m: Can't assign a negative value to radius."
     ]
    }
   ],
   "source": [
    "c1.radius = -1"
   ]
  },
  {
   "cell_type": "code",
   "execution_count": 195,
   "id": "397f7016",
   "metadata": {},
   "outputs": [
    {
     "data": {
      "text/plain": [
       "452.38895999999994"
      ]
     },
     "execution_count": 195,
     "metadata": {},
     "output_type": "execute_result"
    }
   ],
   "source": [
    "c1.radius = 12\n",
    "c1.area()"
   ]
  },
  {
   "cell_type": "markdown",
   "id": "43395e0c",
   "metadata": {},
   "source": [
    "### Class Variables and Class Methods"
   ]
  },
  {
   "cell_type": "code",
   "execution_count": 244,
   "id": "2adee072",
   "metadata": {},
   "outputs": [],
   "source": [
    "class Person:\n",
    "    species = \"Homo Sapiens\"\n",
    "    \n",
    "    def __init__(self, name, age):\n",
    "        self.name = name\n",
    "        self.age = age\n",
    "        \n",
    "    def display(self):\n",
    "        print(\"I am\", self.name, \"and I am\", self.age, \"years old.\")\n",
    "    \n",
    "    # Use a class method to create a new instance of the Person object from a string\n",
    "    @classmethod\n",
    "    def from_str(cls, s):\n",
    "        name, age = s.split(\",\")\n",
    "        return cls(name, int(age))\n",
    "    \n",
    "    # Use a class method to create a new instance of the Person object from a dict\n",
    "    @classmethod\n",
    "    def from_dict(cls, d):\n",
    "        name, age = d.values()\n",
    "        return cls(name, int(age))\n",
    "    \n",
    "    # Use a static method for creating helper and utility methods\n",
    "    @staticmethod\n",
    "    def birth_year(y, a):\n",
    "        print(\"Birth year is\", y-a)"
   ]
  },
  {
   "cell_type": "code",
   "execution_count": 245,
   "id": "a08f1aa1",
   "metadata": {},
   "outputs": [
    {
     "data": {
      "text/plain": [
       "'Homo Sapiens'"
      ]
     },
     "execution_count": 245,
     "metadata": {},
     "output_type": "execute_result"
    }
   ],
   "source": [
    "Person.species"
   ]
  },
  {
   "cell_type": "code",
   "execution_count": 246,
   "id": "1da7f564",
   "metadata": {},
   "outputs": [
    {
     "name": "stdout",
     "output_type": "stream",
     "text": [
      "I am Dave and I am 88 years old.\n"
     ]
    }
   ],
   "source": [
    "p1 = Person(\"Dave\",88)\n",
    "p1.display()"
   ]
  },
  {
   "cell_type": "code",
   "execution_count": 247,
   "id": "63067fd4",
   "metadata": {},
   "outputs": [
    {
     "name": "stdout",
     "output_type": "stream",
     "text": [
      "I am Mindy and I am 23 years old.\n"
     ]
    }
   ],
   "source": [
    "p2 = Person(\"Mindy\", 23)\n",
    "p2.species = \"Airhead\"\n",
    "p2.display()"
   ]
  },
  {
   "cell_type": "code",
   "execution_count": 248,
   "id": "86f706bb",
   "metadata": {},
   "outputs": [
    {
     "data": {
      "text/plain": [
       "'Airhead'"
      ]
     },
     "execution_count": 248,
     "metadata": {},
     "output_type": "execute_result"
    }
   ],
   "source": [
    "p2.species"
   ]
  },
  {
   "cell_type": "code",
   "execution_count": 249,
   "id": "058956c0",
   "metadata": {},
   "outputs": [
    {
     "data": {
      "text/plain": [
       "'Homo Sapiens'"
      ]
     },
     "execution_count": 249,
     "metadata": {},
     "output_type": "execute_result"
    }
   ],
   "source": [
    "p1.species"
   ]
  },
  {
   "cell_type": "code",
   "execution_count": 250,
   "id": "694cab66",
   "metadata": {},
   "outputs": [
    {
     "data": {
      "text/plain": [
       "'Homo Sapiens'"
      ]
     },
     "execution_count": 250,
     "metadata": {},
     "output_type": "execute_result"
    }
   ],
   "source": [
    "Person.species"
   ]
  },
  {
   "cell_type": "markdown",
   "id": "2f52bc7a",
   "metadata": {},
   "source": [
    "Instantiate Person objects using class methods (a.k.a. **factory** methods).\n",
    "\n",
    "These allow us to initialize objects in additional ways.\n",
    "\n",
    "It isn't shown below, but one thing that can be done with factory methods is to create an instance of a class from another class.  \n",
    "\n",
    "For example: p = Person.from_employee(emp)\n",
    "\n",
    "Inside the method, the attributes of emp instance can be accessed and assigned to the attributes of the new p instance."
   ]
  },
  {
   "cell_type": "code",
   "execution_count": 251,
   "id": "935eea4f",
   "metadata": {},
   "outputs": [
    {
     "name": "stdout",
     "output_type": "stream",
     "text": [
      "I am George and I am 41 years old.\n"
     ]
    }
   ],
   "source": [
    "init_str = \"George,41\"\n",
    "p3 = Person.from_str(init_str)\n",
    "p3.display()"
   ]
  },
  {
   "cell_type": "code",
   "execution_count": 252,
   "id": "b594e1e6",
   "metadata": {},
   "outputs": [
    {
     "name": "stdout",
     "output_type": "stream",
     "text": [
      "I am Jane and I am 19 years old.\n"
     ]
    }
   ],
   "source": [
    "init_dict = {'name': 'Jane', 'age': 19}\n",
    "p4 = Person.from_dict(init_dict)\n",
    "p4.display()"
   ]
  },
  {
   "cell_type": "code",
   "execution_count": 254,
   "id": "d837d932",
   "metadata": {},
   "outputs": [
    {
     "name": "stdout",
     "output_type": "stream",
     "text": [
      "Birth year is 2003\n"
     ]
    }
   ],
   "source": [
    "# Call static method to get Jane's birth year (not the best example as static methods don't typically need access to attributes and are not typically called outside of the class.)\n",
    "p4.birth_year(2022, p4.age)"
   ]
  },
  {
   "cell_type": "code",
   "execution_count": 255,
   "id": "75ab09c8",
   "metadata": {},
   "outputs": [
    {
     "name": "stdout",
     "output_type": "stream",
     "text": [
      "Birth year is 1981\n"
     ]
    }
   ],
   "source": [
    "p3.birth_year(2022, p3.age)"
   ]
  },
  {
   "cell_type": "markdown",
   "id": "534e4e2f",
   "metadata": {},
   "source": [
    "### Exercise 6 - Revisit the Fraction Class\n",
    "\n",
    "1. Add a staticmethod to find the highest common factor\n",
    "\n",
    "2. Write a private instance method to reduce a fraction to its lowest terms\n",
    "   - divide numerator and denominator by the highest common factor\n",
    "   - call it on init and on multiply and add"
   ]
  },
  {
   "cell_type": "code",
   "execution_count": 260,
   "id": "7fd1c8a0",
   "metadata": {},
   "outputs": [],
   "source": [
    "class Fraction:\n",
    "    \n",
    "    def __init__(self, nr, dr=1):\n",
    "        if nr < 0 and dr < 0: \n",
    "            nr = abs(nr)\n",
    "            dr = abs(dr)\n",
    "        if dr < 0:\n",
    "            dr = abs(dr)\n",
    "            \n",
    "        self.nr = nr\n",
    "        self.dr = dr\n",
    "        self._reduce()\n",
    "    \n",
    "    @staticmethod\n",
    "    def hcf(x,y):\n",
    "        x=abs(x)\n",
    "        y=abs(y)\n",
    "        smaller = y if x>y else x\n",
    "        s = smaller\n",
    "        while s>0:\n",
    "            if x%s==0 and y%s==0:\n",
    "                break\n",
    "            s-=1\n",
    "        return s\n",
    "    \n",
    "    def _reduce(self):\n",
    "        hcf_temp = Fraction.hcf(self.nr, self.dr)\n",
    "        self.nr = int(self.nr/hcf_temp)\n",
    "        self.dr = int(self.dr/hcf_temp)\n",
    "        \n",
    "    def show(self):\n",
    "        print(\"{0}/{1}\".format(self.nr, self.dr))\n",
    "        \n",
    "    def multiply(self, f):\n",
    "        if type(f) == Fraction:\n",
    "            frac = Fraction((self.nr*f.nr), (self.dr*f.dr))\n",
    "        elif type(f) == int:\n",
    "            frac = Fraction((self.nr*f), self.dr)\n",
    "        else:\n",
    "            raise TypeError(\"This method multiplies a Fraction object by an integer or another Fraction object.\")\n",
    "            \n",
    "        frac._reduce()\n",
    "        return frac\n",
    "    \n",
    "    def add(self, f):\n",
    "        #(n1d2 + n2d1) / (d1*d2)\n",
    "        if type(f) == Fraction:\n",
    "            frac = Fraction((self.nr*f.dr + f.nr*self.dr), (self.dr*f.dr))\n",
    "        elif type(f) == int:\n",
    "            frac = Fraction((self.nr + f*self.dr), self.dr)\n",
    "        else:\n",
    "            raise TypeError(\"This method adds a Fraction object to an integer or another Fraction object.\")\n",
    "            \n",
    "        frac._reduce()\n",
    "        return frac"
   ]
  },
  {
   "cell_type": "code",
   "execution_count": 261,
   "id": "e787f137",
   "metadata": {},
   "outputs": [
    {
     "name": "stdout",
     "output_type": "stream",
     "text": [
      "8/1\n"
     ]
    }
   ],
   "source": [
    "fo = Fraction(32,4)\n",
    "fo.show()"
   ]
  },
  {
   "cell_type": "code",
   "execution_count": 262,
   "id": "bf42334b",
   "metadata": {},
   "outputs": [
    {
     "name": "stdout",
     "output_type": "stream",
     "text": [
      "9/7\n"
     ]
    }
   ],
   "source": [
    "fa = Fraction(9,7)\n",
    "fa.show()"
   ]
  },
  {
   "cell_type": "code",
   "execution_count": 264,
   "id": "36092052",
   "metadata": {},
   "outputs": [
    {
     "name": "stdout",
     "output_type": "stream",
     "text": [
      "65/7\n"
     ]
    }
   ],
   "source": [
    "fe = fa.add(fo)\n",
    "fe.show()"
   ]
  },
  {
   "cell_type": "code",
   "execution_count": 265,
   "id": "8fa5188c",
   "metadata": {},
   "outputs": [
    {
     "name": "stdout",
     "output_type": "stream",
     "text": [
      "24/1\n"
     ]
    }
   ],
   "source": [
    "fi = fo.multiply(3)\n",
    "fi.show()"
   ]
  },
  {
   "cell_type": "markdown",
   "id": "43d8a7fe",
   "metadata": {},
   "source": [
    "### Exercise 7 - SalesPerson\n",
    "\n",
    "In the class SalesPerson, add two class variables named total_revenue and names. \n",
    "\n",
    "The variable names should be a list that contains names of all salespersons and total_revenue should contain the total sales amount of all the salespersons. \n"
   ]
  },
  {
   "cell_type": "code",
   "execution_count": 266,
   "id": "b796dc15",
   "metadata": {},
   "outputs": [
    {
     "name": "stdout",
     "output_type": "stream",
     "text": [
      "Bob 25 2200\n",
      "Ted 22 5000\n",
      "Jack 27 11000\n"
     ]
    }
   ],
   "source": [
    "class SalesPerson:   \n",
    "    total_revenue = 0\n",
    "    names = []\n",
    "    def __init__(self,name,age):\n",
    "        self.name = name\n",
    "        self.age = age\n",
    "        self.sales_amount = 0\n",
    "        SalesPerson.total_revenue += self.sales_amount\n",
    "        SalesPerson.names.append(self.name)\n",
    " \n",
    "    def make_sale(self,money):\n",
    "        self.sales_amount += money\n",
    "        SalesPerson.total_revenue += money\n",
    " \n",
    "    def show(self):\n",
    "        print(self.name, self.age, self.sales_amount)\n",
    " \n",
    "s1 = SalesPerson('Bob', 25)\n",
    "s2 = SalesPerson('Ted', 22)\n",
    "s3 = SalesPerson('Jack', 27)\n",
    " \n",
    "s1.make_sale(1000)\n",
    "s1.make_sale(1200)\n",
    "s2.make_sale(5000)\n",
    "s3.make_sale(3000)\n",
    "s3.make_sale(8000)\n",
    " \n",
    "s1.show()\n",
    "s2.show()\n",
    "s3.show()"
   ]
  },
  {
   "cell_type": "code",
   "execution_count": 267,
   "id": "7b38baab",
   "metadata": {},
   "outputs": [
    {
     "data": {
      "text/plain": [
       "['Bob', 'Ted', 'Jack']"
      ]
     },
     "execution_count": 267,
     "metadata": {},
     "output_type": "execute_result"
    }
   ],
   "source": [
    "SalesPerson.names"
   ]
  },
  {
   "cell_type": "code",
   "execution_count": 268,
   "id": "85d9c80e",
   "metadata": {},
   "outputs": [
    {
     "data": {
      "text/plain": [
       "18200"
      ]
     },
     "execution_count": 268,
     "metadata": {},
     "output_type": "execute_result"
    }
   ],
   "source": [
    "SalesPerson.total_revenue"
   ]
  },
  {
   "cell_type": "markdown",
   "id": "01b08e7f",
   "metadata": {},
   "source": [
    "### Exercise 8 - Employee\n",
    "\n",
    "Add a class variable named domains to the Employee class. \n",
    "\n",
    "Make this class variable a set and it should store all domain names used by employees.\n",
    "\n",
    "Add a class variable named allowed_domains:\n",
    "\n",
    "allowed_domains = {'yahoo.com', 'gmail.com', 'outlook.com'}\n",
    "\n",
    "Whenever an email is assigned, if the domain named is not in allowed_domains, raise a RuntimeError."
   ]
  },
  {
   "cell_type": "code",
   "execution_count": 278,
   "id": "7e6d6dff",
   "metadata": {},
   "outputs": [],
   "source": [
    "class Employee:  \n",
    "    domains = set()\n",
    "    allowed_domains = {'yahoo.com', 'gmail.com', 'outlook.com'}\n",
    "    def __init__(self,name,email):\n",
    "        self.name = name\n",
    "        self.email = email\n",
    "        Employee.domains.add(Employee.get_domain(self.email))\n",
    "    \n",
    "    @staticmethod\n",
    "    def get_domain(e):\n",
    "        return e.split('@')[1]\n",
    "    \n",
    "    @property\n",
    "    def email(self):\n",
    "        return self._email\n",
    "    \n",
    "    @email.setter\n",
    "    def email(self, e):\n",
    "        ed = Employee.get_domain(e)\n",
    "        if ed in Employee.allowed_domains:\n",
    "            self._email = e\n",
    "        else:\n",
    "            raise RuntimeError(\"The domain is not allowed.\")\n",
    "   \n",
    "    def display(self):\n",
    "        print(self.name, self.email)\n",
    "            "
   ]
  },
  {
   "cell_type": "code",
   "execution_count": 283,
   "id": "b31be9b0",
   "metadata": {},
   "outputs": [],
   "source": [
    "e1 = Employee('John','john@gmail.com')\n",
    "e2 = Employee('Jack','jack@yahoo.com')\n",
    "e3 = Employee('Jill','jill@outlook.com')\n",
    "e4 = Employee('Ted','ted@yahoo.com')\n",
    "e5 = Employee('Tim','tim@gmail.com')\n",
    "e6 = Employee('Mike','mike@yahoo.com')"
   ]
  },
  {
   "cell_type": "code",
   "execution_count": 284,
   "id": "c5e056f6",
   "metadata": {},
   "outputs": [
    {
     "ename": "RuntimeError",
     "evalue": "The domain is not allowed.",
     "output_type": "error",
     "traceback": [
      "\u001b[1;31m---------------------------------------------------------------------------\u001b[0m",
      "\u001b[1;31mRuntimeError\u001b[0m                              Traceback (most recent call last)",
      "\u001b[1;32m~\\AppData\\Local\\Temp/ipykernel_11480/1109318958.py\u001b[0m in \u001b[0;36m<module>\u001b[1;34m\u001b[0m\n\u001b[1;32m----> 1\u001b[1;33m \u001b[0me1\u001b[0m\u001b[1;33m.\u001b[0m\u001b[0memail\u001b[0m \u001b[1;33m=\u001b[0m \u001b[1;34m'john@hotmail.com'\u001b[0m\u001b[1;33m\u001b[0m\u001b[1;33m\u001b[0m\u001b[0m\n\u001b[0m",
      "\u001b[1;32m~\\AppData\\Local\\Temp/ipykernel_11480/1668033661.py\u001b[0m in \u001b[0;36memail\u001b[1;34m(self, e)\u001b[0m\n\u001b[0;32m     21\u001b[0m             \u001b[0mself\u001b[0m\u001b[1;33m.\u001b[0m\u001b[0m_email\u001b[0m \u001b[1;33m=\u001b[0m \u001b[0me\u001b[0m\u001b[1;33m\u001b[0m\u001b[1;33m\u001b[0m\u001b[0m\n\u001b[0;32m     22\u001b[0m         \u001b[1;32melse\u001b[0m\u001b[1;33m:\u001b[0m\u001b[1;33m\u001b[0m\u001b[1;33m\u001b[0m\u001b[0m\n\u001b[1;32m---> 23\u001b[1;33m             \u001b[1;32mraise\u001b[0m \u001b[0mRuntimeError\u001b[0m\u001b[1;33m(\u001b[0m\u001b[1;34m\"The domain is not allowed.\"\u001b[0m\u001b[1;33m)\u001b[0m\u001b[1;33m\u001b[0m\u001b[1;33m\u001b[0m\u001b[0m\n\u001b[0m\u001b[0;32m     24\u001b[0m \u001b[1;33m\u001b[0m\u001b[0m\n\u001b[0;32m     25\u001b[0m     \u001b[1;32mdef\u001b[0m \u001b[0mdisplay\u001b[0m\u001b[1;33m(\u001b[0m\u001b[0mself\u001b[0m\u001b[1;33m)\u001b[0m\u001b[1;33m:\u001b[0m\u001b[1;33m\u001b[0m\u001b[1;33m\u001b[0m\u001b[0m\n",
      "\u001b[1;31mRuntimeError\u001b[0m: The domain is not allowed."
     ]
    }
   ],
   "source": [
    "e1.email = 'john@hotmail.com'"
   ]
  },
  {
   "cell_type": "markdown",
   "id": "0e1bac4a",
   "metadata": {},
   "source": [
    "### Exercise 9 - Stack Abstract\n",
    "\n",
    "The following program shows implementation of Stack Abstract data type using list. \n",
    "\n",
    "In a stack, elements are pushed and popped from one end of the stack which is called the top of the stack.\n",
    "\n",
    "This implementation has no maximum limit on the size of the stack. You have to introduce a maximum limit by adding a class variable named MAX_SIZE. \n",
    "\n",
    "In the push method, before inserting a new element, check the size of the stack and raise a RuntimeError if the stack is full. "
   ]
  },
  {
   "cell_type": "code",
   "execution_count": 291,
   "id": "d70006f3",
   "metadata": {},
   "outputs": [],
   "source": [
    "class Stack:     \n",
    "    MAX_SIZE = 10\n",
    "    def __init__(self):\n",
    "        self.items = []\n",
    " \n",
    "    def is_empty(self):\n",
    "        return self.items == []\n",
    " \n",
    "    def nextsize(self):\n",
    "        if len(self.items)+1 < Stack.MAX_SIZE:\n",
    "            return len(self.items)+1\n",
    "        else:\n",
    "            return -1\n",
    "        \n",
    "    def peek(self):\n",
    "        return self.items[len(self.items)-1]\n",
    "    \n",
    "    def size(self):\n",
    "        return len(self.items)\n",
    " \n",
    "    def push(self, item):\n",
    "        if self.nextsize() == -1:\n",
    "            raise RuntimeError(\"Stack is full\")\n",
    "        else:\n",
    "            self.items.append(item)\n",
    " \n",
    "    def pop(self):\n",
    "        if self.is_empty():\n",
    "            raise RuntimeError(\"Stack is empty\")\n",
    "        return self.items.pop()\n",
    "    \n",
    "    def display(self):\n",
    "        print(self.items)\n",
    " "
   ]
  },
  {
   "cell_type": "markdown",
   "id": "7d729308",
   "metadata": {},
   "source": [
    "Assign the list choices according to your wishes:\n",
    "\n",
    "1. Push\n",
    "2. Pop\n",
    "3. Peek\n",
    "4. Size\n",
    "5. Display"
   ]
  },
  {
   "cell_type": "code",
   "execution_count": 293,
   "id": "3edbadee",
   "metadata": {},
   "outputs": [
    {
     "name": "stdout",
     "output_type": "stream",
     "text": [
      "Enter the element to be pushed : 5\n",
      "Enter the element to be pushed : 6\n",
      "Enter the element to be pushed : 7\n",
      "Popped element is :  7\n",
      "Element at the top is :  6\n",
      "Size of stack  2\n",
      "[5, 6]\n",
      "Enter the element to be pushed : 1\n",
      "[5, 6, 1]\n",
      "Enter the element to be pushed : 2\n",
      "Enter the element to be pushed : 45\n",
      "Enter the element to be pushed : 76\n",
      "Enter the element to be pushed : 88\n",
      "Enter the element to be pushed : 21\n",
      "Enter the element to be pushed : 6\n",
      "Element at the top is :  6\n",
      "Enter the element to be pushed : 77\n"
     ]
    },
    {
     "ename": "RuntimeError",
     "evalue": "Stack is full",
     "output_type": "error",
     "traceback": [
      "\u001b[1;31m---------------------------------------------------------------------------\u001b[0m",
      "\u001b[1;31mRuntimeError\u001b[0m                              Traceback (most recent call last)",
      "\u001b[1;32m~\\AppData\\Local\\Temp/ipykernel_11480/3279223380.py\u001b[0m in \u001b[0;36m<module>\u001b[1;34m\u001b[0m\n\u001b[0;32m      5\u001b[0m     \u001b[1;32mif\u001b[0m \u001b[0mchoice\u001b[0m \u001b[1;33m==\u001b[0m \u001b[1;36m1\u001b[0m\u001b[1;33m:\u001b[0m\u001b[1;33m\u001b[0m\u001b[1;33m\u001b[0m\u001b[0m\n\u001b[0;32m      6\u001b[0m         \u001b[0mx\u001b[0m\u001b[1;33m=\u001b[0m\u001b[0mint\u001b[0m\u001b[1;33m(\u001b[0m\u001b[0minput\u001b[0m\u001b[1;33m(\u001b[0m\u001b[1;34m\"Enter the element to be pushed : \"\u001b[0m\u001b[1;33m)\u001b[0m\u001b[1;33m)\u001b[0m\u001b[1;33m\u001b[0m\u001b[1;33m\u001b[0m\u001b[0m\n\u001b[1;32m----> 7\u001b[1;33m         \u001b[0mst\u001b[0m\u001b[1;33m.\u001b[0m\u001b[0mpush\u001b[0m\u001b[1;33m(\u001b[0m\u001b[0mx\u001b[0m\u001b[1;33m)\u001b[0m\u001b[1;33m\u001b[0m\u001b[1;33m\u001b[0m\u001b[0m\n\u001b[0m\u001b[0;32m      8\u001b[0m     \u001b[1;32melif\u001b[0m \u001b[0mchoice\u001b[0m \u001b[1;33m==\u001b[0m \u001b[1;36m2\u001b[0m\u001b[1;33m:\u001b[0m\u001b[1;33m\u001b[0m\u001b[1;33m\u001b[0m\u001b[0m\n\u001b[0;32m      9\u001b[0m         \u001b[0mx\u001b[0m\u001b[1;33m=\u001b[0m\u001b[0mst\u001b[0m\u001b[1;33m.\u001b[0m\u001b[0mpop\u001b[0m\u001b[1;33m(\u001b[0m\u001b[1;33m)\u001b[0m\u001b[1;33m\u001b[0m\u001b[1;33m\u001b[0m\u001b[0m\n",
      "\u001b[1;32m~\\AppData\\Local\\Temp/ipykernel_11480/444233120.py\u001b[0m in \u001b[0;36mpush\u001b[1;34m(self, item)\u001b[0m\n\u001b[0;32m     21\u001b[0m     \u001b[1;32mdef\u001b[0m \u001b[0mpush\u001b[0m\u001b[1;33m(\u001b[0m\u001b[0mself\u001b[0m\u001b[1;33m,\u001b[0m \u001b[0mitem\u001b[0m\u001b[1;33m)\u001b[0m\u001b[1;33m:\u001b[0m\u001b[1;33m\u001b[0m\u001b[1;33m\u001b[0m\u001b[0m\n\u001b[0;32m     22\u001b[0m         \u001b[1;32mif\u001b[0m \u001b[0mself\u001b[0m\u001b[1;33m.\u001b[0m\u001b[0mnextsize\u001b[0m\u001b[1;33m(\u001b[0m\u001b[1;33m)\u001b[0m \u001b[1;33m==\u001b[0m \u001b[1;33m-\u001b[0m\u001b[1;36m1\u001b[0m\u001b[1;33m:\u001b[0m\u001b[1;33m\u001b[0m\u001b[1;33m\u001b[0m\u001b[0m\n\u001b[1;32m---> 23\u001b[1;33m             \u001b[1;32mraise\u001b[0m \u001b[0mRuntimeError\u001b[0m\u001b[1;33m(\u001b[0m\u001b[1;34m\"Stack is full\"\u001b[0m\u001b[1;33m)\u001b[0m\u001b[1;33m\u001b[0m\u001b[1;33m\u001b[0m\u001b[0m\n\u001b[0m\u001b[0;32m     24\u001b[0m         \u001b[1;32melse\u001b[0m\u001b[1;33m:\u001b[0m\u001b[1;33m\u001b[0m\u001b[1;33m\u001b[0m\u001b[0m\n\u001b[0;32m     25\u001b[0m             \u001b[0mself\u001b[0m\u001b[1;33m.\u001b[0m\u001b[0mitems\u001b[0m\u001b[1;33m.\u001b[0m\u001b[0mappend\u001b[0m\u001b[1;33m(\u001b[0m\u001b[0mitem\u001b[0m\u001b[1;33m)\u001b[0m\u001b[1;33m\u001b[0m\u001b[1;33m\u001b[0m\u001b[0m\n",
      "\u001b[1;31mRuntimeError\u001b[0m: Stack is full"
     ]
    }
   ],
   "source": [
    "st = Stack()\n",
    "choices = [1, 1, 1, 2, 3, 4, 5, 1, 5, 1, 1, 1, 1, 1, 1, 3, 1]\n",
    "\n",
    "for choice in choices:\n",
    "    if choice == 1:\n",
    "        x=int(input(\"Enter the element to be pushed : \"))\n",
    "        st.push(x) \n",
    "    elif choice == 2:\n",
    "        x=st.pop() \n",
    "        print(\"Popped element is : \" , x) \n",
    "    elif choice == 3:\n",
    "        print(\"Element at the top is : \" , st.peek()) \n",
    "    elif choice == 4:\n",
    "        print(\"Size of stack \" , st.size()) \n",
    "    elif choice == 5:\n",
    "        st.display()         \n",
    "    elif choice == 6:\n",
    "        break;\n",
    "    else:\n",
    "        print(\"Wrong choice\") \n",
    "        print() "
   ]
  },
  {
   "cell_type": "markdown",
   "id": "3964bdfb",
   "metadata": {},
   "source": [
    "### Exercise 10 - Class Variable as a Default Argument\n",
    "\n",
    "Class variables with immutable values can be used as defaults for instance variables. \n",
    "\n",
    "In the following BankAccount class, add an instance variable named bank in the __init__ method. \n",
    "\n",
    "Add a class variable bank_name that will be used as default argument in the __init__  method for bank parameter."
   ]
  },
  {
   "cell_type": "code",
   "execution_count": 297,
   "id": "58999046",
   "metadata": {},
   "outputs": [],
   "source": [
    "class BankAccount:\n",
    " \n",
    "    bank_name = \"Boogety Boogety Bank\"\n",
    "    def __init__(self, name, balance=0, bank=bank_name):\n",
    "        self.name = name\n",
    "        self.balance = balance\n",
    "        self.bank = bank\n",
    "        \n",
    "    def display(self):\n",
    "         print(self.name, self.balance)\n",
    " \n",
    "    def withdraw(self, amount):\n",
    "        self.balance -= amount\n",
    " \n",
    "    def deposit(self, amount):\n",
    "        self.balance += amount\n",
    "    "
   ]
  },
  {
   "cell_type": "code",
   "execution_count": 298,
   "id": "e5fe0d44",
   "metadata": {},
   "outputs": [
    {
     "name": "stdout",
     "output_type": "stream",
     "text": [
      "Mike 200\n",
      "Tom 0\n"
     ]
    }
   ],
   "source": [
    "a1 = BankAccount('Mike', 200)\n",
    "a2 = BankAccount('Tom')\n",
    " \n",
    "a1.display()\n",
    "a2.display()"
   ]
  },
  {
   "cell_type": "code",
   "execution_count": 299,
   "id": "0e9f4c54",
   "metadata": {},
   "outputs": [
    {
     "data": {
      "text/plain": [
       "'Boogety Boogety Bank'"
      ]
     },
     "execution_count": 299,
     "metadata": {},
     "output_type": "execute_result"
    }
   ],
   "source": [
    "a1.bank"
   ]
  },
  {
   "cell_type": "code",
   "execution_count": null,
   "id": "c395282c",
   "metadata": {},
   "outputs": [],
   "source": []
  }
 ],
 "metadata": {
  "kernelspec": {
   "display_name": "Python 3 (ipykernel)",
   "language": "python",
   "name": "python3"
  },
  "language_info": {
   "codemirror_mode": {
    "name": "ipython",
    "version": 3
   },
   "file_extension": ".py",
   "mimetype": "text/x-python",
   "name": "python",
   "nbconvert_exporter": "python",
   "pygments_lexer": "ipython3",
   "version": "3.8.5"
  }
 },
 "nbformat": 4,
 "nbformat_minor": 5
}
