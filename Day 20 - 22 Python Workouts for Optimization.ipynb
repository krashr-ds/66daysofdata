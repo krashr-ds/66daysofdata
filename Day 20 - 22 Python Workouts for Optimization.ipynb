{
 "cells": [
  {
   "cell_type": "markdown",
   "id": "62d71c06",
   "metadata": {},
   "source": [
    "## Python Workouts for Optimization\n",
    "\n",
    "June, July 2022"
   ]
  },
  {
   "cell_type": "code",
   "execution_count": 1,
   "id": "860e6cb9",
   "metadata": {},
   "outputs": [],
   "source": [
    "import pandas as pd\n",
    "import numpy as np"
   ]
  },
  {
   "cell_type": "markdown",
   "id": "bf48b39a",
   "metadata": {},
   "source": [
    "### List and Dictionary Comprehensions"
   ]
  },
  {
   "cell_type": "code",
   "execution_count": 2,
   "id": "f82e3158",
   "metadata": {},
   "outputs": [
    {
     "data": {
      "text/plain": [
       "[0, 1, 2, 3, 4, 5, 6, 7, 8, 9]"
      ]
     },
     "execution_count": 2,
     "metadata": {},
     "output_type": "execute_result"
    }
   ],
   "source": [
    "vector = [i for i in range(10)]\n",
    "vector"
   ]
  },
  {
   "cell_type": "code",
   "execution_count": 3,
   "id": "3d8f3cde",
   "metadata": {},
   "outputs": [
    {
     "data": {
      "text/plain": [
       "[0, 2, 4, 6, 8]"
      ]
     },
     "execution_count": 3,
     "metadata": {},
     "output_type": "execute_result"
    }
   ],
   "source": [
    "subvector = [i for i in range(10) if i%2 == 0]\n",
    "subvector"
   ]
  },
  {
   "cell_type": "code",
   "execution_count": 4,
   "id": "24e3493c",
   "metadata": {},
   "outputs": [
    {
     "data": {
      "text/plain": [
       "array([[1, 3],\n",
       "       [1, 4],\n",
       "       [2, 3],\n",
       "       [2, 1],\n",
       "       [2, 4],\n",
       "       [3, 1],\n",
       "       [3, 4]])"
      ]
     },
     "execution_count": 4,
     "metadata": {},
     "output_type": "execute_result"
    }
   ],
   "source": [
    "ll = [(x, y) for x in [1,2,3] for y in [3,1,4] if x != y]\n",
    "matrix = np.array(ll)\n",
    "matrix"
   ]
  },
  {
   "cell_type": "code",
   "execution_count": 5,
   "id": "8f2297b2",
   "metadata": {},
   "outputs": [
    {
     "data": {
      "text/plain": [
       "{0: 10, 1: 11, 2: 12, 3: 13}"
      ]
     },
     "execution_count": 5,
     "metadata": {},
     "output_type": "execute_result"
    }
   ],
   "source": [
    "dict1 = dict([(i, i+10) for i in range(4)])\n",
    "dict1"
   ]
  },
  {
   "cell_type": "code",
   "execution_count": 6,
   "id": "6498ed78",
   "metadata": {},
   "outputs": [
    {
     "data": {
      "text/plain": [
       "{6: 16, 7: 17, 8: 18, 9: 19}"
      ]
     },
     "execution_count": 6,
     "metadata": {},
     "output_type": "execute_result"
    }
   ],
   "source": [
    "dict2 = {i : i+10 for i in range(10) if i > 5}\n",
    "dict2"
   ]
  },
  {
   "cell_type": "code",
   "execution_count": 7,
   "id": "ae7cf8ee",
   "metadata": {},
   "outputs": [
    {
     "data": {
      "text/plain": [
       "{(0, 0): 0, (0, 1): 1, (1, 0): 1, (1, 1): 2}"
      ]
     },
     "execution_count": 7,
     "metadata": {},
     "output_type": "execute_result"
    }
   ],
   "source": [
    "dict3 = {(k, v): k+v for k in range(2) for v in range(2)}\n",
    "dict3"
   ]
  },
  {
   "cell_type": "markdown",
   "id": "a7bf6243",
   "metadata": {},
   "source": [
    "### Generators\n",
    "\n",
    "Perform function of iterators without the overhead\n",
    "\n",
    "- When a generator function is called, it does not execute immediately but returns a generator object.\n",
    "\n",
    "- The code will not execute until next() is called on the generator object.\n",
    "\n",
    "- Once yield is invoked, control is temporarily passed back to the caller and the function is paused.\n",
    "\n",
    "- Local variables and their execution state are stored between calls.\n",
    "\n",
    "- StopIteration is raised automatically when the function is complete."
   ]
  },
  {
   "cell_type": "code",
   "execution_count": 8,
   "id": "9e46321e",
   "metadata": {},
   "outputs": [
    {
     "data": {
      "text/plain": [
       "<generator object <genexpr> at 0x0000022FE72C4740>"
      ]
     },
     "execution_count": 8,
     "metadata": {},
     "output_type": "execute_result"
    }
   ],
   "source": [
    "g = (x**2 for x in range(10))\n",
    "g"
   ]
  },
  {
   "cell_type": "code",
   "execution_count": 9,
   "id": "09679a9a",
   "metadata": {},
   "outputs": [
    {
     "name": "stdout",
     "output_type": "stream",
     "text": [
      "0\n",
      "1\n",
      "4\n",
      "9\n",
      "16\n",
      "25\n",
      "36\n",
      "49\n",
      "64\n",
      "81\n"
     ]
    }
   ],
   "source": [
    "for i in g:\n",
    "    print(i)"
   ]
  },
  {
   "cell_type": "code",
   "execution_count": 10,
   "id": "05e775fe",
   "metadata": {},
   "outputs": [
    {
     "data": {
      "text/plain": [
       "0"
      ]
     },
     "execution_count": 10,
     "metadata": {},
     "output_type": "execute_result"
    }
   ],
   "source": [
    "def fib(limit):\n",
    "    a, b = 0, 1\n",
    "    while a < limit:\n",
    "        yield a\n",
    "        a, b = b, a + b\n",
    "\n",
    "x = fib(5)\n",
    "x.__next__()"
   ]
  },
  {
   "cell_type": "code",
   "execution_count": 11,
   "id": "d93a183f",
   "metadata": {},
   "outputs": [
    {
     "data": {
      "text/plain": [
       "1"
      ]
     },
     "execution_count": 11,
     "metadata": {},
     "output_type": "execute_result"
    }
   ],
   "source": [
    "x.__next__()"
   ]
  },
  {
   "cell_type": "code",
   "execution_count": 12,
   "id": "192eeff0",
   "metadata": {},
   "outputs": [
    {
     "data": {
      "text/plain": [
       "1"
      ]
     },
     "execution_count": 12,
     "metadata": {},
     "output_type": "execute_result"
    }
   ],
   "source": [
    "x.__next__()"
   ]
  },
  {
   "cell_type": "code",
   "execution_count": 13,
   "id": "eb61da9c",
   "metadata": {},
   "outputs": [
    {
     "data": {
      "text/plain": [
       "2"
      ]
     },
     "execution_count": 13,
     "metadata": {},
     "output_type": "execute_result"
    }
   ],
   "source": [
    "x.__next__()"
   ]
  },
  {
   "cell_type": "code",
   "execution_count": 14,
   "id": "029da30f",
   "metadata": {},
   "outputs": [
    {
     "data": {
      "text/plain": [
       "[0, 1, 1, 2, 3, 5, 8, 13, 21, 34]"
      ]
     },
     "execution_count": 14,
     "metadata": {},
     "output_type": "execute_result"
    }
   ],
   "source": [
    "fib_list = [i for i in fib(48)]\n",
    "fib_list"
   ]
  },
  {
   "cell_type": "markdown",
   "id": "1dcacd6e",
   "metadata": {},
   "source": [
    "### Recursion"
   ]
  },
  {
   "cell_type": "code",
   "execution_count": 15,
   "id": "b9e64a0d",
   "metadata": {},
   "outputs": [],
   "source": [
    "def fib2(n):\n",
    "    if n <= 1:\n",
    "        return n\n",
    "    else:\n",
    "        return(fib2(n-1) + fib2(n-2))\n",
    " \n"
   ]
  },
  {
   "cell_type": "code",
   "execution_count": 16,
   "id": "be0e9fd2",
   "metadata": {},
   "outputs": [
    {
     "data": {
      "text/plain": [
       "144"
      ]
     },
     "execution_count": 16,
     "metadata": {},
     "output_type": "execute_result"
    }
   ],
   "source": [
    "fib2(12)"
   ]
  },
  {
   "cell_type": "code",
   "execution_count": 17,
   "id": "690d3d3f",
   "metadata": {},
   "outputs": [
    {
     "data": {
      "text/plain": [
       "28657"
      ]
     },
     "execution_count": 17,
     "metadata": {},
     "output_type": "execute_result"
    }
   ],
   "source": [
    "fib2(23)"
   ]
  },
  {
   "cell_type": "code",
   "execution_count": 18,
   "id": "0685ff2c",
   "metadata": {},
   "outputs": [
    {
     "data": {
      "text/plain": [
       "165580141"
      ]
     },
     "execution_count": 18,
     "metadata": {},
     "output_type": "execute_result"
    }
   ],
   "source": [
    "fib2(41)"
   ]
  },
  {
   "cell_type": "markdown",
   "id": "58ecb1d0",
   "metadata": {},
   "source": [
    "### Lambda"
   ]
  },
  {
   "cell_type": "code",
   "execution_count": 19,
   "id": "de5e71f2",
   "metadata": {},
   "outputs": [
    {
     "data": {
      "text/plain": [
       "8388608"
      ]
     },
     "execution_count": 19,
     "metadata": {},
     "output_type": "execute_result"
    }
   ],
   "source": [
    "x = lambda a, b: a**b\n",
    "x(2,23)"
   ]
  },
  {
   "cell_type": "markdown",
   "id": "2d813196",
   "metadata": {},
   "source": [
    "lambda as a function creator"
   ]
  },
  {
   "cell_type": "code",
   "execution_count": 20,
   "id": "cccd96d9",
   "metadata": {},
   "outputs": [
    {
     "name": "stdout",
     "output_type": "stream",
     "text": [
      "22\n",
      "33\n"
     ]
    }
   ],
   "source": [
    "def myfunc(n):\n",
    "  return lambda a : a * n\n",
    "\n",
    "mydoubler = myfunc(2)\n",
    "mytripler = myfunc(3)\n",
    "\n",
    "print(mydoubler(11))\n",
    "print(mytripler(11))"
   ]
  },
  {
   "cell_type": "markdown",
   "id": "def4a968",
   "metadata": {},
   "source": [
    "### Regular Expressions\n",
    "\n",
    "search (span, string and group), findall, split, sub"
   ]
  },
  {
   "cell_type": "code",
   "execution_count": 21,
   "id": "e8b2c25f",
   "metadata": {},
   "outputs": [
    {
     "name": "stdout",
     "output_type": "stream",
     "text": [
      "None\n",
      "<re.Match object; span=(40, 46), match='doggo.'>\n"
     ]
    }
   ],
   "source": [
    "import re\n",
    "\n",
    "string = \"The quick brown fox jumps o'er the lazy doggo.\"\n",
    "\n",
    "# matches 'over' - not present\n",
    "print(re.search(\"over\", string))\n",
    "\n",
    "# matches 'doggo' plus any character (.)\n",
    "print(re.search(\"doggo.\", string))\n"
   ]
  },
  {
   "cell_type": "code",
   "execution_count": 22,
   "id": "a76217af",
   "metadata": {},
   "outputs": [
    {
     "name": "stdout",
     "output_type": "stream",
     "text": [
      "['e', 'u', 'i', 'o', 'o', 'u', 'o', 'e', 'e', 'a', 'y', 'o', 'o']\n",
      "There are 13 vowels in the string.\n"
     ]
    }
   ],
   "source": [
    "vowels = re.findall(\"[aeiouy]\", string)\n",
    "\n",
    "print(vowels)\n",
    "print(\"There are\", len(vowels), \"vowels in the string.\")"
   ]
  },
  {
   "cell_type": "code",
   "execution_count": 23,
   "id": "57a4e118",
   "metadata": {},
   "outputs": [
    {
     "data": {
      "text/plain": [
       "' '"
      ]
     },
     "execution_count": 23,
     "metadata": {},
     "output_type": "execute_result"
    }
   ],
   "source": [
    "locs = re.search(\"\\s\", string)\n",
    "\n",
    "locs.group()"
   ]
  },
  {
   "cell_type": "code",
   "execution_count": 24,
   "id": "77c1a240",
   "metadata": {},
   "outputs": [
    {
     "data": {
      "text/plain": [
       "\"The quick brown fox jumps o'er the lazy doggo.\""
      ]
     },
     "execution_count": 24,
     "metadata": {},
     "output_type": "execute_result"
    }
   ],
   "source": [
    "locs.string"
   ]
  },
  {
   "cell_type": "code",
   "execution_count": 25,
   "id": "5658a45f",
   "metadata": {},
   "outputs": [
    {
     "data": {
      "text/plain": [
       "(3, 4)"
      ]
     },
     "execution_count": 25,
     "metadata": {},
     "output_type": "execute_result"
    }
   ],
   "source": [
    "locs.span()"
   ]
  },
  {
   "cell_type": "code",
   "execution_count": 26,
   "id": "c1490832",
   "metadata": {},
   "outputs": [
    {
     "name": "stdout",
     "output_type": "stream",
     "text": [
      "Match \" \" found at: [3,4]\n",
      "Match \" \" found at: [9,10]\n",
      "Match \" \" found at: [15,16]\n",
      "Match \" \" found at: [19,20]\n",
      "Match \" \" found at: [25,26]\n",
      "Match \" \" found at: [30,31]\n",
      "Match \" \" found at: [34,35]\n",
      "Match \" \" found at: [39,40]\n"
     ]
    }
   ],
   "source": [
    "# Show locations of all the white spaces in the string\n",
    "\n",
    "for match in re.finditer(\"\\s\", string):\n",
    "    print('Match \"{}\" found at: [{},{}]'.format(match.group(), match.start(), match.end()))"
   ]
  },
  {
   "cell_type": "code",
   "execution_count": 27,
   "id": "2f3a565f",
   "metadata": {},
   "outputs": [
    {
     "data": {
      "text/plain": [
       "['The', 'quick', 'brown', 'fox', 'jumps', \"o'er\", 'the', 'lazy', 'doggo.']"
      ]
     },
     "execution_count": 27,
     "metadata": {},
     "output_type": "execute_result"
    }
   ],
   "source": [
    "re.split(\"\\s\", string)"
   ]
  },
  {
   "cell_type": "code",
   "execution_count": 28,
   "id": "585b02e1",
   "metadata": {},
   "outputs": [
    {
     "data": {
      "text/plain": [
       "\"The quick br0wn f0x jumps 0'er the lazy d0gg0.\""
      ]
     },
     "execution_count": 28,
     "metadata": {},
     "output_type": "execute_result"
    }
   ],
   "source": [
    "re.sub(\"o\", \"0\", string)"
   ]
  },
  {
   "cell_type": "code",
   "execution_count": 29,
   "id": "51671df5",
   "metadata": {},
   "outputs": [
    {
     "data": {
      "text/plain": [
       "\"The quick br0wn f0x jumps o'er the lazy doggo.\""
      ]
     },
     "execution_count": 29,
     "metadata": {},
     "output_type": "execute_result"
    }
   ],
   "source": [
    "# just the first two\n",
    "re.sub(\"o\", \"0\", string, 2)"
   ]
  },
  {
   "cell_type": "markdown",
   "id": "a9f65aa7",
   "metadata": {},
   "source": [
    "### A little on itertools\n",
    "\n",
    "Below code from https://docs.python.org/3/library/itertools.html#itertools-recipes"
   ]
  },
  {
   "cell_type": "code",
   "execution_count": 30,
   "id": "c9393f76",
   "metadata": {},
   "outputs": [],
   "source": [
    "import itertools as i\n",
    "import collections"
   ]
  },
  {
   "cell_type": "code",
   "execution_count": 41,
   "id": "ca34ab79",
   "metadata": {},
   "outputs": [],
   "source": [
    "def take(n, iterable):\n",
    "    \"Return first n items of the iterable as a list\"\n",
    "    return list(i.islice(iterable, n))\n",
    "\n",
    "def prepend(value, iterator):\n",
    "    \"Prepend a single value in front of an iterator\"\n",
    "    # prepend(1, [2, 3, 4]) -> 1 2 3 4\n",
    "    return i.chain([value], iterator)\n",
    "\n",
    "def tail(n, iterable):\n",
    "    \"Return an iterator over the last n items\"\n",
    "    # tail(3, 'ABCDEFG') --> E F G\n",
    "    return iter(collections.deque(iterable, maxlen=n))\n",
    "\n",
    "def nth(iterable, n, default=None):\n",
    "    \"Returns the nth item or a default value\"\n",
    "    return next(i.islice(iterable, n, None), default)"
   ]
  },
  {
   "cell_type": "code",
   "execution_count": 42,
   "id": "b3e8ba83",
   "metadata": {},
   "outputs": [
    {
     "data": {
      "text/plain": [
       "['person', 'entity', 'event']"
      ]
     },
     "execution_count": 42,
     "metadata": {},
     "output_type": "execute_result"
    }
   ],
   "source": [
    "objects = [\"person\", \"entity\", \"event\", \"relationship\"]\n",
    "take(3, objects)"
   ]
  },
  {
   "cell_type": "code",
   "execution_count": 43,
   "id": "809eec86",
   "metadata": {},
   "outputs": [
    {
     "data": {
      "text/plain": [
       "<_collections._deque_iterator at 0x22fe72cc310>"
      ]
     },
     "execution_count": 43,
     "metadata": {},
     "output_type": "execute_result"
    }
   ],
   "source": [
    "tail(2, objects)"
   ]
  },
  {
   "cell_type": "code",
   "execution_count": 44,
   "id": "bc8ef223",
   "metadata": {},
   "outputs": [
    {
     "data": {
      "text/plain": [
       "'entity'"
      ]
     },
     "execution_count": 44,
     "metadata": {},
     "output_type": "execute_result"
    }
   ],
   "source": [
    "nth(objects, 1)"
   ]
  },
  {
   "cell_type": "markdown",
   "id": "0d31073b",
   "metadata": {},
   "source": [
    "### Enumerate"
   ]
  },
  {
   "cell_type": "code",
   "execution_count": 45,
   "id": "829f3463",
   "metadata": {},
   "outputs": [
    {
     "data": {
      "text/plain": [
       "[(0, 'person'), (1, 'entity'), (2, 'event'), (3, 'relationship')]"
      ]
     },
     "execution_count": 45,
     "metadata": {},
     "output_type": "execute_result"
    }
   ],
   "source": [
    "list(enumerate(objects))"
   ]
  },
  {
   "cell_type": "code",
   "execution_count": 46,
   "id": "738cf055",
   "metadata": {},
   "outputs": [
    {
     "data": {
      "text/plain": [
       "[(0, 'The'),\n",
       " (1, 'quick'),\n",
       " (2, 'brown'),\n",
       " (3, 'fox'),\n",
       " (4, 'jumps'),\n",
       " (5, \"o'er\"),\n",
       " (6, 'the'),\n",
       " (7, 'lazy'),\n",
       " (8, 'doggo.')]"
      ]
     },
     "execution_count": 46,
     "metadata": {},
     "output_type": "execute_result"
    }
   ],
   "source": [
    "list(enumerate(re.split(\"\\s\", string)))"
   ]
  },
  {
   "cell_type": "code",
   "execution_count": 47,
   "id": "81fd2756",
   "metadata": {},
   "outputs": [
    {
     "data": {
      "text/plain": [
       "[1, 3, 5, 2, 10]"
      ]
     },
     "execution_count": 47,
     "metadata": {},
     "output_type": "execute_result"
    }
   ],
   "source": [
    "floats = [1.3, 2.6, 4.6, 2.2, 9.8]\n",
    "list(map(round, floats))"
   ]
  },
  {
   "cell_type": "code",
   "execution_count": 48,
   "id": "35605b94",
   "metadata": {},
   "outputs": [
    {
     "data": {
      "text/plain": [
       "['The', 'quick', 'brown', 'fox', 'jumps', \"o'er\", 'the', 'lazy', 'doggo.']"
      ]
     },
     "execution_count": 48,
     "metadata": {},
     "output_type": "execute_result"
    }
   ],
   "source": [
    "words = re.split(\"\\s\", string)\n",
    "words"
   ]
  },
  {
   "cell_type": "markdown",
   "id": "61a446e3",
   "metadata": {},
   "source": [
    "### Using map with a lambda function"
   ]
  },
  {
   "cell_type": "code",
   "execution_count": 49,
   "id": "c50bb237",
   "metadata": {},
   "outputs": [
    {
     "name": "stdout",
     "output_type": "stream",
     "text": [
      "The wow quick wow brown wow fox wow jumps wow o'er wow the wow lazy wow doggo wow\n"
     ]
    }
   ],
   "source": [
    "# append the word \"wow\" in between each word\n",
    "new_list = list(map(lambda w: w + \" wow \", words))\n",
    "\n",
    "# join new_list into a string, get rid of the period after 'doggo'\n",
    "s = re.sub(\"\\.\", \"\", str([''.join(new_list)][0]).strip())\n",
    "\n",
    "print(s)"
   ]
  },
  {
   "cell_type": "markdown",
   "id": "389088ca",
   "metadata": {},
   "source": [
    "### Using * to unpack a list"
   ]
  },
  {
   "cell_type": "code",
   "execution_count": 50,
   "id": "85ecf232",
   "metadata": {},
   "outputs": [
    {
     "name": "stdout",
     "output_type": "stream",
     "text": [
      "[1, 3, 5, 7, 9, 11]\n"
     ]
    }
   ],
   "source": [
    "# Create a new list of odd numbers from 1 to 11 by unpacking a range object\n",
    "nums_list2 = [*list(range(1,12,2))]\n",
    "print(nums_list2)"
   ]
  },
  {
   "cell_type": "markdown",
   "id": "2a23dc23",
   "metadata": {},
   "source": [
    "### Using enumerate"
   ]
  },
  {
   "cell_type": "code",
   "execution_count": 51,
   "id": "b804292e",
   "metadata": {},
   "outputs": [
    {
     "name": "stdout",
     "output_type": "stream",
     "text": [
      "[(0, 'Jerry'), (1, 'Kramer'), (2, 'Elaine'), (3, 'George'), (4, 'Newman')]\n",
      "[(0, 'Jerry'), (1, 'Kramer'), (2, 'Elaine'), (3, 'George'), (4, 'Newman')]\n",
      "[(1, 'Jerry'), (2, 'Kramer'), (3, 'Elaine'), (4, 'George'), (5, 'Newman')]\n"
     ]
    }
   ],
   "source": [
    "# More 'enumerate' practice\n",
    "\n",
    "names = ['Jerry', 'Kramer', 'Elaine', 'George', 'Newman']\n",
    "\n",
    "# Rewrite the for loop to use enumerate\n",
    "indexed_names = []\n",
    "for i,name in enumerate(names):\n",
    "    index_name = (i,name)\n",
    "    indexed_names.append(index_name) \n",
    "print(indexed_names)\n",
    "\n",
    "# Rewrite the above for loop using list comprehension\n",
    "indexed_names_comp = [(i,name) for i,name in enumerate(names)]\n",
    "print(indexed_names_comp)\n",
    "\n",
    "# Unpack an enumerate object with a starting index of one\n",
    "indexed_names_unpack = [*enumerate(names, 1)]\n",
    "print(indexed_names_unpack)"
   ]
  },
  {
   "cell_type": "markdown",
   "id": "e0d416d4",
   "metadata": {},
   "source": [
    "### Using map \n",
    "\n",
    "to apply upper() to each element in names"
   ]
  },
  {
   "cell_type": "code",
   "execution_count": 52,
   "id": "ddfe7f1b",
   "metadata": {},
   "outputs": [
    {
     "name": "stdout",
     "output_type": "stream",
     "text": [
      "<class 'map'>\n",
      "['JERRY', 'KRAMER', 'ELAINE', 'GEORGE', 'NEWMAN']\n"
     ]
    }
   ],
   "source": [
    "# Use map to apply str.upper to each element in names\n",
    "names_map  = map(str.upper, names)\n",
    "\n",
    "# Print the type of the names_map\n",
    "print(type(names_map))\n",
    "\n",
    "# Unpack names_map into a list\n",
    "names_uppercase = [*names_map]\n",
    "\n",
    "# Print the list created above\n",
    "print(names_uppercase)"
   ]
  },
  {
   "cell_type": "markdown",
   "id": "1f596a93",
   "metadata": {},
   "source": [
    "### Numpy arrays\n",
    "\n",
    "Efficient because they allow broadcasting, like R!"
   ]
  },
  {
   "cell_type": "code",
   "execution_count": 53,
   "id": "35211943",
   "metadata": {},
   "outputs": [
    {
     "name": "stdout",
     "output_type": "stream",
     "text": [
      "[ 2  9 22]\n",
      "[  4  81 484]\n"
     ]
    }
   ],
   "source": [
    "a = np.array([2, 9, 22])\n",
    "a2 = a ** 2\n",
    "\n",
    "np.set_printoptions(precision=1)\n",
    "print(a)\n",
    "print(a2)"
   ]
  },
  {
   "cell_type": "markdown",
   "id": "be181dee",
   "metadata": {},
   "source": [
    "Two-dimensional numpy arrays"
   ]
  },
  {
   "cell_type": "code",
   "execution_count": 54,
   "id": "4977ee44",
   "metadata": {},
   "outputs": [
    {
     "data": {
      "text/plain": [
       "array([[1, 2, 3],\n",
       "       [4, 5, 6]])"
      ]
     },
     "execution_count": 54,
     "metadata": {},
     "output_type": "execute_result"
    }
   ],
   "source": [
    "two_d = [\n",
    "    [1,2,3],\n",
    "    [4,5,6]\n",
    "]\n",
    "nptd = np.array(two_d)\n",
    "nptd"
   ]
  },
  {
   "cell_type": "code",
   "execution_count": 55,
   "id": "2da286f5",
   "metadata": {},
   "outputs": [
    {
     "data": {
      "text/plain": [
       "array([1, 4])"
      ]
     },
     "execution_count": 55,
     "metadata": {},
     "output_type": "execute_result"
    }
   ],
   "source": [
    "nptd[:,0]"
   ]
  },
  {
   "cell_type": "code",
   "execution_count": 56,
   "id": "6a1a798a",
   "metadata": {},
   "outputs": [
    {
     "data": {
      "text/plain": [
       "array([1, 2, 3])"
      ]
     },
     "execution_count": 56,
     "metadata": {},
     "output_type": "execute_result"
    }
   ],
   "source": [
    "nptd[0,:]"
   ]
  },
  {
   "cell_type": "code",
   "execution_count": 57,
   "id": "8569d587",
   "metadata": {},
   "outputs": [
    {
     "data": {
      "text/plain": [
       "2"
      ]
     },
     "execution_count": 57,
     "metadata": {},
     "output_type": "execute_result"
    }
   ],
   "source": [
    "nptd[0,1]"
   ]
  },
  {
   "cell_type": "markdown",
   "id": "be5fbe58",
   "metadata": {},
   "source": [
    "### Boolean indexing of numpy arrays"
   ]
  },
  {
   "cell_type": "code",
   "execution_count": 58,
   "id": "702fd750",
   "metadata": {},
   "outputs": [
    {
     "data": {
      "text/plain": [
       "array([False,  True,  True])"
      ]
     },
     "execution_count": 58,
     "metadata": {},
     "output_type": "execute_result"
    }
   ],
   "source": [
    "nptd[0,:] > 1"
   ]
  },
  {
   "cell_type": "code",
   "execution_count": 59,
   "id": "d792425d",
   "metadata": {},
   "outputs": [
    {
     "data": {
      "text/plain": [
       "array([2, 3])"
      ]
     },
     "execution_count": 59,
     "metadata": {},
     "output_type": "execute_result"
    }
   ],
   "source": [
    "nptd[0,:][nptd[0,:] > 1]"
   ]
  },
  {
   "cell_type": "code",
   "execution_count": 60,
   "id": "ad9f9634",
   "metadata": {},
   "outputs": [
    {
     "data": {
      "text/plain": [
       "array([3, 4, 5, 6])"
      ]
     },
     "execution_count": 60,
     "metadata": {},
     "output_type": "execute_result"
    }
   ],
   "source": [
    "nptd[nptd>2]"
   ]
  },
  {
   "cell_type": "code",
   "execution_count": 61,
   "id": "b37c747c",
   "metadata": {},
   "outputs": [
    {
     "name": "stdout",
     "output_type": "stream",
     "text": [
      "[[ 2  4  6]\n",
      " [ 8 10 12]]\n"
     ]
    }
   ],
   "source": [
    "# Double every element\n",
    "dbls = nptd * 2\n",
    "print(dbls)\n"
   ]
  },
  {
   "cell_type": "code",
   "execution_count": 62,
   "id": "0caef542",
   "metadata": {},
   "outputs": [
    {
     "name": "stdout",
     "output_type": "stream",
     "text": [
      "[[  2   4  36]\n",
      " [  8  10 144]]\n"
     ]
    }
   ],
   "source": [
    "# Replace the third column \n",
    "dbls[:,2] = dbls[:,2] ** 2\n",
    "print(dbls)"
   ]
  },
  {
   "cell_type": "markdown",
   "id": "572d5af1",
   "metadata": {},
   "source": [
    "### Welcoming guests to Festivus with map and *"
   ]
  },
  {
   "cell_type": "code",
   "execution_count": 63,
   "id": "7d0fc03d",
   "metadata": {},
   "outputs": [],
   "source": [
    "def welcome_guest(l):\n",
    "    return \"Welcome \" + l[0] + \"! You're \" + str(l[1]) + \" minutes late!\"\n"
   ]
  },
  {
   "cell_type": "code",
   "execution_count": 64,
   "id": "434d26fc",
   "metadata": {},
   "outputs": [
    {
     "name": "stdout",
     "output_type": "stream",
     "text": [
      "Welcome Jerry! You're 7 minutes late!\n",
      "Welcome Kramer! You're 17 minutes late!\n",
      "Welcome Elaine! You're 27 minutes late!\n",
      "Welcome George! You're 37 minutes late!\n",
      "Welcome Newman! You're 47 minutes late!\n"
     ]
    }
   ],
   "source": [
    "# Create a list of arrival times\n",
    "arrival_times = [*range(10,60,10)]\n",
    "\n",
    "# Convert arrival_times to an array and update the times\n",
    "arrival_times_np = np.array(arrival_times)\n",
    "new_times = arrival_times_np - 3\n",
    "\n",
    "# Use list comprehension and enumerate to pair guests to new times\n",
    "guest_arrivals = [(names[i],time) for i,time in enumerate(new_times)]\n",
    "\n",
    "# Map the welcome_guest function to each (guest,time) pair\n",
    "welcome_map = map(welcome_guest, guest_arrivals)\n",
    "\n",
    "guest_welcomes = [*welcome_map]\n",
    "print(*guest_welcomes, sep='\\n')"
   ]
  },
  {
   "cell_type": "markdown",
   "id": "ebd6167d",
   "metadata": {},
   "source": [
    "### Using %timeit and %%timeit\n",
    "\n",
    "Unpacking the range object is faster than using list comprehension"
   ]
  },
  {
   "cell_type": "code",
   "execution_count": 65,
   "id": "67373de9",
   "metadata": {},
   "outputs": [
    {
     "name": "stdout",
     "output_type": "stream",
     "text": [
      "1.9 µs ± 35.3 ns per loop (mean ± std. dev. of 7 runs, 1000000 loops each)\n",
      "700 ns ± 25.3 ns per loop (mean ± std. dev. of 7 runs, 1000000 loops each)\n"
     ]
    },
    {
     "data": {
      "text/plain": [
       "1.1969195857142795e-06"
      ]
     },
     "execution_count": 65,
     "metadata": {},
     "output_type": "execute_result"
    }
   ],
   "source": [
    "r_time = %timeit -o [i for i in range(51)]\n",
    "u_time = %timeit -o [*list(range(51))]\n",
    "r_time.average - u_time.average "
   ]
  },
  {
   "cell_type": "code",
   "execution_count": 66,
   "id": "cc60f316",
   "metadata": {},
   "outputs": [
    {
     "data": {
      "text/plain": [
       "0.05230530000000044"
      ]
     },
     "execution_count": 66,
     "metadata": {},
     "output_type": "execute_result"
    }
   ],
   "source": [
    "import timeit\n",
    "\n",
    "t = timeit.Timer('char in text', setup='text = \"sample string\"; char = \"g\"')\n",
    "t.timeit()\n"
   ]
  },
  {
   "cell_type": "code",
   "execution_count": 67,
   "id": "39a47b5d",
   "metadata": {},
   "outputs": [
    {
     "data": {
      "image/png": "[encoded data removed]",
      "text/plain": [
       "<Figure size 432x288 with 1 Axes>"
      ]
     },
     "metadata": {
      "needs_background": "light"
     },
     "output_type": "display_data"
    }
   ],
   "source": [
    "%matplotlib inline\n",
    "\n",
    "import matplotlib.pyplot as plt\n",
    "\n",
    "ts = t.repeat()\n",
    "plt.hist(ts, bins=len(ts))\n",
    "plt.xlabel('Time to Find \"g\" in \"sample string\"')\n",
    "plt.ylabel('Count')\n",
    "plt.show()"
   ]
  },
  {
   "cell_type": "markdown",
   "id": "d0bb9948",
   "metadata": {},
   "source": [
    "Using %%timeit for cell execution timings"
   ]
  },
  {
   "cell_type": "code",
   "execution_count": 70,
   "id": "7f8e7fed",
   "metadata": {},
   "outputs": [
    {
     "data": {
      "text/html": [
       "<div>\n",
       "<style scoped>\n",
       "    .dataframe tbody tr th:only-of-type {\n",
       "        vertical-align: middle;\n",
       "    }\n",
       "\n",
       "    .dataframe tbody tr th {\n",
       "        vertical-align: top;\n",
       "    }\n",
       "\n",
       "    .dataframe thead th {\n",
       "        text-align: right;\n",
       "    }\n",
       "</style>\n",
       "<table border=\"1\" class=\"dataframe\">\n",
       "  <thead>\n",
       "    <tr style=\"text-align: right;\">\n",
       "      <th></th>\n",
       "      <th>name</th>\n",
       "      <th>Gender</th>\n",
       "      <th>Eye color</th>\n",
       "      <th>Race</th>\n",
       "      <th>Hair color</th>\n",
       "      <th>Height</th>\n",
       "      <th>Publisher</th>\n",
       "      <th>Skin color</th>\n",
       "      <th>Alignment</th>\n",
       "      <th>Weight</th>\n",
       "    </tr>\n",
       "  </thead>\n",
       "  <tbody>\n",
       "    <tr>\n",
       "      <th>0</th>\n",
       "      <td>A-Bomb</td>\n",
       "      <td>Male</td>\n",
       "      <td>yellow</td>\n",
       "      <td>Human</td>\n",
       "      <td>No Hair</td>\n",
       "      <td>203.0</td>\n",
       "      <td>Marvel Comics</td>\n",
       "      <td>-</td>\n",
       "      <td>good</td>\n",
       "      <td>441.0</td>\n",
       "    </tr>\n",
       "    <tr>\n",
       "      <th>1</th>\n",
       "      <td>Abe Sapien</td>\n",
       "      <td>Male</td>\n",
       "      <td>blue</td>\n",
       "      <td>Icthyo Sapien</td>\n",
       "      <td>No Hair</td>\n",
       "      <td>191.0</td>\n",
       "      <td>Dark Horse Comics</td>\n",
       "      <td>blue</td>\n",
       "      <td>good</td>\n",
       "      <td>65.0</td>\n",
       "    </tr>\n",
       "    <tr>\n",
       "      <th>2</th>\n",
       "      <td>Abin Sur</td>\n",
       "      <td>Male</td>\n",
       "      <td>blue</td>\n",
       "      <td>Ungaran</td>\n",
       "      <td>No Hair</td>\n",
       "      <td>185.0</td>\n",
       "      <td>DC Comics</td>\n",
       "      <td>red</td>\n",
       "      <td>good</td>\n",
       "      <td>90.0</td>\n",
       "    </tr>\n",
       "    <tr>\n",
       "      <th>3</th>\n",
       "      <td>Abomination</td>\n",
       "      <td>Male</td>\n",
       "      <td>green</td>\n",
       "      <td>Human / Radiation</td>\n",
       "      <td>No Hair</td>\n",
       "      <td>203.0</td>\n",
       "      <td>Marvel Comics</td>\n",
       "      <td>-</td>\n",
       "      <td>bad</td>\n",
       "      <td>441.0</td>\n",
       "    </tr>\n",
       "    <tr>\n",
       "      <th>4</th>\n",
       "      <td>Abraxas</td>\n",
       "      <td>Male</td>\n",
       "      <td>blue</td>\n",
       "      <td>Cosmic Entity</td>\n",
       "      <td>Black</td>\n",
       "      <td>-99.0</td>\n",
       "      <td>Marvel Comics</td>\n",
       "      <td>-</td>\n",
       "      <td>bad</td>\n",
       "      <td>-99.0</td>\n",
       "    </tr>\n",
       "  </tbody>\n",
       "</table>\n",
       "</div>"
      ],
      "text/plain": [
       "          name Gender Eye color               Race Hair color  Height  \\\n",
       "0       A-Bomb   Male    yellow              Human    No Hair   203.0   \n",
       "1   Abe Sapien   Male      blue      Icthyo Sapien    No Hair   191.0   \n",
       "2     Abin Sur   Male      blue            Ungaran    No Hair   185.0   \n",
       "3  Abomination   Male     green  Human / Radiation    No Hair   203.0   \n",
       "4      Abraxas   Male      blue      Cosmic Entity      Black   -99.0   \n",
       "\n",
       "           Publisher Skin color Alignment  Weight  \n",
       "0      Marvel Comics          -      good   441.0  \n",
       "1  Dark Horse Comics       blue      good    65.0  \n",
       "2          DC Comics        red      good    90.0  \n",
       "3      Marvel Comics          -       bad   441.0  \n",
       "4      Marvel Comics          -       bad   -99.0  "
      ]
     },
     "execution_count": 70,
     "metadata": {},
     "output_type": "execute_result"
    }
   ],
   "source": [
    "heroes = pd.read_csv(\"Datasets/heroes_information.csv\")\n",
    "heroes = heroes.drop(columns=[\"Unnamed: 0\"], errors=\"ignore\")\n",
    "heroes.head()"
   ]
  },
  {
   "cell_type": "code",
   "execution_count": 71,
   "id": "875c9957",
   "metadata": {},
   "outputs": [
    {
     "data": {
      "text/plain": [
       "(734, 10)"
      ]
     },
     "execution_count": 71,
     "metadata": {},
     "output_type": "execute_result"
    }
   ],
   "source": [
    "heroes.shape"
   ]
  },
  {
   "cell_type": "code",
   "execution_count": 73,
   "id": "064967b5",
   "metadata": {},
   "outputs": [],
   "source": [
    "wts = list(heroes[\"Weight\"])"
   ]
  },
  {
   "cell_type": "code",
   "execution_count": 74,
   "id": "85bd8949",
   "metadata": {},
   "outputs": [
    {
     "name": "stdout",
     "output_type": "stream",
     "text": [
      "67.8 µs ± 2.47 µs per loop (mean ± std. dev. of 7 runs, 10000 loops each)\n"
     ]
    }
   ],
   "source": [
    "%%timeit\n",
    "hero_wts_lbs = []\n",
    "for wt in wts:\n",
    "    hero_wts_lbs.append(wt * 2.20462)"
   ]
  },
  {
   "cell_type": "code",
   "execution_count": 75,
   "id": "c5235b4c",
   "metadata": {},
   "outputs": [],
   "source": [
    "wts_np = np.array(heroes[\"Weight\"])"
   ]
  },
  {
   "cell_type": "code",
   "execution_count": 76,
   "id": "8acad49e",
   "metadata": {},
   "outputs": [
    {
     "name": "stdout",
     "output_type": "stream",
     "text": [
      "1.21 µs ± 5.86 ns per loop (mean ± std. dev. of 7 runs, 1000000 loops each)\n"
     ]
    }
   ],
   "source": [
    "%%timeit\n",
    "hero_wts_lbs_np = wts_np * 2.20462"
   ]
  },
  {
   "cell_type": "markdown",
   "id": "19a25826",
   "metadata": {},
   "source": [
    "### Code Profiling"
   ]
  },
  {
   "cell_type": "code",
   "execution_count": 78,
   "id": "73b84373",
   "metadata": {},
   "outputs": [],
   "source": [
    "import line_profiler"
   ]
  },
  {
   "cell_type": "code",
   "execution_count": 84,
   "id": "8c33248d",
   "metadata": {},
   "outputs": [],
   "source": [
    "hero_names = list(heroes.head(10)[\"name\"])\n",
    "hero_heights = np.array(heroes.head(10)[\"Height\"])\n",
    "hero_weights = np.array(heroes.head(10)[\"Weight\"])"
   ]
  },
  {
   "cell_type": "code",
   "execution_count": 85,
   "id": "a411583b",
   "metadata": {},
   "outputs": [],
   "source": [
    "def convert_units(heroes, heights, weights):\n",
    "    new_hts = [ht * 0.39370 for ht in heights]\n",
    "    new_wts = [wt * 2.20462 for wt in weights]\n",
    "    \n",
    "    hero_data = {}\n",
    "    for i, hero in enumerate(heroes):\n",
    "        hero_data[hero] = (new_hts[i], new_wts[i])\n",
    "        \n",
    "    return hero_data\n"
   ]
  },
  {
   "cell_type": "code",
   "execution_count": 86,
   "id": "9fe7a3b8",
   "metadata": {},
   "outputs": [
    {
     "data": {
      "text/plain": [
       "{'A-Bomb': (79.9211, 972.2374199999999),\n",
       " 'Abe Sapien': (75.19669999999999, 143.3003),\n",
       " 'Abin Sur': (72.8345, 198.4158),\n",
       " 'Abomination': (79.9211, 972.2374199999999),\n",
       " 'Abraxas': (-38.9763, -218.25737999999998),\n",
       " 'Absorbing Man': (75.9841, 268.96364),\n",
       " 'Adam Monroe': (-38.9763, -218.25737999999998),\n",
       " 'Adam Strange': (72.8345, 194.00655999999998),\n",
       " 'Agent 13': (68.1101, 134.48182),\n",
       " 'Agent Bob': (70.0786, 178.57422)}"
      ]
     },
     "execution_count": 86,
     "metadata": {},
     "output_type": "execute_result"
    }
   ],
   "source": [
    "convert_units(hero_names, hero_heights, hero_weights)"
   ]
  },
  {
   "cell_type": "code",
   "execution_count": 87,
   "id": "5155b2fb",
   "metadata": {},
   "outputs": [],
   "source": [
    "%load_ext line_profiler"
   ]
  },
  {
   "cell_type": "code",
   "execution_count": 88,
   "id": "c4a0b788",
   "metadata": {},
   "outputs": [],
   "source": [
    "%lprun -f convert_units convert_units(hero_names, hero_heights, hero_weights)"
   ]
  },
  {
   "cell_type": "code",
   "execution_count": 97,
   "id": "cf7a62ed",
   "metadata": {},
   "outputs": [],
   "source": [
    "# Redefine function to use array broadcasting\n",
    "\n",
    "def convert_units_broadcast(heroes, heights, weights):\n",
    "    new_hts = heights * 0.39370\n",
    "    new_wts = weights * 2.20462 \n",
    "    \n",
    "    hero_data = {}\n",
    "    for i, hero in enumerate(heroes):\n",
    "        hero_data[hero] = (new_hts[i], new_wts[i])\n",
    "        \n",
    "    return hero_data"
   ]
  },
  {
   "cell_type": "code",
   "execution_count": 98,
   "id": "5e6fa465",
   "metadata": {},
   "outputs": [],
   "source": [
    "%lprun -f convert_units_broadcast convert_units_broadcast(hero_names, hero_heights, hero_weights)"
   ]
  },
  {
   "cell_type": "markdown",
   "id": "5a26f518",
   "metadata": {},
   "source": [
    "### Memory Consumption Profiling"
   ]
  },
  {
   "cell_type": "code",
   "execution_count": 99,
   "id": "4f335003",
   "metadata": {},
   "outputs": [],
   "source": [
    "import memory_profiler"
   ]
  },
  {
   "cell_type": "code",
   "execution_count": 102,
   "id": "d5640a29",
   "metadata": {},
   "outputs": [],
   "source": [
    "%reload_ext memory_profiler"
   ]
  },
  {
   "cell_type": "code",
   "execution_count": 104,
   "id": "279fe822",
   "metadata": {},
   "outputs": [],
   "source": [
    "from herofuncs import convert_units_broadcast"
   ]
  },
  {
   "cell_type": "code",
   "execution_count": 105,
   "id": "17ebaa24",
   "metadata": {},
   "outputs": [
    {
     "name": "stdout",
     "output_type": "stream",
     "text": [
      "\n"
     ]
    }
   ],
   "source": [
    "%mprun -f convert_units_broadcast convert_units_broadcast(hero_names, hero_heights, hero_weights)"
   ]
  },
  {
   "cell_type": "code",
   "execution_count": 110,
   "id": "577f86af",
   "metadata": {},
   "outputs": [],
   "source": [
    "import random\n",
    "\n",
    "h_indexes = list(heroes.index)\n",
    "hero_sample = random.choices(h_indexes, k=25000)\n",
    "heights_sample = [heroes.at[i, \"Height\"] for i in hero_sample]\n",
    "weights_sample = [heroes.at[i, \"Weight\"] for i in hero_sample]"
   ]
  },
  {
   "cell_type": "code",
   "execution_count": 113,
   "id": "83559cf8",
   "metadata": {},
   "outputs": [],
   "source": [
    "%reload_ext memory_profiler"
   ]
  },
  {
   "cell_type": "code",
   "execution_count": 117,
   "id": "16c12010",
   "metadata": {},
   "outputs": [],
   "source": [
    "from bmifuncs import calc_bmi_lists"
   ]
  },
  {
   "cell_type": "code",
   "execution_count": 118,
   "id": "e5ebb452",
   "metadata": {},
   "outputs": [
    {
     "name": "stdout",
     "output_type": "stream",
     "text": [
      "\n"
     ]
    }
   ],
   "source": [
    "%mprun -f calc_bmi_lists calc_bmi_lists(hero_sample, heights_sample, weights_sample)"
   ]
  },
  {
   "cell_type": "code",
   "execution_count": 119,
   "id": "b9c3fc1e",
   "metadata": {},
   "outputs": [],
   "source": [
    "%reload_ext memory_profiler"
   ]
  },
  {
   "cell_type": "code",
   "execution_count": 120,
   "id": "fb8fae9c",
   "metadata": {},
   "outputs": [],
   "source": [
    "from bmifuncs2 import calc_bmi_arrays"
   ]
  },
  {
   "cell_type": "code",
   "execution_count": 122,
   "id": "afda4a88",
   "metadata": {},
   "outputs": [],
   "source": [
    "hero_sample2 = np.array(hero_sample)\n",
    "heights_sample2 = np.array(heights_sample)\n",
    "weights_sample2 = np.array(weights_sample)"
   ]
  },
  {
   "cell_type": "code",
   "execution_count": 124,
   "id": "2c0c296d",
   "metadata": {},
   "outputs": [
    {
     "name": "stdout",
     "output_type": "stream",
     "text": [
      "\n"
     ]
    }
   ],
   "source": [
    "%mprun -f calc_bmi_arrays calc_bmi_arrays(hero_sample2, heights_sample2, weights_sample2)"
   ]
  },
  {
   "cell_type": "markdown",
   "id": "8caa6cad",
   "metadata": {},
   "source": [
    "### Combining, Counting and Iterating"
   ]
  },
  {
   "cell_type": "code",
   "execution_count": 125,
   "id": "2487157d",
   "metadata": {},
   "outputs": [
    {
     "data": {
      "text/html": [
       "<div>\n",
       "<style scoped>\n",
       "    .dataframe tbody tr th:only-of-type {\n",
       "        vertical-align: middle;\n",
       "    }\n",
       "\n",
       "    .dataframe tbody tr th {\n",
       "        vertical-align: top;\n",
       "    }\n",
       "\n",
       "    .dataframe thead th {\n",
       "        text-align: right;\n",
       "    }\n",
       "</style>\n",
       "<table border=\"1\" class=\"dataframe\">\n",
       "  <thead>\n",
       "    <tr style=\"text-align: right;\">\n",
       "      <th></th>\n",
       "      <th>abilities</th>\n",
       "      <th>against_bug</th>\n",
       "      <th>against_dark</th>\n",
       "      <th>against_dragon</th>\n",
       "      <th>against_electric</th>\n",
       "      <th>against_fairy</th>\n",
       "      <th>against_fight</th>\n",
       "      <th>against_fire</th>\n",
       "      <th>against_flying</th>\n",
       "      <th>against_ghost</th>\n",
       "      <th>...</th>\n",
       "      <th>percentage_male</th>\n",
       "      <th>pokedex_number</th>\n",
       "      <th>sp_attack</th>\n",
       "      <th>sp_defense</th>\n",
       "      <th>speed</th>\n",
       "      <th>type1</th>\n",
       "      <th>type2</th>\n",
       "      <th>weight_kg</th>\n",
       "      <th>generation</th>\n",
       "      <th>is_legendary</th>\n",
       "    </tr>\n",
       "  </thead>\n",
       "  <tbody>\n",
       "    <tr>\n",
       "      <th>0</th>\n",
       "      <td>['Overgrow', 'Chlorophyll']</td>\n",
       "      <td>1.0</td>\n",
       "      <td>1.0</td>\n",
       "      <td>1.0</td>\n",
       "      <td>0.5</td>\n",
       "      <td>0.5</td>\n",
       "      <td>0.5</td>\n",
       "      <td>2.0</td>\n",
       "      <td>2.0</td>\n",
       "      <td>1.0</td>\n",
       "      <td>...</td>\n",
       "      <td>88.1</td>\n",
       "      <td>1</td>\n",
       "      <td>65</td>\n",
       "      <td>65</td>\n",
       "      <td>45</td>\n",
       "      <td>grass</td>\n",
       "      <td>poison</td>\n",
       "      <td>6.9</td>\n",
       "      <td>1</td>\n",
       "      <td>0</td>\n",
       "    </tr>\n",
       "    <tr>\n",
       "      <th>1</th>\n",
       "      <td>['Overgrow', 'Chlorophyll']</td>\n",
       "      <td>1.0</td>\n",
       "      <td>1.0</td>\n",
       "      <td>1.0</td>\n",
       "      <td>0.5</td>\n",
       "      <td>0.5</td>\n",
       "      <td>0.5</td>\n",
       "      <td>2.0</td>\n",
       "      <td>2.0</td>\n",
       "      <td>1.0</td>\n",
       "      <td>...</td>\n",
       "      <td>88.1</td>\n",
       "      <td>2</td>\n",
       "      <td>80</td>\n",
       "      <td>80</td>\n",
       "      <td>60</td>\n",
       "      <td>grass</td>\n",
       "      <td>poison</td>\n",
       "      <td>13.0</td>\n",
       "      <td>1</td>\n",
       "      <td>0</td>\n",
       "    </tr>\n",
       "    <tr>\n",
       "      <th>2</th>\n",
       "      <td>['Overgrow', 'Chlorophyll']</td>\n",
       "      <td>1.0</td>\n",
       "      <td>1.0</td>\n",
       "      <td>1.0</td>\n",
       "      <td>0.5</td>\n",
       "      <td>0.5</td>\n",
       "      <td>0.5</td>\n",
       "      <td>2.0</td>\n",
       "      <td>2.0</td>\n",
       "      <td>1.0</td>\n",
       "      <td>...</td>\n",
       "      <td>88.1</td>\n",
       "      <td>3</td>\n",
       "      <td>122</td>\n",
       "      <td>120</td>\n",
       "      <td>80</td>\n",
       "      <td>grass</td>\n",
       "      <td>poison</td>\n",
       "      <td>100.0</td>\n",
       "      <td>1</td>\n",
       "      <td>0</td>\n",
       "    </tr>\n",
       "    <tr>\n",
       "      <th>3</th>\n",
       "      <td>['Blaze', 'Solar Power']</td>\n",
       "      <td>0.5</td>\n",
       "      <td>1.0</td>\n",
       "      <td>1.0</td>\n",
       "      <td>1.0</td>\n",
       "      <td>0.5</td>\n",
       "      <td>1.0</td>\n",
       "      <td>0.5</td>\n",
       "      <td>1.0</td>\n",
       "      <td>1.0</td>\n",
       "      <td>...</td>\n",
       "      <td>88.1</td>\n",
       "      <td>4</td>\n",
       "      <td>60</td>\n",
       "      <td>50</td>\n",
       "      <td>65</td>\n",
       "      <td>fire</td>\n",
       "      <td>NaN</td>\n",
       "      <td>8.5</td>\n",
       "      <td>1</td>\n",
       "      <td>0</td>\n",
       "    </tr>\n",
       "    <tr>\n",
       "      <th>4</th>\n",
       "      <td>['Blaze', 'Solar Power']</td>\n",
       "      <td>0.5</td>\n",
       "      <td>1.0</td>\n",
       "      <td>1.0</td>\n",
       "      <td>1.0</td>\n",
       "      <td>0.5</td>\n",
       "      <td>1.0</td>\n",
       "      <td>0.5</td>\n",
       "      <td>1.0</td>\n",
       "      <td>1.0</td>\n",
       "      <td>...</td>\n",
       "      <td>88.1</td>\n",
       "      <td>5</td>\n",
       "      <td>80</td>\n",
       "      <td>65</td>\n",
       "      <td>80</td>\n",
       "      <td>fire</td>\n",
       "      <td>NaN</td>\n",
       "      <td>19.0</td>\n",
       "      <td>1</td>\n",
       "      <td>0</td>\n",
       "    </tr>\n",
       "  </tbody>\n",
       "</table>\n",
       "<p>5 rows × 41 columns</p>\n",
       "</div>"
      ],
      "text/plain": [
       "                     abilities  against_bug  against_dark  against_dragon  \\\n",
       "0  ['Overgrow', 'Chlorophyll']          1.0           1.0             1.0   \n",
       "1  ['Overgrow', 'Chlorophyll']          1.0           1.0             1.0   \n",
       "2  ['Overgrow', 'Chlorophyll']          1.0           1.0             1.0   \n",
       "3     ['Blaze', 'Solar Power']          0.5           1.0             1.0   \n",
       "4     ['Blaze', 'Solar Power']          0.5           1.0             1.0   \n",
       "\n",
       "   against_electric  against_fairy  against_fight  against_fire  \\\n",
       "0               0.5            0.5            0.5           2.0   \n",
       "1               0.5            0.5            0.5           2.0   \n",
       "2               0.5            0.5            0.5           2.0   \n",
       "3               1.0            0.5            1.0           0.5   \n",
       "4               1.0            0.5            1.0           0.5   \n",
       "\n",
       "   against_flying  against_ghost  ...  percentage_male  pokedex_number  \\\n",
       "0             2.0            1.0  ...             88.1               1   \n",
       "1             2.0            1.0  ...             88.1               2   \n",
       "2             2.0            1.0  ...             88.1               3   \n",
       "3             1.0            1.0  ...             88.1               4   \n",
       "4             1.0            1.0  ...             88.1               5   \n",
       "\n",
       "   sp_attack  sp_defense  speed  type1   type2  weight_kg  generation  \\\n",
       "0         65          65     45  grass  poison        6.9           1   \n",
       "1         80          80     60  grass  poison       13.0           1   \n",
       "2        122         120     80  grass  poison      100.0           1   \n",
       "3         60          50     65   fire     NaN        8.5           1   \n",
       "4         80          65     80   fire     NaN       19.0           1   \n",
       "\n",
       "   is_legendary  \n",
       "0             0  \n",
       "1             0  \n",
       "2             0  \n",
       "3             0  \n",
       "4             0  \n",
       "\n",
       "[5 rows x 41 columns]"
      ]
     },
     "execution_count": 125,
     "metadata": {},
     "output_type": "execute_result"
    }
   ],
   "source": [
    "pokemon = pd.read_csv(\"Datasets/pokemon.csv\")\n",
    "pokemon.head()"
   ]
  },
  {
   "cell_type": "code",
   "execution_count": 126,
   "id": "88a15008",
   "metadata": {},
   "outputs": [
    {
     "name": "stdout",
     "output_type": "stream",
     "text": [
      "<class 'pandas.core.frame.DataFrame'>\n",
      "RangeIndex: 801 entries, 0 to 800\n",
      "Data columns (total 41 columns):\n",
      " #   Column             Non-Null Count  Dtype  \n",
      "---  ------             --------------  -----  \n",
      " 0   abilities          801 non-null    object \n",
      " 1   against_bug        801 non-null    float64\n",
      " 2   against_dark       801 non-null    float64\n",
      " 3   against_dragon     801 non-null    float64\n",
      " 4   against_electric   801 non-null    float64\n",
      " 5   against_fairy      801 non-null    float64\n",
      " 6   against_fight      801 non-null    float64\n",
      " 7   against_fire       801 non-null    float64\n",
      " 8   against_flying     801 non-null    float64\n",
      " 9   against_ghost      801 non-null    float64\n",
      " 10  against_grass      801 non-null    float64\n",
      " 11  against_ground     801 non-null    float64\n",
      " 12  against_ice        801 non-null    float64\n",
      " 13  against_normal     801 non-null    float64\n",
      " 14  against_poison     801 non-null    float64\n",
      " 15  against_psychic    801 non-null    float64\n",
      " 16  against_rock       801 non-null    float64\n",
      " 17  against_steel      801 non-null    float64\n",
      " 18  against_water      801 non-null    float64\n",
      " 19  attack             801 non-null    int64  \n",
      " 20  base_egg_steps     801 non-null    int64  \n",
      " 21  base_happiness     801 non-null    int64  \n",
      " 22  base_total         801 non-null    int64  \n",
      " 23  capture_rate       801 non-null    object \n",
      " 24  classfication      801 non-null    object \n",
      " 25  defense            801 non-null    int64  \n",
      " 26  experience_growth  801 non-null    int64  \n",
      " 27  height_m           781 non-null    float64\n",
      " 28  hp                 801 non-null    int64  \n",
      " 29  japanese_name      801 non-null    object \n",
      " 30  name               801 non-null    object \n",
      " 31  percentage_male    703 non-null    float64\n",
      " 32  pokedex_number     801 non-null    int64  \n",
      " 33  sp_attack          801 non-null    int64  \n",
      " 34  sp_defense         801 non-null    int64  \n",
      " 35  speed              801 non-null    int64  \n",
      " 36  type1              801 non-null    object \n",
      " 37  type2              417 non-null    object \n",
      " 38  weight_kg          781 non-null    float64\n",
      " 39  generation         801 non-null    int64  \n",
      " 40  is_legendary       801 non-null    int64  \n",
      "dtypes: float64(21), int64(13), object(7)\n",
      "memory usage: 256.7+ KB\n"
     ]
    }
   ],
   "source": [
    "pokemon.info()"
   ]
  },
  {
   "cell_type": "code",
   "execution_count": 129,
   "id": "91c9b03c",
   "metadata": {},
   "outputs": [
    {
     "data": {
      "text/html": [
       "<div>\n",
       "<style scoped>\n",
       "    .dataframe tbody tr th:only-of-type {\n",
       "        vertical-align: middle;\n",
       "    }\n",
       "\n",
       "    .dataframe tbody tr th {\n",
       "        vertical-align: top;\n",
       "    }\n",
       "\n",
       "    .dataframe thead th {\n",
       "        text-align: right;\n",
       "    }\n",
       "</style>\n",
       "<table border=\"1\" class=\"dataframe\">\n",
       "  <thead>\n",
       "    <tr style=\"text-align: right;\">\n",
       "      <th></th>\n",
       "      <th>index</th>\n",
       "      <th>abilities</th>\n",
       "      <th>against_bug</th>\n",
       "      <th>against_dark</th>\n",
       "      <th>against_dragon</th>\n",
       "      <th>against_electric</th>\n",
       "      <th>against_fairy</th>\n",
       "      <th>against_fight</th>\n",
       "      <th>against_fire</th>\n",
       "      <th>against_flying</th>\n",
       "      <th>...</th>\n",
       "      <th>percentage_male</th>\n",
       "      <th>pokedex_number</th>\n",
       "      <th>sp_attack</th>\n",
       "      <th>sp_defense</th>\n",
       "      <th>speed</th>\n",
       "      <th>type1</th>\n",
       "      <th>type2</th>\n",
       "      <th>weight_kg</th>\n",
       "      <th>generation</th>\n",
       "      <th>is_legendary</th>\n",
       "    </tr>\n",
       "  </thead>\n",
       "  <tbody>\n",
       "    <tr>\n",
       "      <th>0</th>\n",
       "      <td>459</td>\n",
       "      <td>['Snow Warning', 'Soundproof']</td>\n",
       "      <td>2.00</td>\n",
       "      <td>1.0</td>\n",
       "      <td>1.0</td>\n",
       "      <td>0.5</td>\n",
       "      <td>1.0</td>\n",
       "      <td>2.0</td>\n",
       "      <td>4.0</td>\n",
       "      <td>2.0</td>\n",
       "      <td>...</td>\n",
       "      <td>50.0</td>\n",
       "      <td>460</td>\n",
       "      <td>132</td>\n",
       "      <td>105</td>\n",
       "      <td>30</td>\n",
       "      <td>grass</td>\n",
       "      <td>ice</td>\n",
       "      <td>135.5</td>\n",
       "      <td>4</td>\n",
       "      <td>0</td>\n",
       "    </tr>\n",
       "    <tr>\n",
       "      <th>1</th>\n",
       "      <td>62</td>\n",
       "      <td>['Synchronize', 'Inner Focus', 'Magic Guard']</td>\n",
       "      <td>2.00</td>\n",
       "      <td>2.0</td>\n",
       "      <td>1.0</td>\n",
       "      <td>1.0</td>\n",
       "      <td>1.0</td>\n",
       "      <td>0.5</td>\n",
       "      <td>1.0</td>\n",
       "      <td>1.0</td>\n",
       "      <td>...</td>\n",
       "      <td>75.4</td>\n",
       "      <td>63</td>\n",
       "      <td>105</td>\n",
       "      <td>55</td>\n",
       "      <td>90</td>\n",
       "      <td>psychic</td>\n",
       "      <td>NaN</td>\n",
       "      <td>19.5</td>\n",
       "      <td>1</td>\n",
       "      <td>0</td>\n",
       "    </tr>\n",
       "    <tr>\n",
       "      <th>2</th>\n",
       "      <td>358</td>\n",
       "      <td>['Pressure', 'Super Luck', 'Justified']</td>\n",
       "      <td>2.00</td>\n",
       "      <td>0.5</td>\n",
       "      <td>1.0</td>\n",
       "      <td>1.0</td>\n",
       "      <td>2.0</td>\n",
       "      <td>2.0</td>\n",
       "      <td>1.0</td>\n",
       "      <td>1.0</td>\n",
       "      <td>...</td>\n",
       "      <td>50.0</td>\n",
       "      <td>359</td>\n",
       "      <td>115</td>\n",
       "      <td>60</td>\n",
       "      <td>115</td>\n",
       "      <td>dark</td>\n",
       "      <td>NaN</td>\n",
       "      <td>47.0</td>\n",
       "      <td>3</td>\n",
       "      <td>0</td>\n",
       "    </tr>\n",
       "    <tr>\n",
       "      <th>3</th>\n",
       "      <td>616</td>\n",
       "      <td>['Hydration', 'Sticky Hold', 'Unburden']</td>\n",
       "      <td>1.00</td>\n",
       "      <td>1.0</td>\n",
       "      <td>1.0</td>\n",
       "      <td>1.0</td>\n",
       "      <td>1.0</td>\n",
       "      <td>0.5</td>\n",
       "      <td>2.0</td>\n",
       "      <td>2.0</td>\n",
       "      <td>...</td>\n",
       "      <td>50.0</td>\n",
       "      <td>617</td>\n",
       "      <td>100</td>\n",
       "      <td>60</td>\n",
       "      <td>145</td>\n",
       "      <td>bug</td>\n",
       "      <td>NaN</td>\n",
       "      <td>25.3</td>\n",
       "      <td>5</td>\n",
       "      <td>0</td>\n",
       "    </tr>\n",
       "    <tr>\n",
       "      <th>4</th>\n",
       "      <td>680</td>\n",
       "      <td>['Stance Change']</td>\n",
       "      <td>0.25</td>\n",
       "      <td>2.0</td>\n",
       "      <td>0.5</td>\n",
       "      <td>1.0</td>\n",
       "      <td>0.5</td>\n",
       "      <td>0.0</td>\n",
       "      <td>2.0</td>\n",
       "      <td>0.5</td>\n",
       "      <td>...</td>\n",
       "      <td>50.0</td>\n",
       "      <td>681</td>\n",
       "      <td>150</td>\n",
       "      <td>50</td>\n",
       "      <td>60</td>\n",
       "      <td>steel</td>\n",
       "      <td>ghost</td>\n",
       "      <td>53.0</td>\n",
       "      <td>6</td>\n",
       "      <td>0</td>\n",
       "    </tr>\n",
       "  </tbody>\n",
       "</table>\n",
       "<p>5 rows × 42 columns</p>\n",
       "</div>"
      ],
      "text/plain": [
       "   index                                      abilities  against_bug  \\\n",
       "0    459                 ['Snow Warning', 'Soundproof']         2.00   \n",
       "1     62  ['Synchronize', 'Inner Focus', 'Magic Guard']         2.00   \n",
       "2    358        ['Pressure', 'Super Luck', 'Justified']         2.00   \n",
       "3    616       ['Hydration', 'Sticky Hold', 'Unburden']         1.00   \n",
       "4    680                              ['Stance Change']         0.25   \n",
       "\n",
       "   against_dark  against_dragon  against_electric  against_fairy  \\\n",
       "0           1.0             1.0               0.5            1.0   \n",
       "1           2.0             1.0               1.0            1.0   \n",
       "2           0.5             1.0               1.0            2.0   \n",
       "3           1.0             1.0               1.0            1.0   \n",
       "4           2.0             0.5               1.0            0.5   \n",
       "\n",
       "   against_fight  against_fire  against_flying  ...  percentage_male  \\\n",
       "0            2.0           4.0             2.0  ...             50.0   \n",
       "1            0.5           1.0             1.0  ...             75.4   \n",
       "2            2.0           1.0             1.0  ...             50.0   \n",
       "3            0.5           2.0             2.0  ...             50.0   \n",
       "4            0.0           2.0             0.5  ...             50.0   \n",
       "\n",
       "   pokedex_number  sp_attack  sp_defense  speed    type1  type2  weight_kg  \\\n",
       "0             460        132         105     30    grass    ice      135.5   \n",
       "1              63        105          55     90  psychic    NaN       19.5   \n",
       "2             359        115          60    115     dark    NaN       47.0   \n",
       "3             617        100          60    145      bug    NaN       25.3   \n",
       "4             681        150          50     60    steel  ghost       53.0   \n",
       "\n",
       "   generation  is_legendary  \n",
       "0           4             0  \n",
       "1           1             0  \n",
       "2           3             0  \n",
       "3           5             0  \n",
       "4           6             0  \n",
       "\n",
       "[5 rows x 42 columns]"
      ]
     },
     "execution_count": 129,
     "metadata": {},
     "output_type": "execute_result"
    }
   ],
   "source": [
    "pokemon = pokemon.sort_values([\"name\"]).reset_index()\n",
    "pokemon.head()"
   ]
  },
  {
   "cell_type": "code",
   "execution_count": 130,
   "id": "f2634b01",
   "metadata": {},
   "outputs": [],
   "source": [
    "pokemon = pokemon.drop(columns=[\"index\"], errors=\"ignore\")"
   ]
  },
  {
   "cell_type": "code",
   "execution_count": 131,
   "id": "f40a08b2",
   "metadata": {},
   "outputs": [
    {
     "data": {
      "text/plain": [
       "<zip at 0x22feb7d7880>"
      ]
     },
     "execution_count": 131,
     "metadata": {},
     "output_type": "execute_result"
    }
   ],
   "source": [
    "p_hps = zip(list(pokemon[\"name\"]), list(pokemon[\"hp\"]))\n",
    "p_hps"
   ]
  },
  {
   "cell_type": "code",
   "execution_count": 133,
   "id": "071cacb9",
   "metadata": {},
   "outputs": [
    {
     "name": "stdout",
     "output_type": "stream",
     "text": [
      "[('Abomasnow', 90), ('Abra', 25), ('Absol', 65), ('Accelgor', 80), ('Aegislash', 60), ('Aerodactyl', 80), ('Aggron', 70), ('Aipom', 55), ('Alakazam', 55), ('Alomomola', 165), ('Altaria', 75), ('Amaura', 77), ('Ambipom', 75), ('Amoonguss', 114), ('Ampharos', 90), ('Anorith', 45), ('Araquanid', 68), ('Arbok', 60), ('Arcanine', 90), ('Arceus', 120), ('Archen', 55), ('Archeops', 75), ('Ariados', 70), ('Armaldo', 75), ('Aromatisse', 101), ('Aron', 50), ('Articuno', 90), ('Audino', 103), ('Aurorus', 123), ('Avalugg', 95), ('Axew', 46), ('Azelf', 75), ('Azumarill', 100), ('Azurill', 50), ('Bagon', 45), ('Baltoy', 40), ('Banette', 64), ('Barbaracle', 72), ('Barboach', 50), ('Basculin', 70), ('Bastiodon', 60), ('Bayleef', 60), ('Beartic', 95), ('Beautifly', 60), ('Beedrill', 65), ('Beheeyem', 75), ('Beldum', 40), ('Bellossom', 75), ('Bellsprout', 50), ('Bergmite', 55), ('Bewear', 120), ('Bibarel', 79), ('Bidoof', 59), ('Binacle', 42), ('Bisharp', 65), ('Blastoise', 79), ('Blaziken', 80), ('Blissey', 255), ('Blitzle', 45), ('Boldore', 70), ('Bonsly', 50), ('Bouffalant', 95), ('Bounsweet', 42), ('Braixen', 59), ('Braviary', 100), ('Breloom', 60), ('Brionne', 60), ('Bronzong', 67), ('Bronzor', 57), ('Bruxish', 68), ('Budew', 40), ('Buizel', 55), ('Bulbasaur', 45), ('Buneary', 55), ('Bunnelby', 38), ('Burmy', 40), ('Butterfree', 60), ('Buzzwole', 107), ('Cacnea', 50), ('Cacturne', 70), ('Camerupt', 70), ('Carbink', 50), ('Carnivine', 74), ('Carracosta', 74), ('Carvanha', 45), ('Cascoon', 50), ('Castform', 70), ('Caterpie', 45), ('Celebi', 100), ('Celesteela', 97), ('Chandelure', 60), ('Chansey', 250), ('Charizard', 78), ('Charjabug', 57), ('Charmander', 39), ('Charmeleon', 58), ('Chatot', 76), ('Cherrim', 70), ('Cherubi', 45), ('Chesnaught', 88), ('Chespin', 56), ('Chikorita', 45), ('Chimchar', 44), ('Chimecho', 75), ('Chinchou', 75), ('Chingling', 45), ('Cinccino', 75), ('Clamperl', 35), ('Clauncher', 50), ('Clawitzer', 71), ('Claydol', 60), ('Clefable', 95), ('Clefairy', 70), ('Cleffa', 50), ('Cloyster', 50), ('Cobalion', 91), ('Cofagrigus', 58), ('Combee', 30), ('Combusken', 60), ('Comfey', 51), ('Conkeldurr', 105), ('Corphish', 43), ('Corsola', 65), ('Cosmoem', 43), ('Cosmog', 43), ('Cottonee', 40), ('Crabominable', 97), ('Crabrawler', 47), ('Cradily', 86), ('Cranidos', 67), ('Crawdaunt', 63), ('Cresselia', 120), ('Croagunk', 48), ('Crobat', 85), ('Croconaw', 65), ('Crustle', 70), ('Cryogonal', 80), ('Cubchoo', 55), ('Cubone', 50), ('Cutiefly', 40), ('Cyndaquil', 39), ('Darkrai', 70), ('Darmanitan', 105), ('Dartrix', 78), ('Darumaka', 70), ('Decidueye', 78), ('Dedenne', 67), ('Deerling', 60), ('Deino', 52), ('Delcatty', 70), ('Delibird', 45), ('Delphox', 75), ('Deoxys', 50), ('Dewgong', 90), ('Dewott', 75), ('Dewpider', 38), ('Dhelmise', 70), ('Dialga', 100), ('Diancie', 50), ('Diggersby', 85), ('Diglett', 10), ('Ditto', 48), ('Dodrio', 60), ('Doduo', 35), ('Donphan', 90), ('Doublade', 59), ('Dragalge', 65), ('Dragonair', 61), ('Dragonite', 91), ('Drampa', 78), ('Drapion', 70), ('Dratini', 41), ('Drifblim', 150), ('Drifloon', 90), ('Drilbur', 60), ('Drowzee', 60), ('Druddigon', 77), ('Ducklett', 62), ('Dugtrio', 35), ('Dunsparce', 100), ('Duosion', 65), ('Durant', 58), ('Dusclops', 40), ('Dusknoir', 45), ('Duskull', 20), ('Dustox', 60), ('Dwebble', 50), ('Eelektrik', 65), ('Eelektross', 85), ('Eevee', 55), ('Ekans', 35), ('Electabuzz', 65), ('Electivire', 75), ('Electrike', 40), ('Electrode', 60), ('Elekid', 45), ('Elgyem', 55), ('Emboar', 110), ('Emolga', 55), ('Empoleon', 84), ('Entei', 115), ('Escavalier', 70), ('Espeon', 65), ('Espurr', 62), ('Excadrill', 110), ('Exeggcute', 60), ('Exeggutor', 95), ('Exploud', 104), (\"Farfetch'd\", 52), ('Fearow', 65), ('Feebas', 20), ('Fennekin', 40), ('Feraligatr', 85), ('Ferroseed', 44), ('Ferrothorn', 74), ('Finneon', 49), ('Flaaffy', 70), ('Flabébé', 44), ('Flareon', 65), ('Fletchinder', 62), ('Fletchling', 45), ('Floatzel', 85), ('Floette', 74), ('Florges', 78), ('Flygon', 80), ('Fomantis', 40), ('Foongus', 69), ('Forretress', 75), ('Fraxure', 66), ('Frillish', 55), ('Froakie', 41), ('Frogadier', 54), ('Froslass', 70), ('Furfrou', 75), ('Furret', 85), ('Gabite', 68), ('Gallade', 68), ('Galvantula', 70), ('Garbodor', 80), ('Garchomp', 108), ('Gardevoir', 68), ('Gastly', 30), ('Gastrodon', 111), ('Genesect', 71), ('Gengar', 60), ('Geodude', 40), ('Gible', 58), ('Gigalith', 85), ('Girafarig', 70), ('Giratina', 150), ('Glaceon', 65), ('Glalie', 80), ('Glameow', 49), ('Gligar', 65), ('Gliscor', 75), ('Gloom', 60), ('Gogoat', 123), ('Golbat', 75), ('Goldeen', 45), ('Golduck', 80), ('Golem', 80), ('Golett', 59), ('Golisopod', 75), ('Golurk', 89), ('Goodra', 90), ('Goomy', 45), ('Gorebyss', 55), ('Gothita', 45), ('Gothitelle', 70), ('Gothorita', 60), ('Gourgeist', 85), ('Granbull', 90), ('Graveler', 55), ('Greninja', 72), ('Grimer', 80), ('Grotle', 75), ('Groudon', 100), ('Grovyle', 50), ('Growlithe', 55), ('Grubbin', 47), ('Grumpig', 80), ('Gulpin', 70), ('Gumshoos', 88), ('Gurdurr', 85), ('Guzzlord', 223), ('Gyarados', 95), ('Hakamo-o', 55), ('Happiny', 100), ('Hariyama', 144), ('Haunter', 45), ('Hawlucha', 78), ('Haxorus', 76), ('Heatmor', 85), ('Heatran', 91), ('Heliolisk', 62), ('Helioptile', 44), ('Heracross', 80), ('Herdier', 65), ('Hippopotas', 68), ('Hippowdon', 108), ('Hitmonchan', 50), ('Hitmonlee', 50), ('Hitmontop', 50), ('Ho-Oh', 106), ('Honchkrow', 100), ('Honedge', 45), ('Hoopa', 80), ('Hoothoot', 60), ('Hoppip', 35), ('Horsea', 30), ('Houndoom', 75), ('Houndour', 45), ('Huntail', 55), ('Hydreigon', 92), ('Hypno', 85), ('Igglybuff', 90), ('Illumise', 65), ('Incineroar', 95), ('Infernape', 76), ('Inkay', 53), ('Ivysaur', 60), ('Jangmo-o', 45), ('Jellicent', 100), ('Jigglypuff', 115), ('Jirachi', 100), ('Jolteon', 65), ('Joltik', 50), ('Jumpluff', 75), ('Jynx', 65), ('Kabuto', 30), ('Kabutops', 60), ('Kadabra', 40), ('Kakuna', 45), ('Kangaskhan', 105), ('Karrablast', 50), ('Kartana', 59), ('Kecleon', 60), ('Keldeo', 91), ('Kingdra', 75), ('Kingler', 55), ('Kirlia', 38), ('Klang', 60), ('Klefki', 57), ('Klink', 40), ('Klinklang', 60), ('Koffing', 40), ('Komala', 65), ('Kommo-o', 75), ('Krabby', 30), ('Kricketot', 37), ('Kricketune', 77), ('Krokorok', 60), ('Krookodile', 95), ('Kyogre', 100), ('Kyurem', 125), ('Lairon', 60), ('Lampent', 60), ('Landorus', 89), ('Lanturn', 125), ('Lapras', 130), ('Larvesta', 55), ('Larvitar', 50), ('Latias', 80), ('Latios', 80), ('Leafeon', 65), ('Leavanny', 75), ('Ledian', 55), ('Ledyba', 40), ('Lickilicky', 110), ('Lickitung', 90), ('Liepard', 64), ('Lileep', 66), ('Lilligant', 70), ('Lillipup', 45), ('Linoone', 78), ('Litleo', 62), ('Litten', 45), ('Litwick', 50), ('Lombre', 60), ('Lopunny', 65), ('Lotad', 40), ('Loudred', 84), ('Lucario', 70), ('Ludicolo', 80), ('Lugia', 106), ('Lumineon', 69), ('Lunala', 137), ('Lunatone', 90), ('Lurantis', 70), ('Luvdisc', 43), ('Luxio', 60), ('Luxray', 80), ('Lycanroc', 85), ('Machamp', 90), ('Machoke', 80), ('Machop', 70), ('Magby', 45), ('Magcargo', 60), ('Magearna', 80), ('Magikarp', 20), ('Magmar', 65), ('Magmortar', 75), ('Magnemite', 25), ('Magneton', 50), ('Magnezone', 70), ('Makuhita', 72), ('Malamar', 86), ('Mamoswine', 110), ('Manaphy', 100), ('Mandibuzz', 110), ('Manectric', 70), ('Mankey', 40), ('Mantine', 85), ('Mantyke', 45), ('Maractus', 75), ('Mareanie', 50), ('Mareep', 55), ('Marill', 70), ('Marowak', 60), ('Marshtomp', 70), ('Masquerain', 70), ('Mawile', 50), ('Medicham', 60), ('Meditite', 30), ('Meganium', 80), ('Meloetta', 100), ('Meowstic', 74), ('Meowth', 40), ('Mesprit', 80), ('Metagross', 80), ('Metang', 60), ('Metapod', 50), ('Mew', 100), ('Mewtwo', 106), ('Mienfoo', 45), ('Mienshao', 65), ('Mightyena', 70), ('Milotic', 95), ('Miltank', 95), ('Mime Jr.', 20), ('Mimikyu', 55), ('Minccino', 55), ('Minior', 60), ('Minun', 60), ('Misdreavus', 60), ('Mismagius', 60), ('Moltres', 90), ('Monferno', 64), ('Morelull', 40), ('Mothim', 70), ('Mr. Mime', 40), ('Mudbray', 70), ('Mudkip', 50), ('Mudsdale', 100), ('Muk', 105), ('Munchlax', 135), ('Munna', 76), ('Murkrow', 60), ('Musharna', 116), ('Natu', 40), ('Necrozma', 97), ('Nidoking', 81), ('Nidoqueen', 90), ('Nidoran♀', 55), ('Nidoran♂', 46), ('Nidorina', 70), ('Nidorino', 61), ('Nihilego', 109), ('Nincada', 31), ('Ninetales', 73), ('Ninjask', 61), ('Noctowl', 100), ('Noibat', 40), ('Noivern', 85), ('Nosepass', 30), ('Numel', 60), ('Nuzleaf', 70), ('Octillery', 75), ('Oddish', 45), ('Omanyte', 35), ('Omastar', 70), ('Onix', 35), ('Oranguru', 90), ('Oricorio', 75), ('Oshawott', 55), ('Pachirisu', 60), ('Palkia', 90), ('Palossand', 85), ('Palpitoad', 75), ('Pancham', 67), ('Pangoro', 95), ('Panpour', 50), ('Pansage', 50), ('Pansear', 50), ('Paras', 35), ('Parasect', 60), ('Passimian', 100), ('Patrat', 45), ('Pawniard', 45), ('Pelipper', 60), ('Persian', 65), ('Petilil', 45), ('Phanpy', 90), ('Phantump', 43), ('Pheromosa', 71), ('Phione', 80), ('Pichu', 20), ('Pidgeot', 83), ('Pidgeotto', 63), ('Pidgey', 40), ('Pidove', 50), ('Pignite', 90), ('Pikachu', 35), ('Pikipek', 35), ('Piloswine', 100), ('Pineco', 50), ('Pinsir', 65), ('Piplup', 53), ('Plusle', 60), ('Politoed', 90), ('Poliwag', 40), ('Poliwhirl', 65), ('Poliwrath', 90), ('Ponyta', 50), ('Poochyena', 35), ('Popplio', 50), ('Porygon', 65), ('Porygon-Z', 85), ('Porygon2', 85), ('Primarina', 80), ('Primeape', 65), ('Prinplup', 64), ('Probopass', 60), ('Psyduck', 50), ('Pumpkaboo', 59), ('Pupitar', 70), ('Purrloin', 41), ('Purugly', 71), ('Pyroar', 86), ('Pyukumuku', 55), ('Quagsire', 95), ('Quilava', 58), ('Quilladin', 61), ('Qwilfish', 65), ('Raichu', 60), ('Raikou', 90), ('Ralts', 28), ('Rampardos', 97), ('Rapidash', 65), ('Raticate', 75), ('Rattata', 30), ('Rayquaza', 105), ('Regice', 80), ('Regigigas', 110), ('Regirock', 80), ('Registeel', 80), ('Relicanth', 100), ('Remoraid', 35), ('Reshiram', 100), ('Reuniclus', 110), ('Rhydon', 105), ('Rhyhorn', 80), ('Rhyperior', 115), ('Ribombee', 60), ('Riolu', 40), ('Rockruff', 45), ('Roggenrola', 55), ('Roselia', 50), ('Roserade', 60), ('Rotom', 50), ('Rowlet', 68), ('Rufflet', 70), ('Sableye', 50), ('Salamence', 95), ('Salandit', 48), ('Salazzle', 68), ('Samurott', 95), ('Sandile', 50), ('Sandshrew', 50), ('Sandslash', 75), ('Sandygast', 55), ('Sawk', 75), ('Sawsbuck', 80), ('Scatterbug', 38), ('Sceptile', 70), ('Scizor', 70), ('Scolipede', 60), ('Scrafty', 65), ('Scraggy', 50), ('Scyther', 70), ('Seadra', 55), ('Seaking', 80), ('Sealeo', 90), ('Seedot', 40), ('Seel', 65), ('Seismitoad', 105), ('Sentret', 35), ('Serperior', 75), ('Servine', 60), ('Seviper', 73), ('Sewaddle', 45), ('Sharpedo', 70), ('Shaymin', 100), ('Shedinja', 1), ('Shelgon', 65), ('Shellder', 30), ('Shellos', 76), ('Shelmet', 50), ('Shieldon', 30), ('Shiftry', 90), ('Shiinotic', 60), ('Shinx', 45), ('Shroomish', 60), ('Shuckle', 20), ('Shuppet', 44), ('Sigilyph', 72), ('Silcoon', 50), ('Silvally', 95), ('Simipour', 75), ('Simisage', 75), ('Simisear', 75), ('Skarmory', 65), ('Skiddo', 66), ('Skiploom', 55), ('Skitty', 50), ('Skorupi', 40), ('Skrelp', 50), ('Skuntank', 103), ('Slaking', 150), ('Slakoth', 60), ('Sliggoo', 68), ('Slowbro', 95), ('Slowking', 95), ('Slowpoke', 90), ('Slugma', 40), ('Slurpuff', 82), ('Smeargle', 55), ('Smoochum', 45), ('Sneasel', 55), ('Snivy', 45), ('Snorlax', 160), ('Snorunt', 50), ('Snover', 60), ('Snubbull', 60), ('Solgaleo', 137), ('Solosis', 45), ('Solrock', 90), ('Spearow', 40), ('Spewpa', 45), ('Spheal', 70), ('Spinarak', 40), ('Spinda', 60), ('Spiritomb', 50), ('Spoink', 60), ('Spritzee', 78), ('Squirtle', 44), ('Stantler', 73), ('Staraptor', 85), ('Staravia', 55), ('Starly', 40), ('Starmie', 60), ('Staryu', 30), ('Steelix', 75), ('Steenee', 52), ('Stoutland', 85), ('Stufful', 70), ('Stunfisk', 109), ('Stunky', 63), ('Sudowoodo', 70), ('Suicune', 100), ('Sunflora', 75), ('Sunkern', 30), ('Surskit', 40), ('Swablu', 45), ('Swadloon', 55), ('Swalot', 100), ('Swampert', 100), ('Swanna', 75), ('Swellow', 60), ('Swinub', 50), ('Swirlix', 62), ('Swoobat', 67), ('Sylveon', 95), ('Taillow', 40), ('Talonflame', 78), ('Tangela', 65), ('Tangrowth', 100), ('Tapu Bulu', 70), ('Tapu Fini', 70), ('Tapu Koko', 70), ('Tapu Lele', 70), ('Tauros', 75), ('Teddiursa', 60), ('Tentacool', 40), ('Tentacruel', 80), ('Tepig', 65), ('Terrakion', 91), ('Throh', 120), ('Thundurus', 79), ('Timburr', 75), ('Tirtouga', 54), ('Togedemaru', 65), ('Togekiss', 85), ('Togepi', 35), ('Togetic', 55), ('Torchic', 45), ('Torkoal', 70), ('Tornadus', 79), ('Torracat', 65), ('Torterra', 95), ('Totodile', 50), ('Toucannon', 80), ('Toxapex', 50), ('Toxicroak', 83), ('Tranquill', 62), ('Trapinch', 45), ('Treecko', 40), ('Trevenant', 85), ('Tropius', 99), ('Trubbish', 50), ('Trumbeak', 55), ('Tsareena', 72), ('Turtonator', 60), ('Turtwig', 55), ('Tympole', 50), ('Tynamo', 35), ('Type: Null', 95), ('Typhlosion', 78), ('Tyranitar', 100), ('Tyrantrum', 82), ('Tyrogue', 35), ('Tyrunt', 58), ('Umbreon', 95), ('Unfezant', 80), ('Unown', 48), ('Ursaring', 90), ('Uxie', 75), ('Vanillish', 51), ('Vanillite', 36), ('Vanilluxe', 71), ('Vaporeon', 130), ('Venipede', 30), ('Venomoth', 70), ('Venonat', 60), ('Venusaur', 80), ('Vespiquen', 70), ('Vibrava', 50), ('Victini', 100), ('Victreebel', 80), ('Vigoroth', 80), ('Vikavolt', 77), ('Vileplume', 75), ('Virizion', 91), ('Vivillon', 80), ('Volbeat', 65), ('Volcanion', 80), ('Volcarona', 85), ('Voltorb', 40), ('Vullaby', 70), ('Vulpix', 38), ('Wailmer', 130), ('Wailord', 170), ('Walrein', 110), ('Wartortle', 59), ('Watchog', 60), ('Weavile', 70), ('Weedle', 40), ('Weepinbell', 65), ('Weezing', 65), ('Whimsicott', 60), ('Whirlipede', 40), ('Whiscash', 110), ('Whismur', 64), ('Wigglytuff', 140), ('Wimpod', 25), ('Wingull', 40), ('Wishiwashi', 45), ('Wobbuffet', 190), ('Woobat', 65), ('Wooper', 55), ('Wormadam', 60), ('Wurmple', 45), ('Wynaut', 95), ('Xatu', 65), ('Xerneas', 126), ('Xurkitree', 83), ('Yamask', 38), ('Yanma', 65), ('Yanmega', 86), ('Yungoos', 48), ('Yveltal', 126), ('Zangoose', 73), ('Zapdos', 90), ('Zebstrika', 75), ('Zekrom', 100), ('Zigzagoon', 38), ('Zoroark', 60), ('Zorua', 40), ('Zubat', 40), ('Zweilous', 72), ('Zygarde', 216)]\n"
     ]
    }
   ],
   "source": [
    "unpacked_phps = [*p_hps]\n",
    "print(unpacked_phps)"
   ]
  },
  {
   "cell_type": "code",
   "execution_count": 134,
   "id": "da29e78b",
   "metadata": {},
   "outputs": [
    {
     "data": {
      "text/plain": [
       "255"
      ]
     },
     "execution_count": 134,
     "metadata": {},
     "output_type": "execute_result"
    }
   ],
   "source": [
    "max(list(pokemon[\"hp\"]))"
   ]
  },
  {
   "cell_type": "code",
   "execution_count": 135,
   "id": "c3a49737",
   "metadata": {},
   "outputs": [
    {
     "data": {
      "text/plain": [
       "57    Blissey\n",
       "Name: name, dtype: object"
      ]
     },
     "execution_count": 135,
     "metadata": {},
     "output_type": "execute_result"
    }
   ],
   "source": [
    "pokemon[pokemon[\"hp\"]==255][\"name\"]"
   ]
  },
  {
   "cell_type": "code",
   "execution_count": 137,
   "id": "4d7c2ca8",
   "metadata": {},
   "outputs": [],
   "source": [
    "poke_types = list(pokemon[\"type1\"])\n"
   ]
  },
  {
   "cell_type": "code",
   "execution_count": 138,
   "id": "43e5ca08",
   "metadata": {},
   "outputs": [
    {
     "name": "stdout",
     "output_type": "stream",
     "text": [
      "Counter({'water': 114, 'normal': 105, 'grass': 78, 'bug': 72, 'psychic': 53, 'fire': 52, 'rock': 45, 'electric': 39, 'poison': 32, 'ground': 32, 'dark': 29, 'fighting': 28, 'dragon': 27, 'ghost': 27, 'steel': 24, 'ice': 23, 'fairy': 18, 'flying': 3})\n"
     ]
    }
   ],
   "source": [
    "from collections import Counter\n",
    "\n",
    "type_counts = Counter(poke_types)\n",
    "\n",
    "print(type_counts)"
   ]
  },
  {
   "cell_type": "markdown",
   "id": "7335b816",
   "metadata": {},
   "source": [
    "### Combinatoric Generators"
   ]
  },
  {
   "cell_type": "code",
   "execution_count": 141,
   "id": "e3e07590",
   "metadata": {},
   "outputs": [],
   "source": [
    "# Take the top 5 types\n",
    "poke_sm = list(type_counts.keys())[0:5]"
   ]
  },
  {
   "cell_type": "code",
   "execution_count": 142,
   "id": "a0e80d0e",
   "metadata": {},
   "outputs": [
    {
     "name": "stdout",
     "output_type": "stream",
     "text": [
      "[('grass', 'psychic'), ('grass', 'dark'), ('grass', 'bug'), ('grass', 'steel'), ('psychic', 'dark'), ('psychic', 'bug'), ('psychic', 'steel'), ('dark', 'bug'), ('dark', 'steel'), ('bug', 'steel')]\n"
     ]
    }
   ],
   "source": [
    "from itertools import combinations\n",
    "\n",
    "combos_obj = combinations(poke_sm, 2)\n",
    "\n",
    "combos = [*combos_obj]\n",
    "\n",
    "print(combos)"
   ]
  },
  {
   "cell_type": "code",
   "execution_count": 143,
   "id": "a5f08436",
   "metadata": {},
   "outputs": [
    {
     "name": "stdout",
     "output_type": "stream",
     "text": [
      "('Abomasnow', 'grass')\n",
      "('Abra', 'psychic')\n",
      "('Absol', 'dark')\n",
      "('Accelgor', 'bug')\n",
      "('Aegislash', 'steel')\n",
      "('Aerodactyl', 'rock')\n",
      "('Aggron', 'steel')\n",
      "('Aipom', 'normal')\n",
      "('Alakazam', 'psychic')\n",
      "('Alomomola', 'water')\n",
      "('Altaria', 'dragon')\n",
      "('Amaura', 'rock')\n",
      "('Ambipom', 'normal')\n",
      "('Amoonguss', 'grass')\n",
      "('Ampharos', 'electric')\n"
     ]
    }
   ],
   "source": [
    "# zip names and types\n",
    "names = list(pokemon[\"name\"])\n",
    "names_types = [*zip(names, poke_types)]\n",
    "\n",
    "print(*names_types[:15], sep='\\n')"
   ]
  },
  {
   "cell_type": "code",
   "execution_count": 144,
   "id": "3d55d3c8",
   "metadata": {},
   "outputs": [
    {
     "name": "stdout",
     "output_type": "stream",
     "text": [
      "('Abomasnow', 'grass', 'ice')\n",
      "('Abra', 'psychic', nan)\n",
      "('Absol', 'dark', nan)\n",
      "('Accelgor', 'bug', nan)\n",
      "('Aegislash', 'steel', 'ghost')\n",
      "('Aerodactyl', 'rock', 'flying')\n",
      "('Aggron', 'steel', 'rock')\n",
      "('Aipom', 'normal', nan)\n",
      "('Alakazam', 'psychic', nan)\n",
      "('Alomomola', 'water', nan)\n",
      "('Altaria', 'dragon', 'flying')\n",
      "('Amaura', 'rock', 'ice')\n",
      "('Ambipom', 'normal', nan)\n",
      "('Amoonguss', 'grass', 'poison')\n",
      "('Ampharos', 'electric', nan)\n"
     ]
    }
   ],
   "source": [
    "poke_types2 = list(pokemon[\"type2\"])\n",
    "\n",
    "# Combine all three lists together\n",
    "names_types2 = [*zip(names, poke_types, poke_types2)]\n",
    "\n",
    "print(*names_types2[:15], sep='\\n')"
   ]
  },
  {
   "cell_type": "markdown",
   "id": "0fab6bcc",
   "metadata": {},
   "source": [
    "### Set Theory"
   ]
  },
  {
   "cell_type": "code",
   "execution_count": 150,
   "id": "b8a83d24",
   "metadata": {},
   "outputs": [
    {
     "name": "stdout",
     "output_type": "stream",
     "text": [
      "These Pokemon exist in BOTH pokedex:\n",
      "{'Altaria', 'Totodile'}\n",
      "\n",
      "\n",
      "\n",
      "Pokemon Ash has that Misty DOES NOT have:\n",
      "{'Smeargle', 'Shellos', 'Buneary', 'Minccino', 'Wormadam', 'Poliwhirl', 'Basculin', 'Zigzagoon', 'Electrode', 'Raticate', 'Flygon', 'Scizor', 'Dragalge', 'Kricketune', 'Heatran', 'Tentacruel', 'Scolipede', 'Raichu', 'Cloyster', 'Zapdos', 'Grubbin', 'Azumarill', 'Forretress', 'Axew', 'Pumpkaboo', 'Geodude', 'Victreebel', 'Charmander', 'Vulpix', 'Honedge', 'Mamoswine', 'Ponyta', 'Chimecho', 'Probopass', 'Litwick', 'Espeon', 'Alomomola', 'Bergmite', 'Samurott', 'Pidove', 'Necrozma', 'Solrock', 'Linoone', 'Gliscor', 'Hydreigon', 'Tyrantrum', 'Misdreavus'}\n",
      "\n",
      "\n",
      "\n",
      "Pokemon that either Ash or Misty have, but not both:\n",
      "{'Cofagrigus', 'Basculin', 'Rowlet', 'Regigigas', 'Weavile', 'Raticate', 'Electrode', 'Scizor', 'Panpour', 'Larvitar', 'Cloyster', 'Azumarill', 'Axew', 'Mamoswine', 'Venipede', 'Miltank', 'Bergmite', 'Vibrava', 'Samurott', 'Hydreigon', 'Wormadam', 'Gyarados', 'Smeargle', 'Xurkitree', 'Buneary', 'Pidgeot', 'Poliwhirl', 'Zigzagoon', 'Flygon', 'Kricketune', 'Hippowdon', 'Stunky', 'Shieldon', 'Scolipede', 'Armaldo', 'Raichu', 'Diggersby', 'Cresselia', 'Kabutops', 'Gallade', 'Ponyta', 'Chimecho', 'Beartic', 'Snorlax', 'Solrock', 'Gliscor', 'Misdreavus', 'Passimian', 'Stantler', 'Ribombee', 'Minccino', 'Squirtle', 'Duskull', 'Drampa', 'Dragalge', 'Heatran', 'Cranidos', 'Zapdos', 'Grubbin', 'Huntail', 'Forretress', 'Pumpkaboo', 'Geodude', 'Charmander', 'Vulpix', 'Corphish', 'Honedge', 'Litwick', 'Espeon', 'Reshiram', 'Liepard', 'Trumbeak', 'Pidove', 'Linoone', 'Timburr', 'Shellos', 'Girafarig', 'Growlithe', 'Swinub', 'Shiinotic', 'Tyrogue', 'Trubbish', 'Mothim', 'Tentacruel', 'Cinccino', 'Nidoqueen', 'Victreebel', 'Throh', 'Probopass', 'Golduck', 'Alomomola', 'Dugtrio', 'Mime Jr.', 'Necrozma', 'Tyrantrum'}\n",
      "\n",
      "\n",
      "\n"
     ]
    }
   ],
   "source": [
    "# draw 50 pokemon for each pokedex\n",
    "p_indexes = list(pokemon.index)\n",
    "ash_pokes = random.choices(p_indexes, k=50)\n",
    "misty_pokes = random.choices(p_indexes, k=50)\n",
    "\n",
    "ash_pokedex = [pokemon.at[i, \"name\"] for i in ash_pokes]\n",
    "misty_pokedex = [pokemon.at[i, \"name\"] for i in misty_pokes]\n",
    "\n",
    "# Convert both lists to sets\n",
    "ash_set = set(ash_pokedex)\n",
    "misty_set = set(misty_pokedex)\n",
    "\n",
    "# Find the Pokémon that exist in both sets\n",
    "print(\"These Pokemon exist in BOTH pokedex:\")\n",
    "both = ash_set.intersection(misty_set)\n",
    "print(both)\n",
    "print(\"\\n\\n\")\n",
    "\n",
    "# Find the Pokémon that Ash has and Misty does not have\n",
    "print(\"Pokemon Ash has that Misty DOES NOT have:\")\n",
    "ash_only = ash_set.difference(misty_set)\n",
    "print(ash_only)\n",
    "print(\"\\n\\n\")\n",
    "\n",
    "# Find the Pokémon that are in only one set (not both)\n",
    "print(\"Pokemon that either Ash or Misty have, but not both:\")\n",
    "unique_to_set = ash_set.symmetric_difference(misty_set)\n",
    "print(unique_to_set)\n",
    "print(\"\\n\\n\")\n"
   ]
  },
  {
   "cell_type": "code",
   "execution_count": 151,
   "id": "3e3e61da",
   "metadata": {},
   "outputs": [
    {
     "name": "stdout",
     "output_type": "stream",
     "text": [
      "False\n",
      "False\n"
     ]
    }
   ],
   "source": [
    "# Check if Psyduck is in either pokedex\n",
    "\n",
    "print('Psyduck' in ash_set)\n",
    "print('Psyduck' in misty_set)"
   ]
  },
  {
   "cell_type": "code",
   "execution_count": 153,
   "id": "33da6f7b",
   "metadata": {},
   "outputs": [
    {
     "name": "stdout",
     "output_type": "stream",
     "text": [
      "True\n",
      "False\n"
     ]
    }
   ],
   "source": [
    "# Check if Zigzagoon is in either pokedex\n",
    "\n",
    "print('Zigzagoon' in ash_set)\n",
    "print('Zigzagoon' in misty_set)"
   ]
  },
  {
   "cell_type": "markdown",
   "id": "630ee438",
   "metadata": {},
   "source": [
    "### Eliminating Loops\n",
    "\n",
    "\"Flat is better than nested.\""
   ]
  },
  {
   "cell_type": "code",
   "execution_count": 154,
   "id": "fc92284d",
   "metadata": {},
   "outputs": [],
   "source": [
    "# Pokemon stats: HP, attack, defense, speed\n",
    "poke_stats = [\n",
    "    list(pokemon[\"hp\"]),\n",
    "    list(pokemon[\"attack\"]),\n",
    "    list(pokemon[\"defense\"]),\n",
    "    list(pokemon[\"speed\"])\n",
    "]"
   ]
  },
  {
   "cell_type": "code",
   "execution_count": 155,
   "id": "152c1214",
   "metadata": {},
   "outputs": [
    {
     "data": {
      "text/plain": [
       "[55236, 62364, 58480, 53134]"
      ]
     },
     "execution_count": 155,
     "metadata": {},
     "output_type": "execute_result"
    }
   ],
   "source": [
    "totals_map = [*map(sum, poke_stats)]\n",
    "totals_map"
   ]
  },
  {
   "cell_type": "markdown",
   "id": "3014790f",
   "metadata": {},
   "source": [
    "NOTE: This didn't work as expected, because I really wanted row-wise sums\n",
    "\n",
    "Numpy to the rescue!"
   ]
  },
  {
   "cell_type": "code",
   "execution_count": 156,
   "id": "cf13cfd4",
   "metadata": {},
   "outputs": [],
   "source": [
    "stats_np = np.array([\n",
    "    list(pokemon[\"hp\"]),\n",
    "    list(pokemon[\"attack\"]),\n",
    "    list(pokemon[\"defense\"]),\n",
    "    list(pokemon[\"speed\"])\n",
    "])"
   ]
  },
  {
   "cell_type": "code",
   "execution_count": 161,
   "id": "269d0aa2",
   "metadata": {},
   "outputs": [
    {
     "data": {
      "text/plain": [
       "array([ 89.2,  37.5,  97.5,  83.8,  80. , 112.5, 122.5,  66.2,  80. ,\n",
       "        96.2,  93.8,  58. ,  89. ,  74.8,  83.8])"
      ]
     },
     "execution_count": 161,
     "metadata": {},
     "output_type": "execute_result"
    }
   ],
   "source": [
    "avg_poke_scores = stats_np.mean(axis=0)\n",
    "avg_poke_scores[:15]"
   ]
  },
  {
   "cell_type": "code",
   "execution_count": 162,
   "id": "4c5fe279",
   "metadata": {},
   "outputs": [
    {
     "data": {
      "text/plain": [
       "array([357, 150, 390, 335, 320, 450, 490, 265, 320, 385, 375, 232, 356,\n",
       "       299, 335])"
      ]
     },
     "execution_count": 162,
     "metadata": {},
     "output_type": "execute_result"
    }
   ],
   "source": [
    "total_poke_scores = stats_np.sum(axis=0)\n",
    "total_poke_scores[:15]"
   ]
  },
  {
   "cell_type": "code",
   "execution_count": 163,
   "id": "e1fdbe55",
   "metadata": {},
   "outputs": [
    {
     "data": {
      "text/plain": [
       "530"
      ]
     },
     "execution_count": 163,
     "metadata": {},
     "output_type": "execute_result"
    }
   ],
   "source": [
    "max(total_poke_scores)"
   ]
  },
  {
   "cell_type": "code",
   "execution_count": 164,
   "id": "4cb49fac",
   "metadata": {},
   "outputs": [
    {
     "data": {
      "text/plain": [
       "276    Groudon\n",
       "Name: name, dtype: object"
      ]
     },
     "execution_count": 164,
     "metadata": {},
     "output_type": "execute_result"
    }
   ],
   "source": [
    "pokemon[pokemon[\"hp\"]+pokemon[\"attack\"]+pokemon[\"defense\"]+pokemon[\"speed\"]==530][\"name\"]"
   ]
  },
  {
   "cell_type": "code",
   "execution_count": 165,
   "id": "b03347d8",
   "metadata": {},
   "outputs": [
    {
     "data": {
      "text/plain": [
       "[('Abra', 4),\n",
       " ('Aerodactyl', 10),\n",
       " ('Aipom', 5),\n",
       " ('Alakazam', 8),\n",
       " ('Ampharos', 8),\n",
       " ('Arbok', 5),\n",
       " ('Arcanine', 8),\n",
       " ('Ariados', 7),\n",
       " ('Articuno', 8),\n",
       " ('Azumarill', 9),\n",
       " ('Bayleef', 7),\n",
       " ('Beedrill', 8),\n",
       " ('Bellossom', 9),\n",
       " ('Bellsprout', 10),\n",
       " ('Blastoise', 9),\n",
       " ('Blissey', 7),\n",
       " ('Bulbasaur', 9),\n",
       " ('Butterfree', 10),\n",
       " ('Caterpie', 8),\n",
       " ('Celebi', 6),\n",
       " ('Chansey', 7),\n",
       " ('Charizard', 9),\n",
       " ('Charmander', 10),\n",
       " ('Charmeleon', 10),\n",
       " ('Chikorita', 9),\n",
       " ('Chinchou', 8),\n",
       " ('Clefable', 8),\n",
       " ('Clefairy', 8),\n",
       " ('Cleffa', 6),\n",
       " ('Cloyster', 8),\n",
       " ('Corsola', 7),\n",
       " ('Crobat', 6),\n",
       " ('Croconaw', 8),\n",
       " ('Cubone', 6),\n",
       " ('Cyndaquil', 9),\n",
       " ('Delibird', 8),\n",
       " ('Dewgong', 7),\n",
       " ('Diglett', 7),\n",
       " ('Ditto', 5),\n",
       " ('Dodrio', 6),\n",
       " ('Doduo', 5),\n",
       " ('Donphan', 7),\n",
       " ('Dragonair', 9),\n",
       " ('Dragonite', 9),\n",
       " ('Dratini', 7),\n",
       " ('Drowzee', 7),\n",
       " ('Dugtrio', 7),\n",
       " ('Dunsparce', 9),\n",
       " ('Eevee', 5),\n",
       " ('Ekans', 5),\n",
       " ('Electabuzz', 10),\n",
       " ('Electrode', 9),\n",
       " ('Elekid', 6),\n",
       " ('Entei', 5),\n",
       " ('Espeon', 6),\n",
       " ('Exeggcute', 9),\n",
       " ('Exeggutor', 9),\n",
       " (\"Farfetch'd\", 10),\n",
       " ('Fearow', 6),\n",
       " ('Feraligatr', 10),\n",
       " ('Flaaffy', 7),\n",
       " ('Flareon', 7),\n",
       " ('Forretress', 10),\n",
       " ('Furret', 6),\n",
       " ('Gastly', 6),\n",
       " ('Gengar', 6),\n",
       " ('Geodude', 7),\n",
       " ('Girafarig', 9),\n",
       " ('Gligar', 6),\n",
       " ('Gloom', 5),\n",
       " ('Golbat', 6),\n",
       " ('Goldeen', 7),\n",
       " ('Golduck', 7),\n",
       " ('Golem', 5),\n",
       " ('Granbull', 8),\n",
       " ('Graveler', 8),\n",
       " ('Grimer', 6),\n",
       " ('Growlithe', 9),\n",
       " ('Gyarados', 8),\n",
       " ('Haunter', 7),\n",
       " ('Heracross', 9),\n",
       " ('Hitmonchan', 10),\n",
       " ('Hitmonlee', 9),\n",
       " ('Hitmontop', 9),\n",
       " ('Ho-Oh', 5),\n",
       " ('Hoothoot', 8),\n",
       " ('Hoppip', 6),\n",
       " ('Horsea', 6),\n",
       " ('Houndoom', 8),\n",
       " ('Houndour', 8),\n",
       " ('Hypno', 5),\n",
       " ('Igglybuff', 9),\n",
       " ('Ivysaur', 7),\n",
       " ('Jigglypuff', 10),\n",
       " ('Jolteon', 7),\n",
       " ('Jumpluff', 8),\n",
       " ('Jynx', 4),\n",
       " ('Kabuto', 6),\n",
       " ('Kabutops', 8),\n",
       " ('Kadabra', 7),\n",
       " ('Kakuna', 6),\n",
       " ('Kangaskhan', 10),\n",
       " ('Kingdra', 7),\n",
       " ('Kingler', 7),\n",
       " ('Koffing', 7),\n",
       " ('Krabby', 6),\n",
       " ('Lanturn', 7),\n",
       " ('Lapras', 6),\n",
       " ('Larvitar', 8),\n",
       " ('Ledian', 6),\n",
       " ('Ledyba', 6),\n",
       " ('Lickitung', 9),\n",
       " ('Lugia', 5),\n",
       " ('Machamp', 7),\n",
       " ('Machoke', 7),\n",
       " ('Machop', 6),\n",
       " ('Magby', 5),\n",
       " ('Magcargo', 8),\n",
       " ('Magikarp', 8),\n",
       " ('Magmar', 6),\n",
       " ('Magnemite', 9),\n",
       " ('Magneton', 8),\n",
       " ('Mankey', 6),\n",
       " ('Mantine', 7),\n",
       " ('Mareep', 6),\n",
       " ('Marill', 6),\n",
       " ('Marowak', 7),\n",
       " ('Meganium', 8),\n",
       " ('Meowth', 6),\n",
       " ('Metapod', 7),\n",
       " ('Mew', 3),\n",
       " ('Mewtwo', 6),\n",
       " ('Miltank', 7),\n",
       " ('Misdreavus', 10),\n",
       " ('Moltres', 7),\n",
       " ('Mr. Mime', 8),\n",
       " ('Muk', 3),\n",
       " ('Murkrow', 7),\n",
       " ('Natu', 4),\n",
       " ('Nidoking', 8),\n",
       " ('Nidoqueen', 9),\n",
       " ('Nidoran♀', 8),\n",
       " ('Nidoran♂', 8),\n",
       " ('Nidorina', 8),\n",
       " ('Nidorino', 8),\n",
       " ('Ninetales', 9),\n",
       " ('Noctowl', 7),\n",
       " ('Octillery', 9),\n",
       " ('Oddish', 6),\n",
       " ('Omanyte', 7),\n",
       " ('Omastar', 7),\n",
       " ('Onix', 4),\n",
       " ('Paras', 5),\n",
       " ('Parasect', 8),\n",
       " ('Persian', 7),\n",
       " ('Phanpy', 6),\n",
       " ('Pichu', 5),\n",
       " ('Pidgeot', 7),\n",
       " ('Pidgeotto', 9),\n",
       " ('Pidgey', 6),\n",
       " ('Pikachu', 7),\n",
       " ('Piloswine', 9),\n",
       " ('Pineco', 6),\n",
       " ('Pinsir', 6),\n",
       " ('Politoed', 8),\n",
       " ('Poliwag', 7),\n",
       " ('Poliwhirl', 9),\n",
       " ('Poliwrath', 9),\n",
       " ('Ponyta', 6),\n",
       " ('Porygon', 7),\n",
       " ('Porygon2', 8),\n",
       " ('Primeape', 8),\n",
       " ('Psyduck', 7),\n",
       " ('Pupitar', 7),\n",
       " ('Quagsire', 8),\n",
       " ('Quilava', 7),\n",
       " ('Qwilfish', 8),\n",
       " ('Raichu', 6),\n",
       " ('Raikou', 6),\n",
       " ('Rapidash', 8),\n",
       " ('Raticate', 8),\n",
       " ('Rattata', 7),\n",
       " ('Remoraid', 8),\n",
       " ('Rhydon', 6),\n",
       " ('Rhyhorn', 7),\n",
       " ('Sandshrew', 9),\n",
       " ('Sandslash', 9),\n",
       " ('Scizor', 6),\n",
       " ('Scyther', 7),\n",
       " ('Seadra', 6),\n",
       " ('Seaking', 7),\n",
       " ('Seel', 4),\n",
       " ('Sentret', 7),\n",
       " ('Shellder', 8),\n",
       " ('Shuckle', 7),\n",
       " ('Skarmory', 8),\n",
       " ('Skiploom', 8),\n",
       " ('Slowbro', 7),\n",
       " ('Slowking', 8),\n",
       " ('Slowpoke', 8),\n",
       " ('Slugma', 6),\n",
       " ('Smeargle', 8),\n",
       " ('Smoochum', 8),\n",
       " ('Sneasel', 7),\n",
       " ('Snorlax', 7),\n",
       " ('Snubbull', 8),\n",
       " ('Spearow', 7),\n",
       " ('Spinarak', 8),\n",
       " ('Squirtle', 8),\n",
       " ('Stantler', 8),\n",
       " ('Starmie', 7),\n",
       " ('Staryu', 6),\n",
       " ('Steelix', 7),\n",
       " ('Sudowoodo', 9),\n",
       " ('Suicune', 7),\n",
       " ('Sunflora', 8),\n",
       " ('Sunkern', 7),\n",
       " ('Swinub', 6),\n",
       " ('Tangela', 7),\n",
       " ('Tauros', 6),\n",
       " ('Teddiursa', 9),\n",
       " ('Tentacool', 9),\n",
       " ('Tentacruel', 10),\n",
       " ('Togepi', 6),\n",
       " ('Togetic', 7),\n",
       " ('Totodile', 8),\n",
       " ('Typhlosion', 10),\n",
       " ('Tyranitar', 9),\n",
       " ('Tyrogue', 7),\n",
       " ('Umbreon', 7),\n",
       " ('Unown', 5),\n",
       " ('Ursaring', 8),\n",
       " ('Vaporeon', 8),\n",
       " ('Venomoth', 8),\n",
       " ('Venonat', 7),\n",
       " ('Venusaur', 8),\n",
       " ('Victreebel', 10),\n",
       " ('Vileplume', 9),\n",
       " ('Voltorb', 7),\n",
       " ('Vulpix', 6),\n",
       " ('Wartortle', 9),\n",
       " ('Weedle', 6),\n",
       " ('Weepinbell', 10),\n",
       " ('Weezing', 7),\n",
       " ('Wigglytuff', 10),\n",
       " ('Wobbuffet', 9),\n",
       " ('Wooper', 6),\n",
       " ('Xatu', 4),\n",
       " ('Yanma', 5),\n",
       " ('Zapdos', 6),\n",
       " ('Zubat', 5)]"
      ]
     },
     "execution_count": 165,
     "metadata": {},
     "output_type": "execute_result"
    }
   ],
   "source": [
    "# Listing names and name lengths for generations 1 and 2\n",
    "poke_names = list(pokemon[\"name\"])\n",
    "poke_gens = list(pokemon[\"generation\"])\n",
    "\n",
    "[(name, len(name)) for name,gen in zip(poke_names, poke_gens) if gen < 3]"
   ]
  },
  {
   "cell_type": "code",
   "execution_count": 168,
   "id": "b9a5ec43",
   "metadata": {},
   "outputs": [
    {
     "data": {
      "image/png": "[encoded data removed]",
      "text/plain": [
       "<Figure size 432x288 with 1 Axes>"
      ]
     },
     "metadata": {
      "needs_background": "light"
     },
     "output_type": "display_data"
    }
   ],
   "source": [
    "name_lengths = [*map(len, list(pokemon[\"name\"]))]\n",
    "plt.plot(poke_gens, name_lengths)\n",
    "plt.show()"
   ]
  },
  {
   "cell_type": "markdown",
   "id": "6ba7aa1a",
   "metadata": {},
   "source": [
    "It does appear that later-generation pokemon had some longer names.\n",
    "\n",
    "Let's see if there is a significant difference in the average name-length."
   ]
  },
  {
   "cell_type": "code",
   "execution_count": 172,
   "id": "1cb7341c",
   "metadata": {},
   "outputs": [
    {
     "data": {
      "text/html": [
       "<div>\n",
       "<style scoped>\n",
       "    .dataframe tbody tr th:only-of-type {\n",
       "        vertical-align: middle;\n",
       "    }\n",
       "\n",
       "    .dataframe tbody tr th {\n",
       "        vertical-align: top;\n",
       "    }\n",
       "\n",
       "    .dataframe thead th {\n",
       "        text-align: right;\n",
       "    }\n",
       "</style>\n",
       "<table border=\"1\" class=\"dataframe\">\n",
       "  <thead>\n",
       "    <tr style=\"text-align: right;\">\n",
       "      <th></th>\n",
       "      <th>name_length</th>\n",
       "    </tr>\n",
       "    <tr>\n",
       "      <th>generation</th>\n",
       "      <th></th>\n",
       "    </tr>\n",
       "  </thead>\n",
       "  <tbody>\n",
       "    <tr>\n",
       "      <th>1</th>\n",
       "      <td>7.304636</td>\n",
       "    </tr>\n",
       "    <tr>\n",
       "      <th>2</th>\n",
       "      <td>7.280000</td>\n",
       "    </tr>\n",
       "    <tr>\n",
       "      <th>3</th>\n",
       "      <td>7.133333</td>\n",
       "    </tr>\n",
       "    <tr>\n",
       "      <th>4</th>\n",
       "      <td>7.467290</td>\n",
       "    </tr>\n",
       "    <tr>\n",
       "      <th>5</th>\n",
       "      <td>7.685897</td>\n",
       "    </tr>\n",
       "    <tr>\n",
       "      <th>6</th>\n",
       "      <td>7.597222</td>\n",
       "    </tr>\n",
       "    <tr>\n",
       "      <th>7</th>\n",
       "      <td>8.012500</td>\n",
       "    </tr>\n",
       "  </tbody>\n",
       "</table>\n",
       "</div>"
      ],
      "text/plain": [
       "            name_length\n",
       "generation             \n",
       "1              7.304636\n",
       "2              7.280000\n",
       "3              7.133333\n",
       "4              7.467290\n",
       "5              7.685897\n",
       "6              7.597222\n",
       "7              8.012500"
      ]
     },
     "execution_count": 172,
     "metadata": {},
     "output_type": "execute_result"
    }
   ],
   "source": [
    "pokemon[\"name_length\"] = pokemon[\"name\"].str.len()\n",
    "shortpoke = pokemon[[\"name\", \"generation\", \"name_length\"]].copy()\n",
    "shortpoke.groupby(\"generation\").mean(\"name_length\")"
   ]
  },
  {
   "cell_type": "code",
   "execution_count": 174,
   "id": "c11b880d",
   "metadata": {},
   "outputs": [
    {
     "name": "stdout",
     "output_type": "stream",
     "text": [
      "                mean  count       std   ci95_hi   ci95_lo\n",
      "generation                                               \n",
      "1           7.304636    151  1.562022  7.553782  7.055489\n",
      "2           7.280000    100  1.371278  7.548771  7.011229\n",
      "3           7.133333    135  1.098167  7.318583  6.948084\n",
      "4           7.467290    107  1.355059  7.724047  7.210533\n",
      "5           7.685897    156  1.385662  7.903343  7.468452\n",
      "6           7.597222     72  1.390711  7.918460  7.275984\n",
      "7           8.012500     80  1.216904  8.279166  7.745834\n"
     ]
    }
   ],
   "source": [
    "import math\n",
    "\n",
    "stats = shortpoke.groupby(['generation'])['name_length'].agg(['mean', 'count', 'std'])\n",
    "\n",
    "ci95_hi = []\n",
    "ci95_lo = []\n",
    "\n",
    "for i in stats.index:\n",
    "    m, c, s = stats.loc[i]\n",
    "    ci95_hi.append(m + 1.96*s/math.sqrt(c))\n",
    "    ci95_lo.append(m - 1.96*s/math.sqrt(c))\n",
    "\n",
    "stats['ci95_hi'] = ci95_hi\n",
    "stats['ci95_lo'] = ci95_lo\n",
    "\n",
    "print(stats)"
   ]
  },
  {
   "cell_type": "code",
   "execution_count": 177,
   "id": "bee25d46",
   "metadata": {},
   "outputs": [
    {
     "name": "stdout",
     "output_type": "stream",
     "text": [
      "Ratio 1 to 2\n",
      "1.2975465098740098\n",
      "Ratio 2 to 3\n",
      "1.5592459245924606\n",
      "Ratio 3 to 4\n",
      "0.6567806315584276\n",
      "Ratio 4 to 5\n",
      "0.9563170440777119\n",
      "Ratio 5 to 6\n",
      "0.9927516921360239\n",
      "Ratio 6 to 7\n",
      "1.3060545605553875\n"
     ]
    }
   ],
   "source": [
    "# calculate variance ratios\n",
    "\n",
    "stats[\"var\"] = stats[\"std\"]**2\n",
    "for i in range(1,7):\n",
    "    print(\"Ratio \" + str(i) + \" to \" + str(i+1))\n",
    "    print(stats.at[i, \"var\"]/stats.at[i+1, \"var\"])"
   ]
  },
  {
   "cell_type": "code",
   "execution_count": 183,
   "id": "189ef3be",
   "metadata": {},
   "outputs": [
    {
     "name": "stdout",
     "output_type": "stream",
     "text": [
      "T-Test: Generation 1 vs. Generation 5\n",
      "We are 95% confident that there is a significant difference in means of -2.2641378466310034\n",
      "T-Test: Generation 2 vs. Generation 5\n",
      "We are 95% confident that there is a significant difference in means of -2.295918547782711\n",
      "T-Test: Generation 3 vs. Generation 4\n",
      "We are 95% confident that there is a significant difference in means of -2.1177654427819723\n",
      "T-Test: Generation 3 vs. Generation 5\n",
      "We are 95% confident that there is a significant difference in means of -3.729143488708052\n",
      "T-Test: Generation 4 vs. Generation 3\n",
      "We are 95% confident that there is a significant difference in means of 2.1177654427819723\n",
      "T-Test: Generation 5 vs. Generation 2\n",
      "We are 95% confident that there is a significant difference in means of 2.295918547782711\n",
      "T-Test: Generation 5 vs. Generation 3\n",
      "We are 95% confident that there is a significant difference in means of 3.729143488708052\n",
      "T-Test: Generation 6 vs. Generation 3\n",
      "We are 95% confident that there is a significant difference in means of 2.63245997931621\n",
      "T-Test: Generation 7 vs. Generation 2\n",
      "We are 95% confident that there is a significant difference in means of 3.7419620234523756\n",
      "T-Test: Generation 7 vs. Generation 3\n",
      "We are 95% confident that there is a significant difference in means of 5.44844849815163\n",
      "T-Test: Generation 7 vs. Generation 4\n",
      "We are 95% confident that there is a significant difference in means of 2.8421776345283676\n"
     ]
    }
   ],
   "source": [
    "# variance ratios are fine, proceed with t-test assuming equal variance\n",
    "\n",
    "import scipy.stats as stats\n",
    "\n",
    "for i in range(1,8):\n",
    "    l1 = shortpoke[shortpoke[\"generation\"]==i][\"name_length\"]\n",
    "    for j in range(2,6):\n",
    "        l2 = shortpoke[shortpoke[\"generation\"]==j][\"name_length\"]\n",
    "    \n",
    "        # Perform the two sample t-test with equal variances\n",
    "        res = stats.ttest_ind(a=l1, b=l2, equal_var=True)\n",
    "        if res.pvalue < 0.05:\n",
    "            print(\"T-Test: Generation \" + str(i) + \" vs. Generation \" + str(j))\n",
    "            print(\"We are 95% confident that there is a significant difference in means of \" + str(res.statistic))\n"
   ]
  },
  {
   "cell_type": "markdown",
   "id": "7c555889",
   "metadata": {},
   "source": [
    "There is a significant difference in name lengths between many generations, with generations > 3 having longer names in general than generations < 3.\n",
    "\n",
    "The largest significant average difference is between Generation 7 names and Generation 3 names, with Generation 7 names being an average of 5.45 characters longer than Generation 3 names."
   ]
  },
  {
   "cell_type": "code",
   "execution_count": 187,
   "id": "ca2e6a02",
   "metadata": {},
   "outputs": [
    {
     "name": "stdout",
     "output_type": "stream",
     "text": [
      "3 strongest Pokémon:\n",
      "[('Groudon', 530, 132.5), ('Zygarde', 522, 130.5), ('Slaking', 510, 127.5)]\n"
     ]
    }
   ],
   "source": [
    "# Create a total stats array\n",
    "total_stats_np = stats_np.sum(axis=0)\n",
    "\n",
    "# Create an average stats array\n",
    "avg_stats_np = stats_np.mean(axis=0)\n",
    "\n",
    "# Combine names, total_stats_np, and avg_stats_np into a list\n",
    "poke_list_np = [*zip(poke_names, total_stats_np, avg_stats_np)]\n",
    "\n",
    "top_3 = sorted(poke_list_np, key=lambda x: x[1], reverse=True)[:3]\n",
    "print('3 strongest Pokémon:\\n{}'.format(top_3))"
   ]
  },
  {
   "cell_type": "markdown",
   "id": "362275e8",
   "metadata": {},
   "source": [
    "### Improving Loop Efficiencies"
   ]
  },
  {
   "cell_type": "code",
   "execution_count": 188,
   "id": "02d12f23",
   "metadata": {},
   "outputs": [
    {
     "data": {
      "text/plain": [
       "0       Abomasnow\n",
       "2           Absol\n",
       "4       Aegislash\n",
       "5      Aerodactyl\n",
       "6          Aggron\n",
       "          ...    \n",
       "793     Zebstrika\n",
       "794        Zekrom\n",
       "796       Zoroark\n",
       "799      Zweilous\n",
       "800       Zygarde\n",
       "Name: name, Length: 370, dtype: object"
      ]
     },
     "execution_count": 188,
     "metadata": {},
     "output_type": "execute_result"
    }
   ],
   "source": [
    "# higher than average attack values\n",
    "\n",
    "avg_attack = pokemon[\"attack\"].mean()\n",
    "pokemon[pokemon[\"attack\"]>avg_attack][\"name\"]"
   ]
  },
  {
   "cell_type": "markdown",
   "id": "2aa07081",
   "metadata": {},
   "source": [
    "Out of 800 pokemon, 370 (46%) have an attack value > average. (Used pandas here, instead of a loop.)\n",
    "\n",
    "Next, we're calculating %s of pokemon in each generation."
   ]
  },
  {
   "cell_type": "code",
   "execution_count": 189,
   "id": "48f836b0",
   "metadata": {},
   "outputs": [
    {
     "name": "stdout",
     "output_type": "stream",
     "text": [
      "generation 4: count = 107 percentage = 13.36\n",
      "generation 1: count = 151 percentage = 18.85\n",
      "generation 3: count = 135 percentage = 16.85\n",
      "generation 5: count = 156 percentage = 19.48\n",
      "generation 6: count =  72 percentage = 8.99\n",
      "generation 2: count = 100 percentage = 12.48\n",
      "generation 7: count =  80 percentage = 9.99\n"
     ]
    }
   ],
   "source": [
    "# Import Counter\n",
    "from collections import Counter\n",
    "generations = list(pokemon[\"generation\"])\n",
    "\n",
    "# Collect the count of each generation\n",
    "gen_counts = Counter(generations)\n",
    "\n",
    "# Improve for loop by moving one calculation above the loop\n",
    "total_count = len(generations)\n",
    "\n",
    "for gen,count in gen_counts.items():\n",
    "    gen_percent = round(count / total_count * 100, 2)\n",
    "    print('generation {}: count = {:3} percentage = {}'\n",
    "          .format(gen, count, gen_percent))"
   ]
  },
  {
   "cell_type": "markdown",
   "id": "a835a037",
   "metadata": {},
   "source": [
    "The largest generation is generation 5, but generation 1 is a close second.\n",
    "\n",
    "Below, we're using combinations to get a list of all the poke-type pairs (for a small set of types), then using map to convert enumerated pairs tuples to lists."
   ]
  },
  {
   "cell_type": "code",
   "execution_count": 191,
   "id": "d0df9f6a",
   "metadata": {},
   "outputs": [
    {
     "name": "stdout",
     "output_type": "stream",
     "text": [
      "[[1, 'grass', 'psychic'], [2, 'grass', 'dark'], [3, 'grass', 'bug'], [4, 'grass', 'steel'], [5, 'psychic', 'dark'], [6, 'psychic', 'bug'], [7, 'psychic', 'steel'], [8, 'dark', 'bug'], [9, 'dark', 'steel'], [10, 'bug', 'steel']]\n"
     ]
    }
   ],
   "source": [
    "# Collect pairs from the small list of poke types\n",
    "possible_pairs = [*combinations(poke_sm, 2)]\n",
    "\n",
    "# Create an empty list called enumerated_tuples\n",
    "enumerated_tuples = []\n",
    "\n",
    "# Append each enumerated_pair_tuple to the empty list above\n",
    "for i,pair in enumerate(possible_pairs, 1):\n",
    "    enumerated_pair_tuple = (i,) + pair\n",
    "    enumerated_tuples.append(enumerated_pair_tuple)\n",
    "\n",
    "# Convert all tuples in enumerated_tuples to a list\n",
    "enumerated_pairs = [*map(list, enumerated_tuples)]\n",
    "print(enumerated_pairs)"
   ]
  },
  {
   "cell_type": "markdown",
   "id": "15280d65",
   "metadata": {},
   "source": [
    "Calculate Z-Scores using numpy arrays"
   ]
  },
  {
   "cell_type": "code",
   "execution_count": 192,
   "id": "edb550c9",
   "metadata": {},
   "outputs": [
    {
     "name": "stdout",
     "output_type": "stream",
     "text": [
      "('Abomasnow', 90, 0.7922310956895511)\n",
      "('Abra', 25, -1.6551114934332969)\n",
      "('Absol', 65, -0.14905451551154433)\n"
     ]
    }
   ],
   "source": [
    "hps = np.array(pokemon[\"hp\"])\n",
    "\n",
    "# Calculate the total HP avg and total HP standard deviation\n",
    "hp_avg = hps.mean()\n",
    "hp_std = hps.std()\n",
    "\n",
    "# Use NumPy to eliminate the previous for loop\n",
    "z_scores = (hps - hp_avg)/hp_std\n",
    "\n",
    "# Combine names, hps, and z_scores\n",
    "poke_zscores2 = [*zip(poke_names, hps, z_scores)]\n",
    "print(*poke_zscores2[:3], sep='\\n')"
   ]
  },
  {
   "cell_type": "code",
   "execution_count": 193,
   "id": "46b5d990",
   "metadata": {},
   "outputs": [
    {
     "name": "stdout",
     "output_type": "stream",
     "text": [
      "('Alomomola', 165, 3.616087929292837)\n",
      "('Aurorus', 123, 2.034728102474997)\n",
      "('Blissey', 255, 7.004716129616781)\n",
      "('Chansey', 250, 6.816459007376562)\n",
      "('Drifblim', 150, 3.05131656257218)\n",
      "('Giratina', 150, 3.05131656257218)\n",
      "('Gogoat', 123, 2.034728102474997)\n",
      "('Guzzlord', 223, 5.799870547279379)\n",
      "('Hariyama', 144, 2.825408015883917)\n",
      "('Kyurem', 125, 2.1100309513710847)\n",
      "('Lanturn', 125, 2.1100309513710847)\n",
      "('Lapras', 130, 2.2982880736113036)\n",
      "('Lunala', 137, 2.5618480447476104)\n",
      "('Munchlax', 135, 2.486545195851523)\n",
      "('Slaking', 150, 3.05131656257218)\n",
      "('Snorlax', 160, 3.4278308070526182)\n",
      "('Solgaleo', 137, 2.5618480447476104)\n",
      "('Vaporeon', 130, 2.2982880736113036)\n",
      "('Wailmer', 130, 2.2982880736113036)\n",
      "('Wailord', 170, 3.8043450515330566)\n",
      "('Wigglytuff', 140, 2.674802318091742)\n",
      "('Wobbuffet', 190, 4.557373540493932)\n",
      "('Xerneas', 126, 2.1476823758191284)\n",
      "('Yveltal', 126, 2.1476823758191284)\n",
      "('Zygarde', 216, 5.536310576143072)\n"
     ]
    }
   ],
   "source": [
    "# Use list comprehension with the same logic as the highest_hp_pokemon code block\n",
    "highest_hp_pokemon2 = [(name, hp, zscore) for name,hp,zscore in poke_zscores2 if zscore > 2]\n",
    "print(*highest_hp_pokemon2, sep='\\n')"
   ]
  },
  {
   "cell_type": "markdown",
   "id": "d8fc33d2",
   "metadata": {},
   "source": [
    "These pokemon have significantly higher health points than average!"
   ]
  },
  {
   "cell_type": "code",
   "execution_count": null,
   "id": "1a0ba5ac",
   "metadata": {},
   "outputs": [],
   "source": []
  }
 ],
 "metadata": {
  "kernelspec": {
   "display_name": "Python 3 (ipykernel)",
   "language": "python",
   "name": "python3"
  },
  "language_info": {
   "codemirror_mode": {
    "name": "ipython",
    "version": 3
   },
   "file_extension": ".py",
   "mimetype": "text/x-python",
   "name": "python",
   "nbconvert_exporter": "python",
   "pygments_lexer": "ipython3",
   "version": "3.8.5"
  }
 },
 "nbformat": 4,
 "nbformat_minor": 5
}
