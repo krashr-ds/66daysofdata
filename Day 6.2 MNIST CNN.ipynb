{
 "cells": [
  {
   "cell_type": "markdown",
   "id": "52612d2c",
   "metadata": {},
   "source": [
    "### Datacamp: Introduction to Deep Learning with Pytorch\n",
    "\n",
    "Completed 6/10/2022"
   ]
  },
  {
   "cell_type": "code",
   "execution_count": 3,
   "id": "10f2cc2f",
   "metadata": {},
   "outputs": [],
   "source": [
    "import torch\n",
    "import torchvision\n",
    "import torch.utils.data\n",
    "import torchvision.transforms as transforms"
   ]
  },
  {
   "cell_type": "code",
   "execution_count": 10,
   "id": "ca46d5f0",
   "metadata": {},
   "outputs": [],
   "source": [
    "transform = transforms.Compose([transforms.ToTensor(),\n",
    "                                transforms.Normalize((0.5), ((0.5)))])\n",
    "\n",
    "# Prepare training set and testing set\n",
    "trainset = torchvision.datasets.MNIST('mnist', train=True, \n",
    "                                      download=True, transform=transform)\n",
    "testset = torchvision.datasets.MNIST('mnist', train=False,\n",
    "                                     download=True, transform=transform)\n",
    "\n",
    "# Prepare training loader and testing loader\n",
    "trainloader = torch.utils.data.DataLoader(trainset, batch_size=32,\n",
    "                                          shuffle=True, num_workers=0)\n",
    "testloader = torch.utils.data.DataLoader(testset, batch_size=32,\n",
    "                                          shuffle=False, num_workers=0) "
   ]
  },
  {
   "cell_type": "code",
   "execution_count": 11,
   "id": "9a05b0c2",
   "metadata": {},
   "outputs": [],
   "source": [
    "import torch.nn as nn"
   ]
  },
  {
   "cell_type": "code",
   "execution_count": 12,
   "id": "a593358d",
   "metadata": {},
   "outputs": [],
   "source": [
    "class Net(nn.Module):\n",
    "    def __init__(self, num_classes):\n",
    "        super(Net, self).__init__()\n",
    "\n",
    "        # Instantiate the ReLU nonlinearity\n",
    "        self.relu = nn.ReLU()\n",
    "        \n",
    "        # Instantiate two convolutional layers\n",
    "        self.conv1 = nn.Conv2d(in_channels=1, out_channels=5, kernel_size=3, padding=1)\n",
    "        self.conv2 = nn.Conv2d(in_channels=5, out_channels=10, kernel_size=3, padding=1)\n",
    "        \n",
    "        # Instantiate a max pooling layer\n",
    "        self.pool = nn.MaxPool2d(2, 2)\n",
    "        \n",
    "        # Instantiate a fully connected layer\n",
    "        self.fc = nn.Linear(7 * 7 * 10, 10)\n",
    "\n",
    "    def forward(self, x):\n",
    "  \n",
    "        # Apply conv followd by relu, then in next line pool\n",
    "        x = self.relu(self.conv1(x))\n",
    "        x = self.pool(x)\n",
    "\n",
    "        # Apply conv followd by relu, then in next line pool\n",
    "        x = self.relu(self.conv2(x))\n",
    "        x = self.pool(x)\n",
    "\n",
    "        # Prepare the image for the fully connected layer\n",
    "        # USE THE SAME DIMENSIONAL INPUT AS DEFINED FOR THE FULLY-CONNECTED LAYER IN INIT (above)\n",
    "        x = x.view(-1, 7 * 7 * 10)\n",
    "\n",
    "        # Apply the fully connected layer and return the result\n",
    "        return self.fc(x)"
   ]
  },
  {
   "cell_type": "code",
   "execution_count": 76,
   "id": "aefc788c",
   "metadata": {},
   "outputs": [],
   "source": [
    "import torch.optim as optim\n",
    "\n",
    "net = Net(10)\n",
    "criterion = nn.CrossEntropyLoss()\n",
    "optimizer = optim.Adam(net.parameters(), lr=3e-4)\n",
    "\n",
    "for epoch in range(5):\n",
    "    for i, data in enumerate(trainloader, 0):\n",
    "        inputs, labels = data\n",
    "        optimizer.zero_grad()\n",
    "\n",
    "        # Compute the forward pass\n",
    "        outputs = net(inputs)\n",
    "        \n",
    "        # Compute the loss function\n",
    "        loss = criterion(outputs, labels)\n",
    "        \n",
    "        # Compute the gradients\n",
    "        loss.backward()\n",
    "    \n",
    "        # Update the weights\n",
    "        optimizer.step()"
   ]
  },
  {
   "cell_type": "code",
   "execution_count": 77,
   "id": "cc796509",
   "metadata": {},
   "outputs": [
    {
     "name": "stdout",
     "output_type": "stream",
     "text": [
      "The testing set accuracy is 100 %\n"
     ]
    }
   ],
   "source": [
    "correct, total = 0, 0\n",
    "net.eval()\n",
    "\n",
    "for i, data in enumerate(testloader, 0):\n",
    "    inputs, labels = data\n",
    "    total = labels.size(0)\n",
    "    outputs = net(inputs)\n",
    "    _, predicted = torch.max(outputs.data, 1)\n",
    "\n",
    "for i, (p, l) in enumerate(zip(predicted, labels)):\n",
    "    if p == l:\n",
    "       correct += 1\n",
    "\n",
    "            \n",
    "print('The testing set accuracy is %d %%' % (100*correct/total))"
   ]
  },
  {
   "cell_type": "code",
   "execution_count": 78,
   "id": "70634b9e",
   "metadata": {},
   "outputs": [
    {
     "name": "stdout",
     "output_type": "stream",
     "text": [
      "tensor([1, 2, 3, 4, 5, 6, 7, 8, 9, 0, 1, 2, 3, 4, 5, 6])\n"
     ]
    }
   ],
   "source": [
    "print(labels)"
   ]
  },
  {
   "cell_type": "code",
   "execution_count": 79,
   "id": "b2364ef3",
   "metadata": {},
   "outputs": [
    {
     "name": "stdout",
     "output_type": "stream",
     "text": [
      "tensor([1, 2, 3, 4, 5, 6, 7, 8, 9, 0, 1, 2, 3, 4, 5, 6])\n"
     ]
    }
   ],
   "source": [
    "print(predicted)"
   ]
  },
  {
   "cell_type": "markdown",
   "id": "8f956191",
   "metadata": {},
   "source": [
    "### Sequential Module"
   ]
  },
  {
   "cell_type": "code",
   "execution_count": 80,
   "id": "381b9c09",
   "metadata": {},
   "outputs": [],
   "source": [
    "class Net2(nn.Module):\n",
    "    def __init__(self):\n",
    "        super(Net2, self).__init__()\n",
    "        \n",
    "        # Declare all the layers for feature extraction\n",
    "        self.features = nn.Sequential(nn.Conv2d(in_channels=1, out_channels=5, kernel_size=3, padding=1), \n",
    "                                      nn.ReLU(inplace=True),\n",
    "                                      nn.Conv2d(in_channels=5, out_channels=10, kernel_size=3, padding=1), \n",
    "                                      nn.MaxPool2d(2, 2), \n",
    "                                      nn.ReLU(inplace=True),\n",
    "                                      nn.Conv2d(in_channels=10, out_channels=20, kernel_size=3, padding=1),\n",
    "                                      nn.ReLU(inplace=True),\n",
    "                                      nn.Conv2d(in_channels=20, out_channels=40, kernel_size=3, padding=1),\n",
    "                                      nn.MaxPool2d(2, 2), \n",
    "                                      nn.ReLU(inplace=True))\n",
    "        \n",
    "        # Declare all the layers for classification\n",
    "        self.classifier = nn.Sequential(nn.Linear(7 * 7 * 40, 1024), \n",
    "                                        nn.ReLU(inplace=True),\n",
    "                                       \tnn.Linear(1024, 2048), \n",
    "                                        nn.ReLU(inplace=True),\n",
    "                                        nn.Linear(2048, 10))\n",
    "        \n",
    "    def forward(self, x):\n",
    "      \n",
    "        # Apply the feature extractor in the input\n",
    "        x = self.features(x)\n",
    "        \n",
    "        # Squeeze the three spatial dimensions in one\n",
    "        x = x.view(-1, 7 * 7 * 40)\n",
    "        \n",
    "        # Classify the images\n",
    "        x = self.classifier(x)\n",
    "        return x"
   ]
  },
  {
   "cell_type": "code",
   "execution_count": 84,
   "id": "af9a3053",
   "metadata": {},
   "outputs": [],
   "source": [
    "import numpy as np\n",
    "indices = np.arange(0, 600000, 1)"
   ]
  },
  {
   "cell_type": "code",
   "execution_count": 85,
   "id": "0d1270ff",
   "metadata": {},
   "outputs": [
    {
     "data": {
      "text/plain": [
       "array([     0,      1,      2, ..., 599997, 599998, 599999])"
      ]
     },
     "execution_count": 85,
     "metadata": {},
     "output_type": "execute_result"
    }
   ],
   "source": [
    "indices"
   ]
  },
  {
   "cell_type": "markdown",
   "id": "12b870cd",
   "metadata": {},
   "source": [
    "### Regularization Example"
   ]
  },
  {
   "cell_type": "code",
   "execution_count": 87,
   "id": "809c98c3",
   "metadata": {},
   "outputs": [],
   "source": [
    "# Instantiate the network\n",
    "model = Net(10)\n",
    "\n",
    "# Instantiate the cross-entropy loss\n",
    "criterion = nn.CrossEntropyLoss()\n",
    "\n",
    "# Instantiate the Adam optimizer with Ridge lambda=0.001\n",
    "optimizer = optim.Adam(model.parameters(), lr=3e-4, weight_decay=0.001)"
   ]
  },
  {
   "cell_type": "markdown",
   "id": "d5c95e3c",
   "metadata": {},
   "source": [
    "### Dropout Example\n",
    "\n",
    "Typically applied to fully-connected layers"
   ]
  },
  {
   "cell_type": "code",
   "execution_count": 88,
   "id": "74bf5885",
   "metadata": {},
   "outputs": [],
   "source": [
    "class DropoutNet(nn.Module):\n",
    "    def __init__(self):\n",
    "        \n",
    "        # Define all the parameters of the net\n",
    "        self.classifier = nn.Sequential(\n",
    "            nn.Linear(28*28, 200),\n",
    "            nn.ReLU(inplace=True),\n",
    "            nn.Dropout(p=0.5),\n",
    "            nn.Linear(200, 500),\n",
    "            nn.ReLU(inplace=True),\n",
    "            nn.Linear(500, 10))\n",
    "        \n",
    "    def forward(self, x):\n",
    "    \n",
    "    \t# Do the forward pass\n",
    "        return self.classifier(x)"
   ]
  },
  {
   "cell_type": "markdown",
   "id": "691b36c5",
   "metadata": {},
   "source": [
    "### Batch-normalization Example\n",
    "\n",
    "Used to make CNN training more efficient, while having regularization effects"
   ]
  },
  {
   "cell_type": "code",
   "execution_count": 89,
   "id": "fab18f72",
   "metadata": {},
   "outputs": [],
   "source": [
    "class BNNet(nn.Module):\n",
    "    def __init__(self):\n",
    "        super(Net, self).__init__()\n",
    "        \n",
    "        # Implement the sequential module for feature extraction\n",
    "        self.features = nn.Sequential(\n",
    "            nn.Conv2d(in_channels=1, out_channels=10, kernel_size=3, stride=1, padding=1),\n",
    "            nn.MaxPool2d(2, 2), \n",
    "            nn.ReLU(inplace=True), \n",
    "            nn.BatchNorm2d(10),\n",
    "            nn.Conv2d(in_channels=10, out_channels=20, kernel_size=3, stride=1, padding=1),\n",
    "            nn.MaxPool2d(2, 2), \n",
    "            nn.ReLU(inplace=True), \n",
    "            nn.BatchNorm2d(20))\n",
    "        \n",
    "        # Implement the fully connected layer for classification (starting image size was 28x28)\n",
    "        self.fc = nn.Linear(in_features=7 * 7 * 20, out_features=10)"
   ]
  },
  {
   "cell_type": "markdown",
   "id": "0cd93d1a",
   "metadata": {},
   "source": [
    "### Loading a Previously Trained Model\n",
    "\n",
    "\"Fine Tuning Technique\"\n",
    "\n",
    "The previously trained model was used to classify digits; in this example it is repurposed for classifying letters"
   ]
  },
  {
   "cell_type": "code",
   "execution_count": 95,
   "id": "39a98bd5",
   "metadata": {},
   "outputs": [
    {
     "name": "stdout",
     "output_type": "stream",
     "text": [
      "Accuracy of the net is: Net(\n",
      "  (relu): ReLU()\n",
      "  (conv1): Conv2d(1, 5, kernel_size=(3, 3), stride=(1, 1), padding=(1, 1))\n",
      "  (conv2): Conv2d(5, 10, kernel_size=(3, 3), stride=(1, 1), padding=(1, 1))\n",
      "  (pool): MaxPool2d(kernel_size=2, stride=2, padding=0, dilation=1, ceil_mode=False)\n",
      "  (fc): Linear(in_features=25088, out_features=26, bias=True)\n",
      ")\n"
     ]
    }
   ],
   "source": [
    "# Create a model using\n",
    "alpha_model = Net(10)\n",
    "\n",
    "# Load the parameters from the old model (doesn't actually exist)\n",
    "# alpha_model.load_state_dict(torch.load('my_net.pth'))\n",
    "\n",
    "# Change the number of out channels (26 - for 26 letters in the alphabet)\n",
    "alpha_model.fc = nn.Linear(7 * 7 * 512, 26)\n",
    "\n",
    "# Train and evaluate the model\n",
    "alpha_model.train()\n",
    "# train_net(alphamodel, optimizer, criterion)\n",
    "print(\"Accuracy of the net is: \" + str(alpha_model.eval()))"
   ]
  },
  {
   "cell_type": "markdown",
   "id": "ea9865de",
   "metadata": {},
   "source": [
    "### Example of using a Pretrained Model"
   ]
  },
  {
   "cell_type": "code",
   "execution_count": 96,
   "id": "ce68edd8",
   "metadata": {},
   "outputs": [
    {
     "name": "stderr",
     "output_type": "stream",
     "text": [
      "Downloading: \"https://download.pytorch.org/models/resnet18-f37072fd.pth\" to C:\\Users\\krash/.cache\\torch\\hub\\checkpoints\\resnet18-f37072fd.pth\n"
     ]
    },
    {
     "data": {
      "application/vnd.jupyter.widget-view+json": {
       "model_id": "9e936e0db4f341f0a32f2d3a704023b3",
       "version_major": 2,
       "version_minor": 0
      },
      "text/plain": [
       "  0%|          | 0.00/44.7M [00:00<?, ?B/s]"
      ]
     },
     "metadata": {},
     "output_type": "display_data"
    }
   ],
   "source": [
    "# Import the module\n",
    "import torchvision\n",
    "\n",
    "# Download resnet18\n",
    "model = torchvision.models.resnet18(pretrained=True)\n",
    "\n",
    "# Freeze all the layers bar the last one\n",
    "for param in model.parameters():\n",
    "    param.requires_grad = False\n",
    "\n",
    "# Change the number of output units\n",
    "model.fc = nn.Linear(512, 7)"
   ]
  },
  {
   "cell_type": "code",
   "execution_count": null,
   "id": "d4ff3596",
   "metadata": {},
   "outputs": [],
   "source": []
  }
 ],
 "metadata": {
  "kernelspec": {
   "display_name": "Python 3 (ipykernel)",
   "language": "python",
   "name": "python3"
  },
  "language_info": {
   "codemirror_mode": {
    "name": "ipython",
    "version": 3
   },
   "file_extension": ".py",
   "mimetype": "text/x-python",
   "name": "python",
   "nbconvert_exporter": "python",
   "pygments_lexer": "ipython3",
   "version": "3.8.5"
  }
 },
 "nbformat": 4,
 "nbformat_minor": 5
}
