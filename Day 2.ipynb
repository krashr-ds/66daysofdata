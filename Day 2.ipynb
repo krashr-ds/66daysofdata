{
 "cells": [
  {
   "cell_type": "markdown",
   "id": "93e08862",
   "metadata": {},
   "source": [
    "### Day 2\n",
    "\n",
    "-\tData types\n",
    "-\tMeasures of central tendency\n",
    "-\tHypothesis testing\n",
    "-\tPower calculation\n",
    "-\tP-values\n"
   ]
  },
  {
   "cell_type": "code",
   "execution_count": 1,
   "id": "28547f82",
   "metadata": {},
   "outputs": [],
   "source": [
    "%matplotlib inline\n",
    "import matplotlib.pylab\n",
    "from matplotlib import pyplot\n",
    "import matplotlib.pyplot as plt\n",
    "plt.rc(\"figure\", figsize=(12,10))\n",
    "import pandas as pd\n",
    "import numpy as np\n",
    "import datetime\n",
    "import math"
   ]
  },
  {
   "cell_type": "code",
   "execution_count": 2,
   "id": "39123a81",
   "metadata": {
    "scrolled": true
   },
   "outputs": [
    {
     "data": {
      "text/html": [
       "<div>\n",
       "<style scoped>\n",
       "    .dataframe tbody tr th:only-of-type {\n",
       "        vertical-align: middle;\n",
       "    }\n",
       "\n",
       "    .dataframe tbody tr th {\n",
       "        vertical-align: top;\n",
       "    }\n",
       "\n",
       "    .dataframe thead th {\n",
       "        text-align: right;\n",
       "    }\n",
       "</style>\n",
       "<table border=\"1\" class=\"dataframe\">\n",
       "  <thead>\n",
       "    <tr style=\"text-align: right;\">\n",
       "      <th></th>\n",
       "      <th>age</th>\n",
       "      <th>sex</th>\n",
       "      <th>cp</th>\n",
       "      <th>trtbps</th>\n",
       "      <th>chol</th>\n",
       "      <th>fbs</th>\n",
       "      <th>restecg</th>\n",
       "      <th>thalachh</th>\n",
       "      <th>exng</th>\n",
       "      <th>oldpeak</th>\n",
       "      <th>slp</th>\n",
       "      <th>caa</th>\n",
       "      <th>thall</th>\n",
       "      <th>output</th>\n",
       "    </tr>\n",
       "  </thead>\n",
       "  <tbody>\n",
       "    <tr>\n",
       "      <th>0</th>\n",
       "      <td>63</td>\n",
       "      <td>1</td>\n",
       "      <td>3</td>\n",
       "      <td>145</td>\n",
       "      <td>233</td>\n",
       "      <td>1</td>\n",
       "      <td>0</td>\n",
       "      <td>150</td>\n",
       "      <td>0</td>\n",
       "      <td>2.3</td>\n",
       "      <td>0</td>\n",
       "      <td>0</td>\n",
       "      <td>1</td>\n",
       "      <td>1</td>\n",
       "    </tr>\n",
       "    <tr>\n",
       "      <th>1</th>\n",
       "      <td>37</td>\n",
       "      <td>1</td>\n",
       "      <td>2</td>\n",
       "      <td>130</td>\n",
       "      <td>250</td>\n",
       "      <td>0</td>\n",
       "      <td>1</td>\n",
       "      <td>187</td>\n",
       "      <td>0</td>\n",
       "      <td>3.5</td>\n",
       "      <td>0</td>\n",
       "      <td>0</td>\n",
       "      <td>2</td>\n",
       "      <td>1</td>\n",
       "    </tr>\n",
       "    <tr>\n",
       "      <th>2</th>\n",
       "      <td>41</td>\n",
       "      <td>0</td>\n",
       "      <td>1</td>\n",
       "      <td>130</td>\n",
       "      <td>204</td>\n",
       "      <td>0</td>\n",
       "      <td>0</td>\n",
       "      <td>172</td>\n",
       "      <td>0</td>\n",
       "      <td>1.4</td>\n",
       "      <td>2</td>\n",
       "      <td>0</td>\n",
       "      <td>2</td>\n",
       "      <td>1</td>\n",
       "    </tr>\n",
       "    <tr>\n",
       "      <th>3</th>\n",
       "      <td>56</td>\n",
       "      <td>1</td>\n",
       "      <td>1</td>\n",
       "      <td>120</td>\n",
       "      <td>236</td>\n",
       "      <td>0</td>\n",
       "      <td>1</td>\n",
       "      <td>178</td>\n",
       "      <td>0</td>\n",
       "      <td>0.8</td>\n",
       "      <td>2</td>\n",
       "      <td>0</td>\n",
       "      <td>2</td>\n",
       "      <td>1</td>\n",
       "    </tr>\n",
       "    <tr>\n",
       "      <th>4</th>\n",
       "      <td>57</td>\n",
       "      <td>0</td>\n",
       "      <td>0</td>\n",
       "      <td>120</td>\n",
       "      <td>354</td>\n",
       "      <td>0</td>\n",
       "      <td>1</td>\n",
       "      <td>163</td>\n",
       "      <td>1</td>\n",
       "      <td>0.6</td>\n",
       "      <td>2</td>\n",
       "      <td>0</td>\n",
       "      <td>2</td>\n",
       "      <td>1</td>\n",
       "    </tr>\n",
       "  </tbody>\n",
       "</table>\n",
       "</div>"
      ],
      "text/plain": [
       "   age  sex  cp  trtbps  chol  fbs  restecg  thalachh  exng  oldpeak  slp  \\\n",
       "0   63    1   3     145   233    1        0       150     0      2.3    0   \n",
       "1   37    1   2     130   250    0        1       187     0      3.5    0   \n",
       "2   41    0   1     130   204    0        0       172     0      1.4    2   \n",
       "3   56    1   1     120   236    0        1       178     0      0.8    2   \n",
       "4   57    0   0     120   354    0        1       163     1      0.6    2   \n",
       "\n",
       "   caa  thall  output  \n",
       "0    0      1       1  \n",
       "1    0      2       1  \n",
       "2    0      2       1  \n",
       "3    0      2       1  \n",
       "4    0      2       1  "
      ]
     },
     "execution_count": 2,
     "metadata": {},
     "output_type": "execute_result"
    }
   ],
   "source": [
    "# Load some data\n",
    "\n",
    "heart = pd.read_csv(\"Datasets/HeartAttacks/heart.csv\")\n",
    "heart.head()"
   ]
  },
  {
   "cell_type": "code",
   "execution_count": 3,
   "id": "2df6d82d",
   "metadata": {},
   "outputs": [
    {
     "data": {
      "text/plain": [
       "(303, 14)"
      ]
     },
     "execution_count": 3,
     "metadata": {},
     "output_type": "execute_result"
    }
   ],
   "source": [
    "heart.shape"
   ]
  },
  {
   "cell_type": "markdown",
   "id": "68750267",
   "metadata": {},
   "source": [
    "### Data Points: Heart Attacks Data Set\n",
    "\n",
    "- **age**: age in years\n",
    "- **sex**: sex (1 = male; 0 = female)\n",
    "- **cp**: chest pain type: 1 typical angina, 2 atypical angina, 3 non-anginal pain, 4 asymptomatic\n",
    "- **trtbps**: resting blood pressure (in mmHg on admission to the hospital)\n",
    "- **chol**: serum cholestoral in mg/dl\n",
    "- **fbs**: (fasting blood sugar > 120 mg/dl) (1 = true; 0 = false)\n",
    "- **restecg**: resting electrocardiographic results: 0 normal, 1 ST-T wave abnormality (T inversion and/or ST elevation or depression of > 0.05 mV), 2 probable or definite LVH by Estes' criteria\n",
    "- **thalach**: maximum heart rate achieved\n",
    "- **exang**: exercise induced angina (1 = yes; 0 = no)\n",
    "- **oldpeak**: ST depression induced by exercise relative to rest\n",
    "- **slope**: the slope of the peak exercise ST segment: 1 upsloping, 2 flat, 3 downsloping\n",
    "- **ca**: number of major vessels (0-3) colored by flourosopy\n",
    "- **thal**: 3 = normal; 6 = fixed defect; 7 = reversable defect\n",
    "- **num**: diagnosis of heart disease (angiographic disease status): 0 < 50% narrowing, 1 > 50% narrowing in any major vessel"
   ]
  },
  {
   "cell_type": "markdown",
   "id": "5290a9c0",
   "metadata": {},
   "source": [
    "### Data types\n",
    "\n",
    "- **age**: continuous, ratio\n",
    "- **sex**: categorical, nominal\n",
    "- **cp**: categorical, nominal\n",
    "- **trtbps**: continuous, interval\n",
    "- **chol**: continuous, interval\n",
    "- **fbs**: categorical, ordinal\n",
    "- **restecg**: categorical, ordinal\n",
    "- **thalach**: continuous, ratio\n",
    "- **exang**: categorical, ordinal\n",
    "- **oldpeak**: continuous, ratio\n",
    "- **slope**: categorical, nominal\n",
    "- **ca**: continuous, ratio (count)\n",
    "- **thal**: categorical, nominal \n",
    "- **num**: categorical, nominal (outcome) "
   ]
  },
  {
   "cell_type": "code",
   "execution_count": 4,
   "id": "9217821b",
   "metadata": {
    "scrolled": true
   },
   "outputs": [
    {
     "data": {
      "text/html": [
       "<div>\n",
       "<style scoped>\n",
       "    .dataframe tbody tr th:only-of-type {\n",
       "        vertical-align: middle;\n",
       "    }\n",
       "\n",
       "    .dataframe tbody tr th {\n",
       "        vertical-align: top;\n",
       "    }\n",
       "\n",
       "    .dataframe thead th {\n",
       "        text-align: right;\n",
       "    }\n",
       "</style>\n",
       "<table border=\"1\" class=\"dataframe\">\n",
       "  <thead>\n",
       "    <tr style=\"text-align: right;\">\n",
       "      <th></th>\n",
       "      <th>age</th>\n",
       "      <th>sex</th>\n",
       "      <th>cp</th>\n",
       "      <th>trtbps</th>\n",
       "      <th>chol</th>\n",
       "      <th>fbs</th>\n",
       "      <th>restecg</th>\n",
       "      <th>thalachh</th>\n",
       "      <th>exng</th>\n",
       "      <th>oldpeak</th>\n",
       "      <th>slp</th>\n",
       "      <th>caa</th>\n",
       "      <th>thall</th>\n",
       "      <th>output</th>\n",
       "    </tr>\n",
       "  </thead>\n",
       "  <tbody>\n",
       "    <tr>\n",
       "      <th>count</th>\n",
       "      <td>303.000000</td>\n",
       "      <td>303.000000</td>\n",
       "      <td>303.000000</td>\n",
       "      <td>303.000000</td>\n",
       "      <td>303.000000</td>\n",
       "      <td>303.000000</td>\n",
       "      <td>303.000000</td>\n",
       "      <td>303.000000</td>\n",
       "      <td>303.000000</td>\n",
       "      <td>303.000000</td>\n",
       "      <td>303.000000</td>\n",
       "      <td>303.000000</td>\n",
       "      <td>303.000000</td>\n",
       "      <td>303.000000</td>\n",
       "    </tr>\n",
       "    <tr>\n",
       "      <th>mean</th>\n",
       "      <td>54.366337</td>\n",
       "      <td>0.683168</td>\n",
       "      <td>0.966997</td>\n",
       "      <td>131.623762</td>\n",
       "      <td>246.264026</td>\n",
       "      <td>0.148515</td>\n",
       "      <td>0.528053</td>\n",
       "      <td>149.646865</td>\n",
       "      <td>0.326733</td>\n",
       "      <td>1.039604</td>\n",
       "      <td>1.399340</td>\n",
       "      <td>0.729373</td>\n",
       "      <td>2.313531</td>\n",
       "      <td>0.544554</td>\n",
       "    </tr>\n",
       "    <tr>\n",
       "      <th>std</th>\n",
       "      <td>9.082101</td>\n",
       "      <td>0.466011</td>\n",
       "      <td>1.032052</td>\n",
       "      <td>17.538143</td>\n",
       "      <td>51.830751</td>\n",
       "      <td>0.356198</td>\n",
       "      <td>0.525860</td>\n",
       "      <td>22.905161</td>\n",
       "      <td>0.469794</td>\n",
       "      <td>1.161075</td>\n",
       "      <td>0.616226</td>\n",
       "      <td>1.022606</td>\n",
       "      <td>0.612277</td>\n",
       "      <td>0.498835</td>\n",
       "    </tr>\n",
       "    <tr>\n",
       "      <th>min</th>\n",
       "      <td>29.000000</td>\n",
       "      <td>0.000000</td>\n",
       "      <td>0.000000</td>\n",
       "      <td>94.000000</td>\n",
       "      <td>126.000000</td>\n",
       "      <td>0.000000</td>\n",
       "      <td>0.000000</td>\n",
       "      <td>71.000000</td>\n",
       "      <td>0.000000</td>\n",
       "      <td>0.000000</td>\n",
       "      <td>0.000000</td>\n",
       "      <td>0.000000</td>\n",
       "      <td>0.000000</td>\n",
       "      <td>0.000000</td>\n",
       "    </tr>\n",
       "    <tr>\n",
       "      <th>25%</th>\n",
       "      <td>47.500000</td>\n",
       "      <td>0.000000</td>\n",
       "      <td>0.000000</td>\n",
       "      <td>120.000000</td>\n",
       "      <td>211.000000</td>\n",
       "      <td>0.000000</td>\n",
       "      <td>0.000000</td>\n",
       "      <td>133.500000</td>\n",
       "      <td>0.000000</td>\n",
       "      <td>0.000000</td>\n",
       "      <td>1.000000</td>\n",
       "      <td>0.000000</td>\n",
       "      <td>2.000000</td>\n",
       "      <td>0.000000</td>\n",
       "    </tr>\n",
       "  </tbody>\n",
       "</table>\n",
       "</div>"
      ],
      "text/plain": [
       "              age         sex          cp      trtbps        chol         fbs  \\\n",
       "count  303.000000  303.000000  303.000000  303.000000  303.000000  303.000000   \n",
       "mean    54.366337    0.683168    0.966997  131.623762  246.264026    0.148515   \n",
       "std      9.082101    0.466011    1.032052   17.538143   51.830751    0.356198   \n",
       "min     29.000000    0.000000    0.000000   94.000000  126.000000    0.000000   \n",
       "25%     47.500000    0.000000    0.000000  120.000000  211.000000    0.000000   \n",
       "\n",
       "          restecg    thalachh        exng     oldpeak         slp         caa  \\\n",
       "count  303.000000  303.000000  303.000000  303.000000  303.000000  303.000000   \n",
       "mean     0.528053  149.646865    0.326733    1.039604    1.399340    0.729373   \n",
       "std      0.525860   22.905161    0.469794    1.161075    0.616226    1.022606   \n",
       "min      0.000000   71.000000    0.000000    0.000000    0.000000    0.000000   \n",
       "25%      0.000000  133.500000    0.000000    0.000000    1.000000    0.000000   \n",
       "\n",
       "            thall      output  \n",
       "count  303.000000  303.000000  \n",
       "mean     2.313531    0.544554  \n",
       "std      0.612277    0.498835  \n",
       "min      0.000000    0.000000  \n",
       "25%      2.000000    0.000000  "
      ]
     },
     "execution_count": 4,
     "metadata": {},
     "output_type": "execute_result"
    }
   ],
   "source": [
    "h_desc = heart.describe()\n",
    "h_desc.head()"
   ]
  },
  {
   "cell_type": "code",
   "execution_count": 5,
   "id": "e23cad07",
   "metadata": {},
   "outputs": [
    {
     "data": {
      "text/html": [
       "<div>\n",
       "<style scoped>\n",
       "    .dataframe tbody tr th:only-of-type {\n",
       "        vertical-align: middle;\n",
       "    }\n",
       "\n",
       "    .dataframe tbody tr th {\n",
       "        vertical-align: top;\n",
       "    }\n",
       "\n",
       "    .dataframe thead th {\n",
       "        text-align: right;\n",
       "    }\n",
       "</style>\n",
       "<table border=\"1\" class=\"dataframe\">\n",
       "  <thead>\n",
       "    <tr style=\"text-align: right;\">\n",
       "      <th></th>\n",
       "      <th>count</th>\n",
       "      <th>mean</th>\n",
       "      <th>std</th>\n",
       "      <th>min</th>\n",
       "      <th>25%</th>\n",
       "      <th>50%</th>\n",
       "      <th>75%</th>\n",
       "      <th>max</th>\n",
       "      <th>IQR</th>\n",
       "      <th>range</th>\n",
       "      <th>var</th>\n",
       "    </tr>\n",
       "  </thead>\n",
       "  <tbody>\n",
       "    <tr>\n",
       "      <th>age</th>\n",
       "      <td>303.0</td>\n",
       "      <td>54.366337</td>\n",
       "      <td>9.082101</td>\n",
       "      <td>29.0</td>\n",
       "      <td>47.5</td>\n",
       "      <td>55.0</td>\n",
       "      <td>61.0</td>\n",
       "      <td>77.0</td>\n",
       "      <td>13.5</td>\n",
       "      <td>48.0</td>\n",
       "      <td>82.484558</td>\n",
       "    </tr>\n",
       "    <tr>\n",
       "      <th>sex</th>\n",
       "      <td>303.0</td>\n",
       "      <td>0.683168</td>\n",
       "      <td>0.466011</td>\n",
       "      <td>0.0</td>\n",
       "      <td>0.0</td>\n",
       "      <td>1.0</td>\n",
       "      <td>1.0</td>\n",
       "      <td>1.0</td>\n",
       "      <td>1.0</td>\n",
       "      <td>1.0</td>\n",
       "      <td>0.217166</td>\n",
       "    </tr>\n",
       "    <tr>\n",
       "      <th>cp</th>\n",
       "      <td>303.0</td>\n",
       "      <td>0.966997</td>\n",
       "      <td>1.032052</td>\n",
       "      <td>0.0</td>\n",
       "      <td>0.0</td>\n",
       "      <td>1.0</td>\n",
       "      <td>2.0</td>\n",
       "      <td>3.0</td>\n",
       "      <td>2.0</td>\n",
       "      <td>3.0</td>\n",
       "      <td>1.065132</td>\n",
       "    </tr>\n",
       "    <tr>\n",
       "      <th>trtbps</th>\n",
       "      <td>303.0</td>\n",
       "      <td>131.623762</td>\n",
       "      <td>17.538143</td>\n",
       "      <td>94.0</td>\n",
       "      <td>120.0</td>\n",
       "      <td>130.0</td>\n",
       "      <td>140.0</td>\n",
       "      <td>200.0</td>\n",
       "      <td>20.0</td>\n",
       "      <td>106.0</td>\n",
       "      <td>307.586453</td>\n",
       "    </tr>\n",
       "    <tr>\n",
       "      <th>chol</th>\n",
       "      <td>303.0</td>\n",
       "      <td>246.264026</td>\n",
       "      <td>51.830751</td>\n",
       "      <td>126.0</td>\n",
       "      <td>211.0</td>\n",
       "      <td>240.0</td>\n",
       "      <td>274.5</td>\n",
       "      <td>564.0</td>\n",
       "      <td>63.5</td>\n",
       "      <td>438.0</td>\n",
       "      <td>2686.426748</td>\n",
       "    </tr>\n",
       "  </tbody>\n",
       "</table>\n",
       "</div>"
      ],
      "text/plain": [
       "        count        mean        std    min    25%    50%    75%    max   IQR  \\\n",
       "age     303.0   54.366337   9.082101   29.0   47.5   55.0   61.0   77.0  13.5   \n",
       "sex     303.0    0.683168   0.466011    0.0    0.0    1.0    1.0    1.0   1.0   \n",
       "cp      303.0    0.966997   1.032052    0.0    0.0    1.0    2.0    3.0   2.0   \n",
       "trtbps  303.0  131.623762  17.538143   94.0  120.0  130.0  140.0  200.0  20.0   \n",
       "chol    303.0  246.264026  51.830751  126.0  211.0  240.0  274.5  564.0  63.5   \n",
       "\n",
       "        range          var  \n",
       "age      48.0    82.484558  \n",
       "sex       1.0     0.217166  \n",
       "cp        3.0     1.065132  \n",
       "trtbps  106.0   307.586453  \n",
       "chol    438.0  2686.426748  "
      ]
     },
     "execution_count": 5,
     "metadata": {},
     "output_type": "execute_result"
    }
   ],
   "source": [
    "heart_mct = h_desc.transpose()\n",
    "\n",
    "heart_mct[\"IQR\"] = heart_mct[\"75%\"] - heart_mct[\"25%\"]\n",
    "heart_mct[\"range\"] = heart_mct[\"max\"] - heart_mct[\"min\"]\n",
    "heart_mct[\"var\"] = heart_mct[\"std\"]*heart_mct[\"std\"]\n",
    "\n",
    "heart_mct.head()"
   ]
  },
  {
   "cell_type": "code",
   "execution_count": 6,
   "id": "fdb24458",
   "metadata": {},
   "outputs": [
    {
     "data": {
      "text/html": [
       "<div>\n",
       "<style scoped>\n",
       "    .dataframe tbody tr th:only-of-type {\n",
       "        vertical-align: middle;\n",
       "    }\n",
       "\n",
       "    .dataframe tbody tr th {\n",
       "        vertical-align: top;\n",
       "    }\n",
       "\n",
       "    .dataframe thead th {\n",
       "        text-align: right;\n",
       "    }\n",
       "</style>\n",
       "<table border=\"1\" class=\"dataframe\">\n",
       "  <thead>\n",
       "    <tr style=\"text-align: right;\">\n",
       "      <th></th>\n",
       "      <th>age</th>\n",
       "      <th>sex</th>\n",
       "      <th>cp</th>\n",
       "      <th>trtbps</th>\n",
       "      <th>chol</th>\n",
       "      <th>fbs</th>\n",
       "      <th>restecg</th>\n",
       "      <th>thalachh</th>\n",
       "      <th>exng</th>\n",
       "      <th>oldpeak</th>\n",
       "      <th>slp</th>\n",
       "      <th>caa</th>\n",
       "      <th>thall</th>\n",
       "      <th>output</th>\n",
       "    </tr>\n",
       "  </thead>\n",
       "  <tbody>\n",
       "    <tr>\n",
       "      <th>0</th>\n",
       "      <td>63</td>\n",
       "      <td>1</td>\n",
       "      <td>3</td>\n",
       "      <td>145</td>\n",
       "      <td>233</td>\n",
       "      <td>1</td>\n",
       "      <td>0</td>\n",
       "      <td>150</td>\n",
       "      <td>0</td>\n",
       "      <td>2.3</td>\n",
       "      <td>0</td>\n",
       "      <td>0</td>\n",
       "      <td>1</td>\n",
       "      <td>1</td>\n",
       "    </tr>\n",
       "    <tr>\n",
       "      <th>1</th>\n",
       "      <td>37</td>\n",
       "      <td>1</td>\n",
       "      <td>2</td>\n",
       "      <td>130</td>\n",
       "      <td>250</td>\n",
       "      <td>0</td>\n",
       "      <td>1</td>\n",
       "      <td>187</td>\n",
       "      <td>0</td>\n",
       "      <td>3.5</td>\n",
       "      <td>0</td>\n",
       "      <td>0</td>\n",
       "      <td>2</td>\n",
       "      <td>1</td>\n",
       "    </tr>\n",
       "    <tr>\n",
       "      <th>3</th>\n",
       "      <td>56</td>\n",
       "      <td>1</td>\n",
       "      <td>1</td>\n",
       "      <td>120</td>\n",
       "      <td>236</td>\n",
       "      <td>0</td>\n",
       "      <td>1</td>\n",
       "      <td>178</td>\n",
       "      <td>0</td>\n",
       "      <td>0.8</td>\n",
       "      <td>2</td>\n",
       "      <td>0</td>\n",
       "      <td>2</td>\n",
       "      <td>1</td>\n",
       "    </tr>\n",
       "    <tr>\n",
       "      <th>5</th>\n",
       "      <td>57</td>\n",
       "      <td>1</td>\n",
       "      <td>0</td>\n",
       "      <td>140</td>\n",
       "      <td>192</td>\n",
       "      <td>0</td>\n",
       "      <td>1</td>\n",
       "      <td>148</td>\n",
       "      <td>0</td>\n",
       "      <td>0.4</td>\n",
       "      <td>1</td>\n",
       "      <td>0</td>\n",
       "      <td>1</td>\n",
       "      <td>1</td>\n",
       "    </tr>\n",
       "    <tr>\n",
       "      <th>7</th>\n",
       "      <td>44</td>\n",
       "      <td>1</td>\n",
       "      <td>1</td>\n",
       "      <td>120</td>\n",
       "      <td>263</td>\n",
       "      <td>0</td>\n",
       "      <td>1</td>\n",
       "      <td>173</td>\n",
       "      <td>0</td>\n",
       "      <td>0.0</td>\n",
       "      <td>2</td>\n",
       "      <td>0</td>\n",
       "      <td>3</td>\n",
       "      <td>1</td>\n",
       "    </tr>\n",
       "  </tbody>\n",
       "</table>\n",
       "</div>"
      ],
      "text/plain": [
       "   age  sex  cp  trtbps  chol  fbs  restecg  thalachh  exng  oldpeak  slp  \\\n",
       "0   63    1   3     145   233    1        0       150     0      2.3    0   \n",
       "1   37    1   2     130   250    0        1       187     0      3.5    0   \n",
       "3   56    1   1     120   236    0        1       178     0      0.8    2   \n",
       "5   57    1   0     140   192    0        1       148     0      0.4    1   \n",
       "7   44    1   1     120   263    0        1       173     0      0.0    2   \n",
       "\n",
       "   caa  thall  output  \n",
       "0    0      1       1  \n",
       "1    0      2       1  \n",
       "3    0      2       1  \n",
       "5    0      1       1  \n",
       "7    0      3       1  "
      ]
     },
     "execution_count": 6,
     "metadata": {},
     "output_type": "execute_result"
    }
   ],
   "source": [
    "#divide data into male vs. female sets\n",
    "\n",
    "males = heart[heart[\"sex\"]==1].copy()\n",
    "females = heart[heart[\"sex\"]==0].copy()\n",
    "\n",
    "males.head()"
   ]
  },
  {
   "cell_type": "code",
   "execution_count": 7,
   "id": "31ec2758",
   "metadata": {},
   "outputs": [
    {
     "data": {
      "text/html": [
       "<div>\n",
       "<style scoped>\n",
       "    .dataframe tbody tr th:only-of-type {\n",
       "        vertical-align: middle;\n",
       "    }\n",
       "\n",
       "    .dataframe tbody tr th {\n",
       "        vertical-align: top;\n",
       "    }\n",
       "\n",
       "    .dataframe thead th {\n",
       "        text-align: right;\n",
       "    }\n",
       "</style>\n",
       "<table border=\"1\" class=\"dataframe\">\n",
       "  <thead>\n",
       "    <tr style=\"text-align: right;\">\n",
       "      <th></th>\n",
       "      <th>age</th>\n",
       "      <th>sex</th>\n",
       "      <th>cp</th>\n",
       "      <th>trtbps</th>\n",
       "      <th>chol</th>\n",
       "      <th>fbs</th>\n",
       "      <th>restecg</th>\n",
       "      <th>thalachh</th>\n",
       "      <th>exng</th>\n",
       "      <th>oldpeak</th>\n",
       "      <th>slp</th>\n",
       "      <th>caa</th>\n",
       "      <th>thall</th>\n",
       "      <th>output</th>\n",
       "    </tr>\n",
       "  </thead>\n",
       "  <tbody>\n",
       "    <tr>\n",
       "      <th>2</th>\n",
       "      <td>41</td>\n",
       "      <td>0</td>\n",
       "      <td>1</td>\n",
       "      <td>130</td>\n",
       "      <td>204</td>\n",
       "      <td>0</td>\n",
       "      <td>0</td>\n",
       "      <td>172</td>\n",
       "      <td>0</td>\n",
       "      <td>1.4</td>\n",
       "      <td>2</td>\n",
       "      <td>0</td>\n",
       "      <td>2</td>\n",
       "      <td>1</td>\n",
       "    </tr>\n",
       "    <tr>\n",
       "      <th>4</th>\n",
       "      <td>57</td>\n",
       "      <td>0</td>\n",
       "      <td>0</td>\n",
       "      <td>120</td>\n",
       "      <td>354</td>\n",
       "      <td>0</td>\n",
       "      <td>1</td>\n",
       "      <td>163</td>\n",
       "      <td>1</td>\n",
       "      <td>0.6</td>\n",
       "      <td>2</td>\n",
       "      <td>0</td>\n",
       "      <td>2</td>\n",
       "      <td>1</td>\n",
       "    </tr>\n",
       "    <tr>\n",
       "      <th>6</th>\n",
       "      <td>56</td>\n",
       "      <td>0</td>\n",
       "      <td>1</td>\n",
       "      <td>140</td>\n",
       "      <td>294</td>\n",
       "      <td>0</td>\n",
       "      <td>0</td>\n",
       "      <td>153</td>\n",
       "      <td>0</td>\n",
       "      <td>1.3</td>\n",
       "      <td>1</td>\n",
       "      <td>0</td>\n",
       "      <td>2</td>\n",
       "      <td>1</td>\n",
       "    </tr>\n",
       "    <tr>\n",
       "      <th>11</th>\n",
       "      <td>48</td>\n",
       "      <td>0</td>\n",
       "      <td>2</td>\n",
       "      <td>130</td>\n",
       "      <td>275</td>\n",
       "      <td>0</td>\n",
       "      <td>1</td>\n",
       "      <td>139</td>\n",
       "      <td>0</td>\n",
       "      <td>0.2</td>\n",
       "      <td>2</td>\n",
       "      <td>0</td>\n",
       "      <td>2</td>\n",
       "      <td>1</td>\n",
       "    </tr>\n",
       "    <tr>\n",
       "      <th>14</th>\n",
       "      <td>58</td>\n",
       "      <td>0</td>\n",
       "      <td>3</td>\n",
       "      <td>150</td>\n",
       "      <td>283</td>\n",
       "      <td>1</td>\n",
       "      <td>0</td>\n",
       "      <td>162</td>\n",
       "      <td>0</td>\n",
       "      <td>1.0</td>\n",
       "      <td>2</td>\n",
       "      <td>0</td>\n",
       "      <td>2</td>\n",
       "      <td>1</td>\n",
       "    </tr>\n",
       "  </tbody>\n",
       "</table>\n",
       "</div>"
      ],
      "text/plain": [
       "    age  sex  cp  trtbps  chol  fbs  restecg  thalachh  exng  oldpeak  slp  \\\n",
       "2    41    0   1     130   204    0        0       172     0      1.4    2   \n",
       "4    57    0   0     120   354    0        1       163     1      0.6    2   \n",
       "6    56    0   1     140   294    0        0       153     0      1.3    1   \n",
       "11   48    0   2     130   275    0        1       139     0      0.2    2   \n",
       "14   58    0   3     150   283    1        0       162     0      1.0    2   \n",
       "\n",
       "    caa  thall  output  \n",
       "2     0      2       1  \n",
       "4     0      2       1  \n",
       "6     0      2       1  \n",
       "11    0      2       1  \n",
       "14    0      2       1  "
      ]
     },
     "execution_count": 7,
     "metadata": {},
     "output_type": "execute_result"
    }
   ],
   "source": [
    "females.head()"
   ]
  },
  {
   "cell_type": "code",
   "execution_count": 8,
   "id": "7db39a71",
   "metadata": {},
   "outputs": [
    {
     "name": "stdout",
     "output_type": "stream",
     "text": [
      "(207, 14)\n",
      "(96, 14)\n"
     ]
    }
   ],
   "source": [
    "print(males.shape)\n",
    "print(females.shape)"
   ]
  },
  {
   "cell_type": "markdown",
   "id": "2f2a8ef8",
   "metadata": {},
   "source": [
    "### Power calculation (aka 'sensitivity')\n",
    "\n",
    "How many rows do I need for 80% power, and what does that mean?\n",
    "\n",
    "**It is important to perform this step BEFORE hypothesis testing, otherwise, I don't really know if I can be reasonably certain of my conclusions.**\n",
    "\n",
    "The statistical power of a study (sometimes called sensitivity) is **how likely the study is to distinguish an actual effect from one caused by random chance**. \n",
    "\n",
    "As the power increases, the probability of making a Type II error decreases.\n",
    "Type II error is when we fail to reject the NULL hypothesis when it is false; also called a 'false negative'.\n",
    "Beta is the maximum probability of a Type II (false negative) error. \n",
    "\n",
    "Power = 1 - Beta\n",
    "\n",
    "**To increase the power of a test, you may do any of the following:**\n",
    "\n",
    "- Increase the effect size (the difference between the null and alternative values) to be detected\n",
    "- Increase the sample size(s)\n",
    "- Decrease the variability in the sample(s)\n",
    "- Increase the significance level (alpha) of the test "
   ]
  },
  {
   "cell_type": "markdown",
   "id": "5ef875ba",
   "metadata": {},
   "source": [
    "### P-value - the probability of a Type I error\n",
    "\n",
    "- Probability of Type I error: probability of rejecting the NULL hypothesis when it is true.\n",
    "- Probability of observing the result given that the null hypothesis is true.\n",
    "- Probability of obtaining a result **equal to or more extreme than was observed in the data**.\n",
    "- The result of a significance test is claimed to be “statistically significant” if the p-value is less than the significance level (alpha). This means that the null hypothesis (that there is no result) is rejected.\n",
    "\n",
    "#### Summary:\n",
    "\n",
    "- p <= alpha: reject H0, different distribution.\n",
    "- p > alpha: fail to reject H0, same distribution.\n",
    "- Significance level (alpha): Boundary for specifying a statistically significant finding when interpreting the p-value."
   ]
  },
  {
   "cell_type": "markdown",
   "id": "b0168d43",
   "metadata": {},
   "source": [
    "### Hypothesis Testing\n",
    "\n",
    "There must be a hypothesis to test, for power and statistical significance to matter.\n",
    "\n",
    "For example, the NULL hypothesis (H0) for the Pearson’s Correlation test is that **there is no relationship between two variables**. \n",
    "\n",
    "The NULL hypothesis (H0) for the Student’s t test is that **there is no difference between the means of two populations**.\n",
    "\n",
    "Let's try:\n",
    "1. Calculating power\n",
    "2. Setting alpha\n",
    "3. Stating hypotheses \n",
    "4. Conducting a test"
   ]
  },
  {
   "cell_type": "code",
   "execution_count": 9,
   "id": "9e72a7d2",
   "metadata": {},
   "outputs": [],
   "source": [
    "import matplotlib.pyplot as plt\n",
    "from statsmodels.stats.power import TTestIndPower"
   ]
  },
  {
   "cell_type": "code",
   "execution_count": 10,
   "id": "a506193f",
   "metadata": {},
   "outputs": [
    {
     "data": {
      "image/png": "[encoded data removed]",
      "text/plain": [
       "<Figure size 864x720 with 1 Axes>"
      ]
     },
     "metadata": {
      "needs_background": "light"
     },
     "output_type": "display_data"
    }
   ],
   "source": [
    "# Power curves for a Correlation test: age x chol\n",
    "\n",
    "effect_sizes = np.array([0.5, 0.8, 1.0])\n",
    "sample_sizes = np.array(range(90, 310))\n",
    "  \n",
    "# plot power curves\n",
    "obj = TTestIndPower()\n",
    "obj.plot_power(dep_var='nobs', nobs=sample_sizes,\n",
    "               effect_size=effect_sizes)\n",
    "  \n",
    "plt.show()"
   ]
  },
  {
   "cell_type": "code",
   "execution_count": 11,
   "id": "0cd33ed0",
   "metadata": {},
   "outputs": [
    {
     "data": {
      "text/plain": [
       "13.5"
      ]
     },
     "execution_count": 11,
     "metadata": {},
     "output_type": "execute_result"
    }
   ],
   "source": [
    "heart_mct.at[\"age\", \"IQR\"]"
   ]
  },
  {
   "cell_type": "code",
   "execution_count": 12,
   "id": "2149bff6",
   "metadata": {},
   "outputs": [
    {
     "name": "stdout",
     "output_type": "stream",
     "text": [
      "(289,)\n",
      "(289,)\n"
     ]
    }
   ],
   "source": [
    "# Select data and remove outliers using IQR\n",
    "\n",
    "agechol_df = heart[(heart[\"chol\"].notnull()) & (heart[\"chol\"]< heart_mct.at[\"chol\", \"50%\"] + 1.5*heart_mct.at[\"chol\", \"IQR\"]) & \n",
    "            (heart[\"chol\"]> heart_mct.at[\"chol\", \"50%\"] - 1.5*heart_mct.at[\"chol\", \"IQR\"])][[\"age\", \"chol\"]].reset_index()\n",
    "\n",
    "agechol_df = agechol_df.drop(columns=[\"index\"], axis=1)\n",
    "age = agechol_df[\"age\"]\n",
    "chol = agechol_df[\"chol\"]\n",
    "\n",
    "print(age.shape)\n",
    "print(chol.shape)"
   ]
  },
  {
   "cell_type": "code",
   "execution_count": 13,
   "id": "ef37de06",
   "metadata": {},
   "outputs": [
    {
     "name": "stdout",
     "output_type": "stream",
     "text": [
      "Power: 1.000\n"
     ]
    }
   ],
   "source": [
    "from statsmodels.stats.power import TTestPower\n",
    "\n",
    "# Exact power for Correlation test with 148 instances\n",
    "\n",
    "power = TTestPower()\n",
    "n_test = power.solve_power(nobs=289, effect_size = 0.8,\n",
    "                           power = None, alpha = 0.05)\n",
    "print('Power: {:.3f}'.format(n_test))"
   ]
  },
  {
   "cell_type": "code",
   "execution_count": 14,
   "id": "4f1ad9ae",
   "metadata": {},
   "outputs": [
    {
     "name": "stdout",
     "output_type": "stream",
     "text": [
      "(0.18419743610038686, 0.001662365770970183)\n"
     ]
    }
   ],
   "source": [
    "# Great!  Looks like we have sufficient power.  We'll set alpha to 0.05...\n",
    "\n",
    "# H0: There is no significant relationship between age and chol\n",
    "# HA: There is a significant relationship between age and chol at alpha=0.05\n",
    "\n",
    "import scipy.stats as stats\n",
    "\n",
    "r = stats.pearsonr(age, chol)\n",
    "print(r)"
   ]
  },
  {
   "cell_type": "markdown",
   "id": "25d9ee2b",
   "metadata": {},
   "source": [
    "### Pearson correlation\n",
    "\n",
    "Based on the output, we can see that there is a weak positive correlation between age and cholesterol (0.18), and that relationship is statistically significant at alpha=0.05, with a p-value of 0.0017!\n",
    "\n"
   ]
  },
  {
   "cell_type": "code",
   "execution_count": 15,
   "id": "12b1640b",
   "metadata": {},
   "outputs": [
    {
     "data": {
      "text/plain": [
       "[<matplotlib.lines.Line2D at 0x15513eb78e0>]"
      ]
     },
     "execution_count": 15,
     "metadata": {},
     "output_type": "execute_result"
    },
    {
     "data": {
      "image/png": "[encoded data removed]",
      "text/plain": [
       "<Figure size 864x720 with 1 Axes>"
      ]
     },
     "metadata": {
      "needs_background": "light"
     },
     "output_type": "display_data"
    }
   ],
   "source": [
    "plt.plot(age, chol, 'o')\n",
    "\n",
    "#obtain m (slope) and b(intercept) of linear regression line\n",
    "m, b = np.polyfit(age, chol, 1)\n",
    "\n",
    "#add linear regression line to scatterplot \n",
    "plt.plot(age, m*age+b)"
   ]
  },
  {
   "cell_type": "markdown",
   "id": "7fdd067a",
   "metadata": {},
   "source": [
    "### Student's T-test\n",
    "\n",
    "Now, let's perform a student's T test on males vs. females, to see if there is a statistically significant difference in trtbps - resting blood pressure on admission in mmHg.\n",
    "\n",
    "H0: There is no difference in mean trestbps between males and females.\n",
    "\n",
    "HA: There is a statistically significant difference at alpha=0.05."
   ]
  },
  {
   "cell_type": "code",
   "execution_count": 16,
   "id": "34c492b0",
   "metadata": {},
   "outputs": [
    {
     "name": "stdout",
     "output_type": "stream",
     "text": [
      "0.463768115942029\n"
     ]
    }
   ],
   "source": [
    "ratio = females.shape[0]/males.shape[0]\n",
    "print(ratio)"
   ]
  },
  {
   "cell_type": "code",
   "execution_count": 17,
   "id": "10f39018",
   "metadata": {},
   "outputs": [
    {
     "name": "stdout",
     "output_type": "stream",
     "text": [
      "Sample Size: 40.063\n"
     ]
    }
   ],
   "source": [
    "# Calculate power\n",
    "\n",
    "# parameters for power analysis\n",
    "effect = 0.8\n",
    "alpha = 0.05\n",
    "power = 0.8\n",
    "\n",
    "# perform power analysis\n",
    "analysis = TTestIndPower()\n",
    "result = analysis.solve_power(effect, power=power, nobs1=None, ratio=ratio, alpha=alpha)\n",
    "print('Sample Size: %.3f' % result)"
   ]
  },
  {
   "cell_type": "code",
   "execution_count": 18,
   "id": "e3200504",
   "metadata": {},
   "outputs": [
    {
     "data": {
      "text/plain": [
       "count     96.000000\n",
       "mean     133.083333\n",
       "std       19.311119\n",
       "min       94.000000\n",
       "25%      120.000000\n",
       "50%      131.000000\n",
       "75%      140.000000\n",
       "max      200.000000\n",
       "IQR       20.000000\n",
       "range    106.000000\n",
       "var      372.919298\n",
       "Name: trtbps, dtype: float64"
      ]
     },
     "execution_count": 18,
     "metadata": {},
     "output_type": "execute_result"
    }
   ],
   "source": [
    "# The minimum # of samples for 80% power is 41, so we are all set!\n",
    "\n",
    "# Let's see what type of T-test we need to use\n",
    "\n",
    "f_desc = females.describe()\n",
    "f_mct = f_desc.transpose()\n",
    "\n",
    "f_mct[\"IQR\"] = f_mct[\"75%\"] - f_mct[\"25%\"]\n",
    "f_mct[\"range\"] = f_mct[\"max\"] - f_mct[\"min\"]\n",
    "f_mct[\"var\"] = f_mct[\"std\"]*f_mct[\"std\"]\n",
    "\n",
    "m_desc = males.describe()\n",
    "m_mct = m_desc.transpose()\n",
    "\n",
    "m_mct[\"IQR\"] = m_mct[\"75%\"] - m_mct[\"25%\"]\n",
    "m_mct[\"range\"] = m_mct[\"max\"] - m_mct[\"min\"]\n",
    "m_mct[\"var\"] = m_mct[\"std\"]*m_mct[\"std\"]\n",
    "\n",
    "f_mct.loc[\"trtbps\"]"
   ]
  },
  {
   "cell_type": "code",
   "execution_count": 19,
   "id": "4aaaea0b",
   "metadata": {},
   "outputs": [
    {
     "data": {
      "text/plain": [
       "count    207.000000\n",
       "mean     130.946860\n",
       "std       16.658246\n",
       "min       94.000000\n",
       "25%      120.000000\n",
       "50%      130.000000\n",
       "75%      140.000000\n",
       "max      192.000000\n",
       "IQR       20.000000\n",
       "range     98.000000\n",
       "var      277.497162\n",
       "Name: trtbps, dtype: float64"
      ]
     },
     "execution_count": 19,
     "metadata": {},
     "output_type": "execute_result"
    }
   ],
   "source": [
    "m_mct.loc[\"trtbps\"]"
   ]
  },
  {
   "cell_type": "code",
   "execution_count": 20,
   "id": "076a8a3e",
   "metadata": {},
   "outputs": [
    {
     "data": {
      "text/plain": [
       "Ttest_indResult(statistic=-0.9346487862711281, pvalue=0.35135243789411863)"
      ]
     },
     "execution_count": 20,
     "metadata": {},
     "output_type": "execute_result"
    }
   ],
   "source": [
    "# Variances are unequal, so we will use Welch's test\n",
    "\n",
    "stats.ttest_ind(males[\"trtbps\"], females[\"trtbps\"], equal_var=False)"
   ]
  },
  {
   "cell_type": "markdown",
   "id": "30da565d",
   "metadata": {},
   "source": [
    "We can accept the NULL hypothesis that average resting blood pressures on admission are **NOT** significantly different  between males and females at alpha=0.05.\n",
    "\n",
    " "
   ]
  }
 ],
 "metadata": {
  "kernelspec": {
   "display_name": "Python 3 (ipykernel)",
   "language": "python",
   "name": "python3"
  },
  "language_info": {
   "codemirror_mode": {
    "name": "ipython",
    "version": 3
   },
   "file_extension": ".py",
   "mimetype": "text/x-python",
   "name": "python",
   "nbconvert_exporter": "python",
   "pygments_lexer": "ipython3",
   "version": "3.8.5"
  }
 },
 "nbformat": 4,
 "nbformat_minor": 5
}
